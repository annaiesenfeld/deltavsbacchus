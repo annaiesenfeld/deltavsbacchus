{
  "nbformat": 4,
  "nbformat_minor": 0,
  "metadata": {
    "colab": {
      "name": "Image_Analysis_CompAssays.ipynb",
      "provenance": [],
      "collapsed_sections": [],
      "authorship_tag": "ABX9TyNK32ml/vKHGC2l4eaCuH6i",
      "include_colab_link": true
    },
    "kernelspec": {
      "name": "python3",
      "display_name": "Python 3"
    },
    "language_info": {
      "name": "python"
    }
  },
  "cells": [
    {
      "cell_type": "markdown",
      "metadata": {
        "id": "view-in-github",
        "colab_type": "text"
      },
      "source": [
        "<a href=\"https://colab.research.google.com/github/annaiesenfeld/deltavsbacchus/blob/main/Image_Analysis_CompAssays.ipynb\" target=\"_parent\"><img src=\"https://colab.research.google.com/assets/colab-badge.svg\" alt=\"Open In Colab\"/></a>"
      ]
    },
    {
      "cell_type": "markdown",
      "source": [
        "# Initial Setup "
      ],
      "metadata": {
        "id": "VMd2Fmhg_1BG"
      }
    },
    {
      "cell_type": "code",
      "execution_count": null,
      "metadata": {
        "id": "V37HqBVX-SQc"
      },
      "outputs": [],
      "source": [
        "!git clone https://gitlab.com/dunloplab/delta.git\n",
        "\n",
        "!pip install -r delta/requirements.txt\n",
        "!pip install python-bioformats"
      ]
    },
    {
      "cell_type": "code",
      "source": [
        "\n",
        "import sys\n",
        "sys.path.append('/content/delta')\n",
        "\n",
        "import delta"
      ],
      "metadata": {
        "id": "-GSXfvAF-kcr"
      },
      "execution_count": null,
      "outputs": []
    },
    {
      "cell_type": "code",
      "source": [
        "delta.assets.download_assets(\n",
        "    load_models=True,\n",
        "    load_sets=False,\n",
        "    load_evals=False,\n",
        "    config_level='global'\n",
        ")"
      ],
      "metadata": {
        "id": "NJ1txCPD-xN0"
      },
      "execution_count": null,
      "outputs": []
    },
    {
      "cell_type": "code",
      "source": [
        "from google.colab import drive\n",
        "\n",
        "drive.mount('/content/gdrive2/', force_remount=True)\n",
        "\n",
        "# To download files to your local drive:\n",
        "from google.colab.files import download as colab_download\n",
        "from google.colab.files import upload as colab_upload\n",
        "\n",
        "# To display resuults movies:\n",
        "from IPython.display import HTML\n",
        "from base64 import b64encode\n",
        "\n",
        "def display_movie(filename):\n",
        "  mp4 = open(filename,'rb').read()\n",
        "  data_url = \"data:video/mp4;base64,\" + b64encode(mp4).decode()\n",
        "  return HTML(\"\"\"\n",
        "  <video width=600 controls>\n",
        "        <source src=\"%s\" type=\"video/mp4\">\n",
        "  </video>\n",
        "  \"\"\" % data_url\n",
        "  )"
      ],
      "metadata": {
        "id": "OIA1P3rg_g9g"
      },
      "execution_count": null,
      "outputs": []
    },
    {
      "cell_type": "code",
      "source": [
        "# code to calculate crowdedness during a division event \n",
        "import math\n",
        "import numpy as np\n",
        "\n",
        "def get_colony(cells, mother_id):\n",
        "  colony = []\n",
        "  colony.append(mother_id)\n",
        "  for cell in lin.cells:\n",
        "    if cell['mother'] == mother_id or cell['mother'] in colony:\n",
        "      colony.append(cell['id'])\n",
        "                    \n",
        "  return colony \n",
        "\n",
        "\n",
        "def get_centre(npole, opole): # get cell centre, using the coordinates between two poles of the cell \n",
        "  cell_centre = ((npole[0] + opole[0])/2 ,  (npole[1] + opole[1])/2)\n",
        "  return cell_centre\n",
        "\n",
        "def get_cell_dist(centre1, centre2): # get the distance between two cell centres \n",
        "  # dist = ((centre1[0] + centre2[0])/2 ,  (centre1[1] + centre2[1])/2)\n",
        "  dist = math.sqrt(((centre1[0] - centre2[0])**2 + (centre1[1] - centre2[1])**2))\n",
        "  return dist\n",
        "\n",
        "def get_crowd_2(cell_dist, cell_length):\n",
        "  crowd = math.e**((-cell_dist/cell_length))\n",
        "  return crowd\n",
        "\n",
        "# not useful - use centre \n",
        "def is_neighbour(centre1, c2_opole, c2_npole, cell1_l0):\n",
        "  dist_opole = math.sqrt(((centre1[0] - c2_opole[0])**2 + (centre1[1] - c2_opole[1])**2))\n",
        "  dist_npole = math.sqrt(((centre1[0] - c2_npole[0])**2 + (centre1[1] - c2_npole[1])**2))\n",
        "  if dist_opole < 2*cell1_l0 or dist_npole < 2*cell1_l0: \n",
        "    return True \n",
        "  else: \n",
        "    return False \n",
        "\n",
        "def is_in_radius(centre1,cell1_l0,c2_opole, c2_npole): \n",
        "  radius = cell1_l0 * 2 \n",
        "  return(((c2_opole[0] - centre1[0])**2 + (c2_opole[1] - centre1[1])**2) < radius **2 or  ((c2_npole[0] - centre1[0])**2 + (c2_npole[1] - centre1[1])**2) < radius **2)\n",
        "  \n",
        "def get_length_alt(npole, opole):\n",
        "  cell_length = math.sqrt((opole[0]- npole[0])**2 + (opole[1]- npole[1])**2)\n",
        "  return cell_length\n",
        "\n",
        "def get_poleside(centre1, opole1, npole1, npole2, opole2, cell1_length, cell1_width):\n",
        "  # substracting the coordinates of the centre of cell1 ( the cell in question) from the poles of all cells \n",
        "  # After this, the centre of cell 1 lies at 0,0 \n",
        "  opole1_new = [opole1[0] - centre1[0], opole1[1] - centre1[1]]\n",
        "  npole1_new = [npole1[0] - centre1[0] , npole1[1] - centre1[1]]\n",
        "  npole2_new = [npole2[0] - centre1[0] , npole2[1] - centre1[1]]\n",
        "  opole2_new = [opole2[0] - centre1[0] , opole2[1] - centre1[1]]\n",
        "  # tan theta for cell 1: y(npole)- y(opole) / x(npole) -x(opole)\n",
        "  # opole and npole is just delta nomenclature for the 2 poles \n",
        "  tantheta = (opole1[1]- npole1[1]) / (opole1[0]- npole1[0])\n",
        "  # using arctan to get theta \n",
        "  theta = math.atan(tantheta)\n",
        "  #  creating a rotation matrix, rot using the theta obtained \n",
        "  rot = np.array([[math.cos(theta), -math.sin(theta)], [math.sin(theta), math.cos(theta)]])\n",
        "  # multiplying each coordinate by rotation matrix to perform rotation\n",
        "  opole1_rot = np.dot(rot, opole1_new)\n",
        "  npole1_rot = np.dot(rot, npole1_new)\n",
        "  opole2_rot = np.dot(rot, opole2_new)    \n",
        "  npole2_rot = np.dot(rot, npole2_new)\n",
        "  # now for each pole of cell 2 : \n",
        "  # first checking that the x coordinate lies within the length of cell 1 \n",
        "  if abs(npole2_rot[0]) < cell1_length:\n",
        "    # if that is the case, checking that the y coordinate is within 2w of cell1 \n",
        "    if  abs(npole2_rot[1]) < 2*cell1_width:\n",
        "      return True \n",
        "  elif abs(opole2_rot[0]) < cell1_length:\n",
        "    if  abs(opole2_rot[1]) < 2*cell1_width:\n",
        "      return True\n",
        "\n",
        "# flipping the turn function in order to count the pole to side contacts but in the frame of cell 1 \n",
        "def get_poleside_flipped(centre2, opole1, npole1, npole2, opole2, cell2_length, cell2_width):\n",
        "  # substracting the coordinates of the centre of cell1 ( the cell in question) from the poles of all cells \n",
        "  # After this, the centre of cell 1 lies at 0,0 \n",
        "  opole1_new = [opole1[0] - centre2[0], opole1[1] - centre2[1]]\n",
        "  npole1_new = [npole1[0] - centre2[0] , npole1[1] - centre2[1]]\n",
        "  npole2_new = [npole2[0] - centre2[0] , npole2[1] - centre2[1]]\n",
        "  opole2_new = [opole2[0] - centre2[0] , opole2[1] - centre2[1]]\n",
        "  # tan theta for cell 1: y(npole)- y(opole) / x(npole) -x(opole)\n",
        "  # opole and npole is just delta nomenclature for the 2 poles \n",
        "  tantheta = (opole2[1]- npole2[1]) / (opole2[0]- npole2[0])\n",
        "  # using arctan to get theta \n",
        "  theta = math.atan(tantheta)\n",
        "  #  creating a rotation matrix, rot using the theta obtained \n",
        "  rot = np.array([[math.cos(theta), -math.sin(theta)], [math.sin(theta), math.cos(theta)]])\n",
        "  # multiplying each coordinate by rotation matrix to perform rotation\n",
        "  opole1_rot = np.dot(rot, opole1_new)\n",
        "  npole1_rot = np.dot(rot, npole1_new)\n",
        "  opole2_rot = np.dot(rot, opole2_new)    \n",
        "  npole2_rot = np.dot(rot, npole2_new)\n",
        "  # now for each pole of cell 2 : \n",
        "  # first checking that the x coordinate lies within the length of cell 1 \n",
        "  if abs(npole1_rot[0]) < cell2_length:\n",
        "    # if that is the case, checking that the y coordinate is within 2w of cell1 \n",
        "    if  abs(npole1_rot[1]) < 2*cell2_width:\n",
        "      return True \n",
        "  elif abs(opole1_rot[0]) < cell2_length:\n",
        "    if  abs(opole1_rot[1]) < 2*cell2_width:\n",
        "      return True\n",
        " \n",
        " #Colony refinement \n",
        "def refine_colony(colony):\n",
        "  for cnb in colony: \n",
        "    cell = lin.cells[cnb]\n",
        "    npole1 = cell['new_pole'][-1]\n",
        "    opole1 = cell['old_pole'][-1]\n",
        "    # get centre of cell 1 for distance function \n",
        "    cell1_centre = get_centre(npole1, opole1)\n",
        "    cell1_length = get_length_alt(npole1, opole1)\n",
        "    cell1_width = cell['width'][0]\n",
        "    neighbours = 0\n",
        "    for cnb2 in lin.cellnumbers[-1]:\n",
        "      if cnb2 not in colony: \n",
        "        cell2 = lin.cells[cnb2]\n",
        "        npole2 = cell2['new_pole'][-1]\n",
        "        opole2 = cell2['old_pole'][-1]\n",
        "        cell2_centre = get_centre(npole2, opole2)\n",
        "        cell2_length = cell2['length'][0]\n",
        "        cell2_width = cell2['width'][0]\n",
        "      if (get_cell_dist(opole1, npole2) < (2*cell1_width)) or (get_cell_dist(opole1, opole2) < (2*cell1_width)) or (get_cell_dist(npole1, opole2) < (2*cell1_width)) or (get_cell_dist(npole1, npole2) < (2*cell1_width)): \n",
        "        if cnb2 not in colony: \n",
        "          colony.append(cnb2)\n",
        "      \n",
        "  return(colony)\n",
        "\n",
        "  \n"
      ],
      "metadata": {
        "id": "3MzQrDxwCBG3"
      },
      "execution_count": null,
      "outputs": []
    },
    {
      "cell_type": "markdown",
      "source": [
        "#Sample Setup "
      ],
      "metadata": {
        "id": "F5QGQ4cE_6tr"
      }
    },
    {
      "cell_type": "code",
      "source": [
        "\n",
        "delta.config.load_config(presets='2D')\n",
        "\n",
        "#these two lines might fix tracking issues: (only when actually running the pipeline)\n",
        "delta.config.drift_correction = True\n",
        "delta.config.whole_frame_drift = True\n",
        "\n",
        "# # '/content/gdrive/MyDrive/A_Gm_Rep1_Ph_run/A_Gm_Rep1_unzipped',\n",
        "#  # resfolder='/content/gdrive/MyDrive/A_Gm_Rep1_Ph_run/A_Gm_Rep1_eval_movie2/'\n",
        "\n",
        "reader = delta.utilities.xpreader(\n",
        "   '/content/gdrive2/.shortcut-targets-by-id/1PFWG3Y6nCG2LwgS7ZYW9SVyGoRCzbaZI/Delta2Runs/vsFpvB_gm_RepBio1_RepT2_tl/unzipped',\n",
        "    # prototype='Position%01d_Channel%01d_Frame%00002d.tif',\n",
        ")\n",
        "\n",
        "processor = delta.pipeline.Pipeline(\n",
        "    reader,\n",
        "    resfolder='/content/gdrive2/.shortcut-targets-by-id/1PFWG3Y6nCG2LwgS7ZYW9SVyGoRCzbaZI/Delta2Runs/vsFpvB_gm_RepBio1_RepT2_tl/eval_movie',\n",
        "    reload=True\n",
        "    )"
      ],
      "metadata": {
        "id": "QdKrMBAj_z7T"
      },
      "execution_count": null,
      "outputs": []
    },
    {
      "cell_type": "code",
      "source": [
        "lin = processor.positions[0].rois[0].lineage\n"
      ],
      "metadata": {
        "id": "4fORj2maBjfl"
      },
      "execution_count": null,
      "outputs": []
    },
    {
      "cell_type": "markdown",
      "source": [
        "#Image Analysis"
      ],
      "metadata": {
        "id": "mLVORN2BGhBn"
      }
    },
    {
      "cell_type": "code",
      "source": [
        "import os\n",
        "import re\n",
        "import pandas as pd\n",
        "from tifffile import imread\n",
        "from matplotlib import pyplot as plt\n",
        "import numpy as np"
      ],
      "metadata": {
        "id": "43D-GD_7F59i"
      },
      "execution_count": null,
      "outputs": []
    },
    {
      "cell_type": "code",
      "source": [
        "# get image dimensions in pixels \n",
        "from PIL import Image\n",
        "filepath = '/content/gdrive2/.shortcut-targets-by-id/1PFWG3Y6nCG2LwgS7ZYW9SVyGoRCzbaZI/Delta2Runs/vsFpvB_gm_RepBio1_RepT2_tl/unzipped/Position01_Channel01_Frame000008.tif'\n",
        "img = Image.open(filepath)\n",
        "  \n",
        "# get width and height\n",
        "width = img.width\n",
        "height = img.height\n",
        "  \n",
        "# display width and height\n",
        "print(\"The height of the image is: \", height)\n",
        "print(\"The width of the image is: \", width)\n"
      ],
      "metadata": {
        "id": "ADLQ-o58b0bA"
      },
      "execution_count": null,
      "outputs": []
    },
    {
      "cell_type": "code",
      "source": [
        "import numpy as np\n",
        "\n",
        "def create_cell_mask(w,h,centre, radius): \n",
        "  # w = width of image\n",
        "  # h = height of image \n",
        "  # n = the frame you want to look at in a given moment \n",
        "  Y, X = np.ogrid[:h, :w]\n",
        "  dist_from_center = np.sqrt((X - centre[0])**2 + (Y-centre[1])**2)\n",
        "  mask = dist_from_center <= radius\n",
        "  return mask\n",
        "\n",
        "  "
      ],
      "metadata": {
        "id": "6mcgSBAZOJot"
      },
      "execution_count": null,
      "outputs": []
    },
    {
      "cell_type": "code",
      "source": [
        "print(lin.cells[48]['new_pole'])"
      ],
      "metadata": {
        "id": "_aQ-6XqeI34x"
      },
      "execution_count": null,
      "outputs": []
    },
    {
      "cell_type": "code",
      "source": [
        "\n",
        "\n",
        "delta.utilities.cell_fluo(GFP_folder, )"
      ],
      "metadata": {
        "id": "pNBEL_jskct3"
      },
      "execution_count": null,
      "outputs": []
    },
    {
      "cell_type": "code",
      "source": [
        "co_ch = {'wt':[], 'mnt':[]} # initialise dictionary of wt and mutant lineage ids\n",
        "GFP_folder = '/content/gdrive2/.shortcut-targets-by-id/1sR73S8JfI8yRgqG052uxjiO46rLG1Hho/vsFpvB_gm_RepBio1_RepT2/GFP'\n",
        "for gfp in os.listdir(GFP_folder):\n",
        "  if re.search(r'T=31', gfp):\n",
        "    gfp_img_path = GFP_folder+'/'+ gfp\n",
        "    # print(gfp_img_path)\n",
        "\n",
        "RFP_folder = '/content/gdrive2/.shortcut-targets-by-id/1sR73S8JfI8yRgqG052uxjiO46rLG1Hho/vsFpvB_gm_RepBio1_RepT2/RFP'\n",
        "for rfp in os.listdir(RFP_folder):\n",
        "  if re.search(r'T=31', rfp):\n",
        "    rfp_img_path = RFP_folder+'/'+ rfp\n",
        "    # print(rfp_img_path)\n",
        "\n",
        "imageGfp = imread(gfp_img_path) # open RFP and GFP images\n",
        "imageRfp = imread(rfp_img_path)\n",
        "\n",
        "for c in lin.cellnumbers[30]: \n",
        "  # print(c)\n",
        "  cell = lin.cells[c]\n",
        "  j= cell['frames'].index(30)\n",
        "  cell_npole = cell['new_pole'][j]\n",
        "  cell_opole = cell['old_pole'][j]\n",
        "  cell_centre = get_centre(cell_npole, cell_opole)\n",
        "  # print(cell_centre)\n",
        "  cell_radius = (cell['width'][0])\n",
        "  mask = create_cell_mask(2048,2048, cell_centre, cell_radius )\n",
        "\n",
        "  gfp_intensity, rfp_intensity = sum(imageGfp[mask]), sum(imageRfp[mask])\n",
        "  if rfp_intensity > gfp_intensity :\n",
        "    if c not in co_ch['mnt']:\n",
        "      co_ch['mnt'].append(c)\n",
        "      print(str(c), 'mnt')\n",
        "  if gfp_intensity > rfp_intensity:\n",
        "    if c not in co_ch['wt']:\n",
        "      co_ch['wt'].append(c)\n",
        "      # print(str(c),'wt')"
      ],
      "metadata": {
        "collapsed": true,
        "id": "0xygRBS-kR5x"
      },
      "execution_count": null,
      "outputs": []
    },
    {
      "cell_type": "code",
      "source": [
        "# check that colony looks good \n",
        "\n",
        "import numpy as np\n",
        "\n",
        "\n",
        "labels = processor.positions[0].rois[0].label_stack[-1]\n",
        "\n",
        "# Initialize color image (all light gray)\n",
        "color_image = np.full(\n",
        "    shape=labels.shape+(3,),\n",
        "    fill_value=175,\n",
        "    dtype=np.uint8\n",
        "    )\n",
        "\n",
        "# colony1 = get_colony(lin.cells, 1)\n",
        "# colony2 = get_colony(lin.cells, 2)\n",
        "\n",
        "# colony = colony1 + colony2\n",
        "\n",
        "\n",
        "# col_1011_cids, col_1011_neighbours, col_1011_cycles = numneighbours_immediate(colony_1011)\n",
        "\n",
        "for cell in lin.cellnumbers[30]:\n",
        "  if cell in co_ch['mnt']:\n",
        "    color = [255,0,0]\n",
        "  elif cell in co_ch['wt']:\n",
        "    color = [0,255,0]\n",
        "  else:\n",
        "     color = [0,0,0]\n",
        "\n",
        "\n",
        "  for c, val in enumerate(color):\n",
        "      color_image[:,:,c][labels==cell+1]=val\n",
        "      \n",
        "\n",
        "\n",
        "\n",
        "plt.figure(figsize = (15,15))\n",
        "plt.imshow(color_image)"
      ],
      "metadata": {
        "id": "ysdRASfaxUrA"
      },
      "execution_count": null,
      "outputs": []
    },
    {
      "cell_type": "code",
      "source": [
        "import seaborn as sns\n",
        "import statistics as stats\n",
        "\n",
        "first_cells = lin.cells[0]\n",
        "print(first_cells)\n",
        "\n",
        "pop_birth_lengths=[]\n",
        "for cell in lin.cells: \n",
        "  if cell['id'] in co_ch['mnt']:\n",
        "    if cell['id'] in first_cells or cell['mother'] is not None: \n",
        "      birth_length = cell['length'][0]\n",
        "      pop_birth_lengths.append(birth_length)\n",
        "\n",
        "\n",
        "plt.figure(figsize=(7,7))\n",
        "ax2 = sns.distplot(pop_birth_lengths, hist=True, kde=True, \n",
        "             bins=int(len(pop_birth_lengths)/50), color = 'darkblue', \n",
        "             hist_kws={'edgecolor':'black'},\n",
        "             kde_kws={'linewidth': 4})\n",
        "ax2.set_ylabel('Density', fontname = 'STIXGeneral', fontsize = 23)\n",
        "ax2.set_xlabel('Birth length (pixels)', fontname = 'STIXGeneral', fontsize = 23)\n",
        "ax2.set_title ('Birth length distribution in $\\Delta$FpvB P.aureginosa cells', fontname = 'STIXGeneral', fontsize = 23, pad = 20)\n",
        "# ax.set_xticklabels(fontname = 'STIXGeneral', fontsize=20)\n",
        "# ax.set_yticks(fontname = 'STIXGeneral', fontsize=20)\n",
        "ylabels = plt.yticks(fontname = 'STIXGeneral', fontsize=22)\n",
        "xlabels = plt.xticks(fontname = 'STIXGeneral', fontsize=22)\n",
        "plt.show()\n",
        "\n",
        "print(stats.mean(pop_birth_lengths), stats.stdev(pop_birth_lengths))\n",
        "\n"
      ],
      "metadata": {
        "id": "_zNCS3Xt-POi"
      },
      "execution_count": null,
      "outputs": []
    },
    {
      "cell_type": "code",
      "source": [],
      "metadata": {
        "id": "nE3f4__BALNL"
      },
      "execution_count": null,
      "outputs": []
    },
    {
      "cell_type": "code",
      "source": [
        "import matplotlib.pyplot as plt\n",
        "import seaborn as sns \n",
        "from matplotlib import rc\n",
        "import statistics as stat\n",
        "from matplotlib.pyplot import figure\n",
        "\n",
        "lin = processor.positions[0].rois[0].lineage\n",
        "\n",
        "first_cells = lin.cellnumbers[0]\n",
        "\n",
        "pop_div_lengths = []\n",
        "div_frames = []\n",
        "pop_birth_lengths = []\n",
        "\n",
        "for cell in lin.cells: \n",
        "  if cell['id'] in co_ch['mnt']:\n",
        "    daughters = [cell['daughters'].index(daughter) for daughter in cell['daughters'] if daughter is not None]\n",
        "    for daughter in daughters: \n",
        "      if daughters.index(daughter) == 0: \n",
        "        div_len_idx = daughter - 1 \n",
        "        div_length = cell['length'][div_len_idx] \n",
        "        div_frame = cell['frames'][div_len_idx] \n",
        "        pop_div_lengths.append(div_length)\n",
        "        pop_birth_lengths.append(cell['length'][0])\n",
        "        div_frames.append(div_frame)\n",
        "      \n",
        "        \n",
        "\n",
        "\n",
        "plt.figure(figsize=(7,7))\n",
        "ax = sns.distplot(pop_div_lengths, hist=True, kde=True, \n",
        "             bins=int(len(pop_div_lengths)/50), color = 'darkblue', \n",
        "             hist_kws={'edgecolor':'black'},\n",
        "             kde_kws={'linewidth': 4})\n",
        "ax.set_ylabel('Density', fontname = 'STIXGeneral', fontsize = 23)\n",
        "ax.set_xlabel('Division length (pixels)', fontname = 'STIXGeneral', fontsize = 23)\n",
        "ax.set_title ('Division length distribution in $\\Delta$FpvB P.aureginosa cells', fontname = 'STIXGeneral', fontsize = 23, pad = 20)\n",
        "# ax.set_xticklabels(fontname = 'STIXGeneral', fontsize=20)\n",
        "# ax.set_yticks(fontname = 'STIXGeneral', fontsize=20)\n",
        "ylabels = plt.yticks(fontname = 'STIXGeneral', fontsize=22)\n",
        "xlabels = plt.xticks(fontname = 'STIXGeneral', fontsize=22)\n",
        "plt.show()\n",
        "\n",
        "print(stats.mean(pop_div_lengths), stats.stdev(pop_div_lengths))\n",
        "\n",
        "# plt.scatter(div_frames,pop_div_lengths)\n",
        "# plt.xlabel('Division frame', fontname = 'STIXGeneral', fontsize=20)\n",
        "# plt.ylabel('Division length (pixels)', fontname = 'STIXGeneral',  fontsize=20)\n",
        "# # plt.title('Division length in WT P.aureginosa as a function of division frame')\n",
        "# plt.title('Division length in WT P.aureginosa as a function of division frame',fontname = 'STIXGeneral', fontsize=20, pad =20)\n",
        "# plt.xticks(fontname = 'STIXGeneral', fontsize=20)\n",
        "# plt.yticks(fontname = 'STIXGeneral', fontsize=20)\n",
        "# figure(figsize=(20,16))\n",
        "# plt.show()\n"
      ],
      "metadata": {
        "id": "MCkp2j8EARzU"
      },
      "execution_count": null,
      "outputs": []
    },
    {
      "cell_type": "code",
      "source": [
        "co_ch = {'wt':[], 'mnt':[]} # initialise dictionary of wt and mutant lineage ids\n",
        "GFP_folder = '/content/gdrive2/.shortcut-targets-by-id/1sR73S8JfI8yRgqG052uxjiO46rLG1Hho/vsFpvB_gm_RepBio1_RepT2/GFP'\n",
        "for gfp in os.listdir(GFP_folder):\n",
        "  if re.search(r'T=20', gfp):\n",
        "    gfp_img_path = GFP_folder+'/'+ gfp\n",
        "    # print(gfp_img_path)\n",
        "\n",
        "RFP_folder = '/content/gdrive2/.shortcut-targets-by-id/1sR73S8JfI8yRgqG052uxjiO46rLG1Hho/vsFpvB_gm_RepBio1_RepT2/RFP'\n",
        "for rfp in os.listdir(RFP_folder):\n",
        "  if re.search(r'T=20', rfp):\n",
        "    rfp_img_path = RFP_folder+'/'+ rfp\n",
        "    # print(rfp_img_path)\n",
        "\n",
        "imageGfp = imread(gfp_img_path) # open RFP and GFP images\n",
        "imageRfp = imread(rfp_img_path)\n",
        "\n",
        "for c in lin.cellnumbers[20]: \n",
        "  # print(c)\n",
        "  cell = lin.cells[c]\n",
        "  j= cell['frames'].index(20)\n",
        "  cell_npole = cell['new_pole'][j]\n",
        "  cell_opole = cell['old_pole'][j]\n",
        "  cell_centre = get_centre(cell_npole, cell_opole)\n",
        "  # print(cell_centre)\n",
        "  cell_radius = (cell['width'][0])\n",
        "  mask = create_cell_mask(2048,2048, cell_centre, cell_radius )\n",
        "  fluo = delta.utilities.cell_fluo(, mask)\n"
      ],
      "metadata": {
        "id": "8_9i6mjEkyII"
      },
      "execution_count": null,
      "outputs": []
    },
    {
      "cell_type": "code",
      "source": [
        "\n",
        "\n",
        "\n",
        "co_ch = {'wt':[], 'mnt':[]} # initialise dictionary of wt and mutant lineage ids\n",
        "GFP_folder = '/content/gdrive2/.shortcut-targets-by-id/1sR73S8JfI8yRgqG052uxjiO46rLG1Hho/vsFpvB_gm_RepBio1_RepT2/GFP'\n",
        "RFP_folder = '/content/gdrive2/.shortcut-targets-by-id/1sR73S8JfI8yRgqG052uxjiO46rLG1Hho/vsFpvB_gm_RepBio1_RepT2/RFP'\n",
        "\n",
        "\n",
        "\n",
        "for i in range(0,29):\n",
        "  print('frame:'+ str(i))\n",
        "  for gfp in os.listdir(GFP_folder):\n",
        "    if re.search(r'T=%i', gfp):\n",
        "      gfp_img_path = GFP_folder+'/'+ gfp\n",
        "      print(gfp_img_path)\n",
        "\n",
        "\n",
        "  for rfp in os.listdir(RFP_folder):\n",
        "    if re.search(r'T=%i', rfp):\n",
        "      rfp_img_path = RFP_folder+'/'+ rfp\n",
        "      print(rfp_img_path)\n",
        "\n",
        "  imageGfp = imread(gfp_img_path) # open RFP and GFP images\n",
        "  imageRfp = imread(rfp_img_path)\n",
        "  \n",
        "  for c in lin.cellnumbers[i]: \n",
        "    # print(c)\n",
        "    cell = lin.cells[c]\n",
        "    j= cell['frames'].index(i)\n",
        "    cell_npole = cell['new_pole'][j]\n",
        "    cell_opole = cell['old_pole'][j]\n",
        "    cell_centre = get_centre(cell_npole, cell_opole)\n",
        "    # print(cell_centre)\n",
        "    cell_radius = (cell['width'][0])\n",
        "    mask = create_cell_mask(2048,2048, cell_centre, cell_radius )\n",
        "\n",
        "    \n",
        "\n",
        "    gfp_intensity, rfp_intensity = sum(imageGfp[mask]), sum(imageRfp[mask])\n",
        "    if rfp_intensity > gfp_intensity/5:\n",
        "      if c not in co_ch['mnt']:\n",
        "        co_ch['mnt'].append(c)\n",
        "        print(str(c), 'mnt')\n",
        "    elif gfp_intensity/5 > rfp_intensity:\n",
        "      if c not in co_ch['wt']:\n",
        "        co_ch['wt'].append(c)\n",
        "        print(str(c),'wt')\n",
        "        \n"
      ],
      "metadata": {
        "id": "GodFXyBU1-bU"
      },
      "execution_count": null,
      "outputs": []
    },
    {
      "cell_type": "code",
      "source": [],
      "metadata": {
        "id": "MrnCRNsyuKqw"
      },
      "execution_count": null,
      "outputs": []
    },
    {
      "cell_type": "code",
      "source": [
        "\n",
        "# co_ch = {'wt':[], 'mnt':[]} # initialise dictionary of wt and mutant lineage ids\n",
        "# GFP_folder = '/content/gdrive2/.shortcut-targets-by-id/1sR73S8JfI8yRgqG052uxjiO46rLG1Hho/vsFpvB_gm_RepBio1_RepT2/GFP'\n",
        "# for gfp in os.listdir(GFP_folder):\n",
        "#   if re.search(r'T=20', gfp):\n",
        "#     gfp_img_path = GFP_folder+'/'+ gfp\n",
        "#     # print(gfp_img_path)\n",
        "\n",
        "# RFP_folder = '/content/gdrive2/.shortcut-targets-by-id/1sR73S8JfI8yRgqG052uxjiO46rLG1Hho/vsFpvB_gm_RepBio1_RepT2/RFP'\n",
        "# for rfp in os.listdir(RFP_folder):\n",
        "#   if re.search(r'T=20', rfp):\n",
        "#     rfp_img_path = RFP_folder+'/'+ rfp\n",
        "#     # print(rfp_img_path)\n",
        "\n",
        "# imageGfp = imread(gfp_img_path) # open RFP and GFP images\n",
        "# imageRfp = imread(rfp_img_path)\n",
        "\n",
        "# for c in lin.cellnumbers[20]: \n",
        "#   # print(c)\n",
        "#   cell = lin.cells[c]\n",
        "#   j= cell['frames'].index(20)\n",
        "#   cell_npole = cell['new_pole'][j]\n",
        "#   cell_opole = cell['old_pole'][j]\n",
        "#   cell_centre = get_centre(cell_npole, cell_opole)\n",
        "#   # print(cell_centre)\n",
        "#   cell_radius = (cell['width'][0])\n",
        "#   mask = create_cell_mask(2048,2048, cell_centre, cell_radius )\n",
        "\n",
        "#   gfp_intensity, rfp_intensity = sum(imageGfp[mask]), sum(imageRfp[mask])\n",
        "#   if rfp_intensity > gfp_intensity/2 :\n",
        "#     if c not in co_ch['mnt']:\n",
        "#       co_ch['mnt'].append(c)\n",
        "#       print(str(c), 'mnt')\n",
        "#   if gfp_intensity/3 > rfp_intensity:\n",
        "#     if c not in co_ch['wt']:\n",
        "#       co_ch['wt'].append(c)\n",
        "#       print(str(c),'wt')\n"
      ],
      "metadata": {
        "id": "KrDP6Zjeb6bs"
      },
      "execution_count": null,
      "outputs": []
    },
    {
      "cell_type": "code",
      "source": [
        "print(len(lin.cellnumbers))"
      ],
      "metadata": {
        "id": "LZBAuxV-5AJm"
      },
      "execution_count": null,
      "outputs": []
    },
    {
      "cell_type": "code",
      "source": [
        "# check that colony looks good \n",
        "\n",
        "import numpy as np\n",
        "\n",
        "\n",
        "labels = processor.positions[0].rois[0].label_stack[-1]\n",
        "\n",
        "# Initialize color image (all light gray)\n",
        "color_image = np.full(\n",
        "    shape=labels.shape+(3,),\n",
        "    fill_value=175,\n",
        "    dtype=np.uint8\n",
        "    )\n",
        "\n",
        "# colony1 = get_colony(lin.cells, 1)\n",
        "# colony2 = get_colony(lin.cells, 2)\n",
        "\n",
        "# colony = colony1 + colony2\n",
        "\n",
        "\n",
        "# col_1011_cids, col_1011_neighbours, col_1011_cycles = numneighbours_immediate(colony_1011)\n",
        "\n",
        "for cell in lin.cellnumbers[24]:\n",
        "  color = [0,0,0]\n",
        "  # if cell in co_ch['mnt']:\n",
        "  #   color = [0,0,255]\n",
        "  # elif cell in co_ch['wt']:\n",
        "  #   color = [0,255,0]\n",
        "  # else:\n",
        "  #    color = [0,0,0]\n",
        "\n",
        "\n",
        "  for c, val in enumerate(color):\n",
        "      color_image[:,:,c][labels==cell+1]=val\n",
        "      \n",
        "\n",
        "\n",
        "\n",
        "plt.figure(figsize = (15,15))\n",
        "plt.imshow(color_image)"
      ],
      "metadata": {
        "id": "txdfMC0iwfQn"
      },
      "execution_count": null,
      "outputs": []
    },
    {
      "cell_type": "code",
      "source": [
        "# check that colony looks good \n",
        "\n",
        "import numpy as np\n",
        "\n",
        "\n",
        "labels = processor.positions[0].rois[0].label_stack[-1]\n",
        "\n",
        "# Initialize color image (all light gray)\n",
        "color_image = np.full(\n",
        "    shape=labels.shape+(3,),\n",
        "    fill_value=175,\n",
        "    dtype=np.uint8\n",
        "    )\n",
        "\n",
        "# colony1 = get_colony(lin.cells, 1)\n",
        "# colony2 = get_colony(lin.cells, 2)\n",
        "\n",
        "# colony = colony1 + colony2\n",
        "\n",
        "\n",
        "# col_1011_cids, col_1011_neighbours, col_1011_cycles = numneighbours_immediate(colony_1011)\n",
        "\n",
        "for cell in lin.cellnumbers[20]:\n",
        "  if cell in co_ch['mnt']:\n",
        "    color = [0,0,255]\n",
        "  elif cell in co_ch['wt']:\n",
        "    color = [0,255,0]\n",
        "  else:\n",
        "     color = [0,0,0]\n",
        "\n",
        "\n",
        "  for c, val in enumerate(color):\n",
        "      color_image[:,:,c][labels==cell+1]=val\n",
        "      \n",
        "\n",
        "\n",
        "\n",
        "plt.figure(figsize = (15,15))\n",
        "plt.imshow(color_image)"
      ],
      "metadata": {
        "id": "C6i4LstPxWMV"
      },
      "execution_count": null,
      "outputs": []
    },
    {
      "cell_type": "code",
      "source": [
        "# check that colony looks good \n",
        "\n",
        "import numpy as np\n",
        "\n",
        "\n",
        "labels = processor.positions[0].rois[0].label_stack[-1]\n",
        "\n",
        "# Initialize color image (all light gray)\n",
        "color_image = np.full(\n",
        "    shape=labels.shape+(3,),\n",
        "    fill_value=175,\n",
        "    dtype=np.uint8\n",
        "    )\n",
        "\n",
        "# colony1 = get_colony(lin.cells, 1)\n",
        "# colony2 = get_colony(lin.cells, 2)\n",
        "\n",
        "# colony = colony1 + colony2\n",
        "\n",
        "\n",
        "# col_1011_cids, col_1011_neighbours, col_1011_cycles = numneighbours_immediate(colony_1011)\n",
        "\n",
        "for cell in lin.cellnumbers[-2]:\n",
        "  if cell in co_ch['mnt']:\n",
        "    color = [0,0,255]\n",
        "  elif cell in co_ch['wt']:\n",
        "    color = [0,255,0]\n",
        "  else:\n",
        "     color = [0,0,0]\n",
        "\n",
        "\n",
        "  for c, val in enumerate(color):\n",
        "      color_image[:,:,c][labels==cell+1]=val\n",
        "      \n",
        "\n",
        "\n",
        "\n",
        "plt.figure(figsize = (15,15))\n",
        "plt.imshow(color_image)"
      ],
      "metadata": {
        "id": "NZgZ24msuvgM"
      },
      "execution_count": null,
      "outputs": []
    },
    {
      "cell_type": "code",
      "source": [
        "#  create copy of lin.cells for modification \n",
        "import copy\n",
        "\n",
        "lin.cells2 = copy.deepcopy(lin.cells)"
      ],
      "metadata": {
        "id": "H4-955yzjrZp"
      },
      "execution_count": null,
      "outputs": []
    },
    {
      "cell_type": "code",
      "source": [
        "import os \n",
        "GFP_folder = '/content/gdrive2/.shortcut-targets-by-id/1sR73S8JfI8yRgqG052uxjiO46rLG1Hho/vsFpvB_gm_RepBio1_RepT2/GFP'\n",
        "for gfp in os.listdir(GFP_folder):\n",
        "  if re.search(r'T=0\\b', gfp):\n",
        "    gfp_img_path = GFP_folder+'/'+ gfp\n",
        "    print(gfp_img_path)\n",
        "    break\n",
        "\n",
        "  #  T_ = file.split('T=',2)\n",
        "  #  T = T_[1][0]+T_[1][1]\n",
        "   \n",
        "imageGfp = imread(gfp_img_path)\n",
        "  \n",
        "\n"
      ],
      "metadata": {
        "id": "5-NmKD24lNBN"
      },
      "execution_count": null,
      "outputs": []
    },
    {
      "cell_type": "code",
      "source": [
        "imageGfp"
      ],
      "metadata": {
        "id": "YXoz6GA6tuQ-"
      },
      "execution_count": null,
      "outputs": []
    },
    {
      "cell_type": "code",
      "source": [
        "# get centre \n",
        "\n",
        "for cnb in lin.cellnumbers[0]:\n",
        "  cell = lin.cells2[cnb]\n",
        "  cell_npole = cell['new_pole'][0]\n",
        "  cell_opole = cell['old_pole'][0]\n",
        "  cell_centre = get_centre(cell_npole, cell_opole)\n",
        "  print(cell_centre)\n",
        "\n",
        "\n"
      ],
      "metadata": {
        "id": "48_dLW9mGprl"
      },
      "execution_count": null,
      "outputs": []
    },
    {
      "cell_type": "markdown",
      "source": [
        "# Image analysis but for vsA "
      ],
      "metadata": {
        "id": "F-mn5joceA5L"
      }
    },
    {
      "cell_type": "code",
      "source": [
        "delta.config.load_config(presets='2D')\n",
        "\n",
        "#these two lines might fix tracking issues: (only when actually running the pipeline)\n",
        "delta.config.drift_correction = True\n",
        "delta.config.whole_frame_drift = True\n",
        "\n",
        "# # '/content/gdrive/MyDrive/A_Gm_Rep1_Ph_run/A_Gm_Rep1_unzipped',\n",
        "#  # resfolder='/content/gdrive/MyDrive/A_Gm_Rep1_Ph_run/A_Gm_Rep1_eval_movie2/'\n",
        "\n",
        "reader = delta.utilities.xpreader(\n",
        "   '/content/gdrive2/.shortcut-targets-by-id/1PFWG3Y6nCG2LwgS7ZYW9SVyGoRCzbaZI/Delta2Runs/vsFpvA_gm_RepBio1_RepT2_tl/unzipped_images',\n",
        "    # prototype='Position%01d_Channel%01d_Frame%00002d.tif',\n",
        ")\n",
        "\n",
        "processor = delta.pipeline.Pipeline(\n",
        "    reader,\n",
        "    resfolder='/content/gdrive2/.shortcut-targets-by-id/1PFWG3Y6nCG2LwgS7ZYW9SVyGoRCzbaZI/Delta2Runs/vsFpvA_gm_RepBio1_RepT2_tl/eval_movie',\n",
        "    reload=True\n",
        "    )"
      ],
      "metadata": {
        "id": "gdLn_W8WeD2R"
      },
      "execution_count": null,
      "outputs": []
    },
    {
      "cell_type": "code",
      "source": [
        "lin = processor.positions[0].rois[0].lineage"
      ],
      "metadata": {
        "id": "u7j3ewOtewar"
      },
      "execution_count": null,
      "outputs": []
    },
    {
      "cell_type": "code",
      "source": [
        "for cell in lin.cells: \n",
        "  print(cell['width'])"
      ],
      "metadata": {
        "id": "OtPFJYaa33Gy"
      },
      "execution_count": null,
      "outputs": []
    },
    {
      "cell_type": "code",
      "source": [
        "co_ch = {'wt':[], 'mnt':[]} # initialise dictionary of wt and mutant lineage ids\n",
        "\n",
        "for i in range(0,29):\n",
        "  print('frame:'+ str(i))\n",
        "  GFP_folder = '/content/gdrive2/.shortcut-targets-by-id/1PFWG3Y6nCG2LwgS7ZYW9SVyGoRCzbaZI/Delta2Runs/vsFpvA_gm_RepBio1_RepT2_tl/Rep2/GFP'\n",
        "  for gfp in os.listdir(GFP_folder):\n",
        "    if re.search(r'T=%i', gfp):\n",
        "      gfp_img_path = GFP_folder+'/'+ gfp\n",
        "      # print(gfp_img_path)\n",
        "\n",
        "  RFP_folder = '/content/gdrive2/.shortcut-targets-by-id/1PFWG3Y6nCG2LwgS7ZYW9SVyGoRCzbaZI/Delta2Runs/vsFpvA_gm_RepBio1_RepT2_tl/Rep2/RFP'\n",
        "  for rfp in os.listdir(RFP_folder):\n",
        "    if re.search(r'T=%i', rfp):\n",
        "      rfp_img_path = RFP_folder+'/'+ rfp\n",
        "      print(rfp_img_path)\n",
        "\n",
        "  \n",
        "  for c in lin.cellnumbers[i]: \n",
        "    # print(c)\n",
        "    cell = lin.cells[c]\n",
        "    j= cell['frames'].index(i)\n",
        "    cell_npole = cell['new_pole'][j]\n",
        "    cell_opole = cell['old_pole'][j]\n",
        "    cell_centre = get_centre(cell_npole, cell_opole)\n",
        "    # print(cell_centre)\n",
        "    cell_radius = (cell['width'][0])\n",
        "    mask = create_cell_mask(2048,2048, cell_centre, 6)\n",
        "\n",
        "    imageGfp = imread(gfp_img_path) # open RFP and GFP images\n",
        "    imageRfp = imread(rfp_img_path)\n",
        "\n",
        "    gfp_intensity, rfp_intensity = sum(imageGfp[mask]), sum(imageRfp[mask])\n",
        "    print(gfp_intensity, rfp_intensity)\n",
        "    if rfp_intensity > gfp_intensity :\n",
        "      print(str(c), 'mnt')\n",
        "      if c not in co_ch['mnt']:\n",
        "        co_ch['mnt'].append(c)\n",
        "    if gfp_intensity > rfp_intensity:\n",
        "      if c not in co_ch['wt']:\n",
        "        co_ch['wt'].append(c)\n",
        "        print(str(c),'wt')\n",
        "  "
      ],
      "metadata": {
        "id": "GAn7nVeMx2gX"
      },
      "execution_count": null,
      "outputs": []
    },
    {
      "cell_type": "code",
      "source": [
        "# check that colony looks good \n",
        "\n",
        "import numpy as np\n",
        "\n",
        "\n",
        "labels = processor.positions[0].rois[0].label_stack[-1]\n",
        "\n",
        "# Initialize color image (all light gray)\n",
        "color_image = np.full(\n",
        "    shape=labels.shape+(3,),\n",
        "    fill_value=175,\n",
        "    dtype=np.uint8\n",
        "    )\n",
        "\n",
        "# colony1 = get_colony(lin.cells, 1)\n",
        "# colony2 = get_colony(lin.cells, 2)\n",
        "\n",
        "# colony = colony1 + colony2\n",
        "\n",
        "\n",
        "# col_1011_cids, col_1011_neighbours, col_1011_cycles = numneighbours_immediate(colony_1011)\n",
        "\n",
        "for cell in lin.cellnumbers[-2]:\n",
        "  if cell in co_ch['mnt']:\n",
        "    color = [0,0,255]\n",
        "  elif cell in co_ch['wt']:\n",
        "    color = [0,255,0]\n",
        "  else:\n",
        "     color = [0,0,0]\n",
        "\n",
        "\n",
        "  for c, val in enumerate(color):\n",
        "      color_image[:,:,c][labels==cell+1]=val\n",
        "      \n",
        "\n",
        "\n",
        "\n",
        "plt.figure(figsize = (15,15))\n",
        "plt.imshow(color_image)"
      ],
      "metadata": {
        "id": "ApdaiVu_2KaD"
      },
      "execution_count": null,
      "outputs": []
    },
    {
      "cell_type": "code",
      "source": [
        "print(len(co_ch['mnt']))"
      ],
      "metadata": {
        "id": "EQ6uGjKb2Nme"
      },
      "execution_count": null,
      "outputs": []
    },
    {
      "cell_type": "code",
      "source": [
        "GFP_folder = '/content/gdrive2/.shortcut-targets-by-id/1qthuP1OIiIg1Lnw7lfFtx1ueNMHZemtI/FpvA_gm_RepBio1_Rep2T/GFP'\n",
        "for gfp in os.listdir(GFP_folder):\n",
        "  if re.search(r'T=30', gfp):\n",
        "    gfp_img_path = GFP_folder+'/'+ gfp\n",
        "    # print(gfp_img_path)\n",
        "\n",
        "RFP_folder = '/content/gdrive2/.shortcut-targets-by-id/1qthuP1OIiIg1Lnw7lfFtx1ueNMHZemtI/FpvA_gm_RepBio1_Rep2T/RFP'\n",
        "for rfp in os.listdir(RFP_folder):\n",
        "  if re.search(r'T=30', rfp):\n",
        "    rfp_img_path = RFP_folder+'/'+ rfp\n",
        "    # print(rfp_img_path)\n",
        "\n",
        "imageGfp = imread(gfp_img_path) # open RFP and GFP images\n",
        "imageRfp = imread(rfp_img_path)\n",
        "\n",
        "for c in lin.cellnumbers[-1]: \n",
        "  # print(c)\n",
        "  cell = lin.cells[c]\n",
        "  # j= cell['frames'].index(i)\n",
        "  cell_npole = cell['new_pole'][-1]\n",
        "  cell_opole = cell['old_pole'][-1]\n",
        "  cell_centre = get_centre(cell_npole, cell_opole)\n",
        "  # print(cell_centre)\n",
        "  cell_radius = (cell['width'][0])\n",
        "  mask = create_cell_mask(2048,2048, cell_centre, cell_radius )\n",
        "\n",
        "  gfp_intensity, rfp_intensity = sum(imageGfp[mask]), sum(imageRfp[mask])\n",
        "  print(gfp_intensity, rfp_intensity)\n",
        "  if rfp_intensity > gfp_intensity:\n",
        "      print(str(c), 'mnt')\n",
        "  if gfp_intensity > rfp_intensity:\n",
        "      # print(str(c),'wt')\n",
        "      print('/')\n"
      ],
      "metadata": {
        "id": "sFDNRXxjeUxQ"
      },
      "execution_count": null,
      "outputs": []
    },
    {
      "cell_type": "code",
      "source": [
        "\n"
      ],
      "metadata": {
        "id": "Y1TBDK5PeUrJ"
      },
      "execution_count": null,
      "outputs": []
    }
  ]
}