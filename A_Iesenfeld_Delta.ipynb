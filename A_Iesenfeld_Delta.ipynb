{
  "cells": [
    {
      "cell_type": "markdown",
      "metadata": {
        "id": "view-in-github",
        "colab_type": "text"
      },
      "source": [
        "<a href=\"https://colab.research.google.com/github/annaiesenfeld/deltavsbacchus/blob/main/A_Iesenfeld_Delta.ipynb\" target=\"_parent\"><img src=\"https://colab.research.google.com/assets/colab-badge.svg\" alt=\"Open In Colab\"/></a>"
      ]
    },
    {
      "cell_type": "markdown",
      "metadata": {
        "id": "6AIsgbtn5H1L"
      },
      "source": [
        "This [Colab](https://research.google.com/colaboratory/faq.html) notebook is meant to be used as a quick demonstration of DeLTA's \n",
        "capabilities. Use of Google Colab is free, but Google might kill your process if\n",
        "you use too many resources. We offer 3 approaches to run evaluations for movies \n",
        "that we have made available with our software, but you can copy and modify this \n",
        "notebook to run on your own data. If you would like to know more check out our\n",
        "Gitlab repository:\n",
        "\n",
        "https://gitlab.com/dunloplab/delta\n",
        "\n",
        "⚠ Important ⚠\n",
        "\n",
        "Before you get started, make sure you run this notebook with a GPU:\n",
        "```\n",
        "Menu > Runtime > Change runtime type\n",
        "```"
      ]
    },
    {
      "cell_type": "markdown",
      "metadata": {
        "id": "t1_QeAZfEskn"
      },
      "source": [
        "# Installation and setup\n",
        "\n",
        "> *For each code cell below, you will need to run it by clicking the play button (you also can collapse this whole installation section with the down arrow on the left and run it all as one big cell)*\n",
        "\n",
        "\n",
        "First, download the code and install the environment. Here we are going to do it through pip and use the sources from gitlab because conda takes a very long time to resolve the environment in Colab for some reason:"
      ]
    },
    {
      "cell_type": "code",
      "execution_count": null,
      "metadata": {
        "id": "S0z6E5PEDgIz"
      },
      "outputs": [],
      "source": [
        "!git clone https://gitlab.com/dunloplab/delta.git\n",
        "\n",
        "!pip install -r delta/requirements.txt\n",
        "!pip install python-bioformats\n",
        "\n"
      ]
    },
    {
      "cell_type": "code",
      "execution_count": null,
      "metadata": {
        "id": "-mjmr7HOHTJf"
      },
      "outputs": [],
      "source": [
        "\n",
        "import sys\n",
        "sys.path.append('/content/delta')\n",
        "\n",
        "import delta\n"
      ]
    },
    {
      "cell_type": "code",
      "execution_count": null,
      "metadata": {
        "id": "XW130gKR-Zru"
      },
      "outputs": [],
      "source": [
        "delta.assets.download_assets(\n",
        "    load_models=True,\n",
        "    load_sets=False,\n",
        "    load_evals=False,\n",
        "    config_level='global'\n",
        ")"
      ]
    },
    {
      "cell_type": "markdown",
      "metadata": {
        "id": "7IxbMEQG_qdc"
      },
      "source": [
        "mount personal Google Drive\n"
      ]
    },
    {
      "cell_type": "code",
      "execution_count": null,
      "metadata": {
        "id": "4Wj1D0HSjQLH"
      },
      "outputs": [],
      "source": [
        "from google.colab import drive\n",
        "\n",
        "drive.mount('/content/gdrive2/', force_remount=True)\n",
        "\n",
        "# To download files to your local drive:\n",
        "from google.colab.files import download as colab_download\n",
        "from google.colab.files import upload as colab_upload\n",
        "\n",
        "# To display resuults movies:\n",
        "from IPython.display import HTML\n",
        "from base64 import b64encode\n",
        "\n",
        "def display_movie(filename):\n",
        "  mp4 = open(filename,'rb').read()\n",
        "  data_url = \"data:video/mp4;base64,\" + b64encode(mp4).decode()\n",
        "  return HTML(\"\"\"\n",
        "  <video width=600 controls>\n",
        "        <source src=\"%s\" type=\"video/mp4\">\n",
        "  </video>\n",
        "  \"\"\" % data_url\n",
        "  )"
      ]
    },
    {
      "cell_type": "markdown",
      "metadata": {
        "id": "SEGZSjKnIbRa"
      },
      "source": [
        "## WT colony in presence of gentamicin "
      ]
    },
    {
      "cell_type": "code",
      "execution_count": null,
      "metadata": {
        "id": "i363vsI-IjDr"
      },
      "outputs": [],
      "source": []
    },
    {
      "cell_type": "markdown",
      "source": [
        "### Load colony"
      ],
      "metadata": {
        "id": "Rw3ySS5RbVC3"
      }
    },
    {
      "cell_type": "code",
      "execution_count": null,
      "metadata": {
        "id": "uJNqm69fHvZs"
      },
      "outputs": [],
      "source": [
        "\n",
        "delta.config.load_config(presets='2D')\n",
        "\n",
        "#these two lines might fix tracking issues: (only when actually running the pipeline)\n",
        "delta.config.drift_correction = True\n",
        "delta.config.whole_frame_drift = True\n",
        "\n",
        "# # '/content/gdrive/MyDrive/A_Gm_Rep1_Ph_run/A_Gm_Rep1_unzipped',\n",
        "#  # resfolder='/content/gdrive/MyDrive/A_Gm_Rep1_Ph_run/A_Gm_Rep1_eval_movie2/'\n",
        "\n",
        "reader = delta.utilities.xpreader(\n",
        "   '/content/gdrive2/.shortcut-targets-by-id/1PFWG3Y6nCG2LwgS7ZYW9SVyGoRCzbaZI/Delta2Runs/WT_gm_RepBio1_RepT2_tl/unzipped',\n",
        "    # prototype='Position%01d_Channel%01d_Frame%00002d.tif',\n",
        ")\n",
        "\n",
        "processor = delta.pipeline.Pipeline(\n",
        "    reader,\n",
        "    resfolder='/content/gdrive2/.shortcut-targets-by-id/1PFWG3Y6nCG2LwgS7ZYW9SVyGoRCzbaZI/Delta2Runs/WT_gm_RepBio1_RepT2_tl/eval_movie',\n",
        "    reload=True\n",
        "    )"
      ]
    },
    {
      "cell_type": "code",
      "execution_count": null,
      "metadata": {
        "id": "kHq_lDUDIswt"
      },
      "outputs": [],
      "source": [
        "# Select all the cells that are in frames 0-23, because in frame 23 the cells have good colonies\n",
        "\n",
        "\n",
        "lin = processor.positions[0].rois[0].lineage\n",
        "chopped = lin.cellnumbers[0:23]\n",
        "\n",
        "chopped_all =[]\n",
        "\n",
        "for list in chopped: \n",
        "  for item in list: \n",
        "    chopped_all.append(item)\n",
        " \n",
        "def unique(list1):\n",
        " \n",
        "    # initialize a null list\n",
        "    unique_list = []\n",
        " \n",
        "    # traverse for all elements\n",
        "    for x in list1:\n",
        "        # check if exists in unique_list or not\n",
        "        if x not in unique_list:\n",
        "            unique_list.append(x)\n",
        "    \n",
        "    return unique_list \n",
        "\n",
        "chopped_unique = unique(chopped_all)\n",
        "    "
      ]
    },
    {
      "cell_type": "code",
      "execution_count": null,
      "metadata": {
        "id": "72kx44lFJTzK"
      },
      "outputs": [],
      "source": [
        "# Finding all of the cells that originated from a given mother cell \n",
        "\n",
        "def get_colony(mother_id):\n",
        "  colony = []\n",
        "  for cell in lin.cells:\n",
        "    if cell['mother'] == mother_id or cell['mother'] in colony:\n",
        "      colony.append(cell['id'])  \n",
        "\n",
        "  return colony\n",
        "\n"
      ]
    },
    {
      "cell_type": "code",
      "execution_count": null,
      "metadata": {
        "id": "7RcoUkzsS_sM"
      },
      "outputs": [],
      "source": [
        "colony_clean =[]\n",
        "\n",
        "for cnb in colony: \n",
        "  cell = lin.cells[cnb]\n",
        "  if max(cell['length']) > 55 and min(cell['length']) < 35:\n",
        "    colony_clean.append(cell['id'])\n",
        "\n"
      ]
    },
    {
      "cell_type": "code",
      "execution_count": null,
      "metadata": {
        "id": "0cSCQuNLIpZx"
      },
      "outputs": [],
      "source": [
        "import matplotlib.pyplot as plt\n",
        "\n",
        "colony = get_colony(3)\n",
        "\n",
        "for cnb in colony_clean: \n",
        "  cell = lin.cells[cnb]\n",
        "  plt.plot(cell['frames'],cell['length'])\n",
        "# for cell in lin.cells: \n",
        "#     plt.plot(cell['frames'],cell['length'])\n",
        "\n",
        "plt.xlabel('frame #')\n",
        "plt.ylabel('length (pixels)')\n",
        "plt.show()"
      ]
    },
    {
      "cell_type": "code",
      "execution_count": null,
      "metadata": {
        "id": "fRKOsQPvh47x"
      },
      "outputs": [],
      "source": [
        "# code to calculate crowdedness during a division event \n",
        "import math\n",
        "\n",
        "def get_centre(npole, opole):\n",
        "  cell_centre = ((npole[0] + opole[0])/2 ,  (npole[1] + opole[1])/2)\n",
        "  return cell_centre\n",
        "\n",
        "def get_cell_dist(centre1, centre2):\n",
        "  # dist = ((centre1[0] + centre2[0])/2 ,  (centre1[1] + centre2[1])/2)\n",
        "  dist = math.sqrt(((centre2[0] - centre1[0])**2 + (centre2[1] - centre1[1])**2))\n",
        "  return dist\n",
        "\n",
        "def get_crowd_2(cell_dist, cell_length):\n",
        "  crowd = math.e**(((-cell_dist)/cell_length))\n",
        "  return crowd\n",
        "\n",
        "  "
      ]
    },
    {
      "cell_type": "code",
      "execution_count": null,
      "metadata": {
        "id": "8iQ4Mrc9ZSXX"
      },
      "outputs": [],
      "source": [
        "def crowdedness_col(colony):\n",
        "  # record keeping for plotting later\n",
        "  # cell id \n",
        "  crowd_ids = [] \n",
        "  \n",
        "  # total crowdedness at a given timepoint, given by frame number \n",
        "  total_crowdedness = []\n",
        "  # length of div cycle between two given daughters\n",
        "  div_cycle_lengths= []\n",
        "  division_lengths =[]\n",
        "  for cnb in colony: \n",
        "    cell = lin.cells[cnb]\n",
        "    daughters = [cell['daughters'].index(daughter) for daughter in cell['daughters'] if daughter is not None]\n",
        "    crowdedness = 0 #assign crowdedness to zero initially \n",
        "    crowd_ids.append(cell['id'])\n",
        "    # print(cell['id'])\n",
        "    # print(daughters)\n",
        "    if len(daughters) > 0: #if the cell has divided\n",
        "      for daughter in daughters: \n",
        "        #take care with definition daughter: daughter is the index position in cell in daughter list, when daughter is not none\n",
        "        # this is then converted to a frame number which can be used to compare and calculate distances to other cells in the same frame\n",
        "        idx= daughter-1\n",
        "        frame_no = cell['frames'][idx]\n",
        "        if frame_no < 23: \n",
        "          npole1 = cell['new_pole'][idx]\n",
        "          opole1 = cell['old_pole'][idx]\n",
        "          # get centre of cell 1 for distance function \n",
        "          cell1_centre = get_centre(npole1, opole1) \n",
        "          cell1_length = cell['length'][0] # l0 of cell, needed in the crowdedness calculation\n",
        "          cell_div_length = cell['length'][idx]\n",
        "          division_lengths.append(cell_div_length)\n",
        "          daughter_index = daughters.index(daughter)\n",
        "          if len(daughters) > 1 and daughter_index > 0:\n",
        "            prev_daughter = daughters[daughter_index-1]\n",
        "            # print(daughter, prev_daughter)\n",
        "            div_cycle = frame_no - cell['frames'][prev_daughter]\n",
        "          else:\n",
        "            div_cycle = frame_no - cell['frames'][0]\n",
        "          # print('div_cycle',div_cycle)\n",
        "          div_cycle_lengths.append(div_cycle)\n",
        "          for cnb2 in colony:\n",
        "            cell2 = lin.cells[cnb2]\n",
        "            if cell['id'] != cell2['id'] and frame_no in cell2['frames']:\n",
        "              idx2 = cell2['frames'].index(frame_no)\n",
        "              npole2 = cell2['new_pole'][idx2]\n",
        "              opole2 = cell2['old_pole'][idx2]\n",
        "              cell2_centre = get_centre(npole2, opole2)\n",
        "              # get distance between the two centre points \n",
        "              cell_dist = get_cell_dist(cell1_centre, cell2_centre)\n",
        "              crowd_pair = get_crowd_2(cell_dist, cell1_length)\n",
        "              crowdedness = crowdedness + crowd_pair \n",
        "              # conditions for calculating cell cycle are different, depending if there is only one div or more\n",
        "          # print(crowdedness)\n",
        "          total_crowdedness.append(crowdedness)\n",
        "\n",
        "  plot = plt.scatter(total_crowdedness, div_cycle_lengths)\n",
        "  plt.xlabel('Crowdedness at division time')\n",
        "  plt.ylabel('Division cycle length ')\n",
        "  # return crowd_ids, division_lengths, total_crowdedness, div_cycle_lengths , plot\n",
        "  return  division_lengths\n",
        "\n",
        "\n",
        "\n",
        "division_lengths = crowdedness_col(colony)\n"
      ]
    },
    {
      "cell_type": "code",
      "execution_count": null,
      "metadata": {
        "id": "fAgvkxXPlpNm"
      },
      "outputs": [],
      "source": [
        "  import seaborn as sns\n",
        "  import statistics\n",
        "  \n",
        "  ax1 = sns.histplot(division_lengths, bins=30, stat='density', alpha= 1, kde=True,\n",
        "                      edgecolor='white', linewidth=0.5,\n",
        "                      line_kws=dict(color='black', alpha=0.5, linewidth=1.5, label='KDE'))\n",
        "  ax1.get_lines()[0].set_color('black')\n",
        "  mn = statistics.mean(division_lengths)\n",
        "  sd = statistics.stdev(division_lengths)\n",
        "\n",
        "  "
      ]
    },
    {
      "cell_type": "code",
      "execution_count": null,
      "metadata": {
        "id": "1b2zShZpTFPX"
      },
      "outputs": [],
      "source": [
        "def crowdedness_col(population):\n",
        "  # record keeping for plotting later\n",
        "  # cell id \n",
        "  crowd_ids = [] \n",
        "  # total crowdedness at a given timepoint, given by frame number \n",
        "  total_crowdedness = []\n",
        "  # length of div cycle between two given daughters\n",
        "  div_cycle_lengths= []\n",
        "  division_lengths =[]\n",
        "  for cell in population: \n",
        "    daughters = [cell['daughters'].index(daughter) for daughter in cell['daughters'] if daughter is not None]\n",
        "    crowdedness = 0 #assign crowdedness to zero initially \n",
        "    crowd_ids.append(cell['id'])\n",
        "    # print(cell['id'])\n",
        "    # print(daughters)\n",
        "    if len(daughters) > 0: #if the cell has divided\n",
        "      for daughter in daughters: \n",
        "        #take care with definition daughter: daughter is the index position in cell in daughter list, when daughter is not none\n",
        "        # this is then converted to a frame number which can be used to compare and calculate distances to other cells in the same frame\n",
        "        idx= daughter-1\n",
        "        frame_no = cell['frames'][idx]\n",
        "        if frame_no < 23: \n",
        "          npole1 = cell['new_pole'][idx]\n",
        "          opole1 = cell['old_pole'][idx]\n",
        "          # get centre of cell 1 for distance function \n",
        "          cell1_centre = get_centre(npole1, opole1) \n",
        "          cell1_length = cell['length'][0] # l0 of cell, needed in the crowdedness calculation\n",
        "          cell_div_length = cell['length'][idx]\n",
        "          division_lengths.append(cell_div_length)\n",
        "          daughter_index = daughters.index(daughter)\n",
        "          if len(daughters) > 1 and daughter_index > 0:\n",
        "            prev_daughter = daughters[daughter_index-1]\n",
        "            # print(daughter, prev_daughter)\n",
        "            div_cycle = frame_no - cell['frames'][prev_daughter]\n",
        "          else:\n",
        "            div_cycle = frame_no - cell['frames'][0]\n",
        "          # print('div_cycle',div_cycle)\n",
        "          div_cycle_lengths.append(div_cycle)\n",
        "          for cell2 in population: \n",
        "            if cell['id'] != cell2['id'] and frame_no in cell2['frames']:\n",
        "              idx2 = cell2['frames'].index(frame_no)\n",
        "              npole2 = cell2['new_pole'][idx2]\n",
        "              opole2 = cell2['old_pole'][idx2]\n",
        "              cell2_centre = get_centre(npole2, opole2)\n",
        "              # get distance between the two centre points \n",
        "              cell_dist = get_cell_dist(cell1_centre, cell2_centre)\n",
        "              crowd_pair = get_crowd_2(cell_dist, cell1_length)\n",
        "              crowdedness = crowdedness + crowd_pair \n",
        "              # conditions for calculating cell cycle are different, depending if there is only one div or more\n",
        "          # print(crowdedness)\n",
        "          total_crowdedness.append(crowdedness)\n",
        "\n",
        "  plot = plt.scatter(total_crowdedness,div_cycle_lengths )\n",
        "  plt.xlabel('Crowdedness at division time')\n",
        "  plt.ylabel('Division cycle length ')\n",
        "  # return crowd_ids, division_lengths, total_crowdedness, div_cycle_lengths , plot\n",
        "  return division_lengths \n",
        "\n",
        "\n",
        "\n",
        "division_lengths = crowdedness_col(lin.cells)"
      ]
    },
    {
      "cell_type": "code",
      "execution_count": null,
      "metadata": {
        "id": "OTUV4SqsZS5z"
      },
      "outputs": [],
      "source": [
        "import seaborn as sns\n",
        "import statistics\n",
        "  \n",
        "ax1 = sns.histplot(division_lengths, bins=30, stat='density', alpha= 1, kde=True,\n",
        "                    edgecolor='white', linewidth=0.5,\n",
        "                    line_kws=dict(color='black', alpha=0.5, linewidth=1.5, label='KDE'))\n",
        "ax1.get_lines()[0].set_color('black')\n",
        "mn = statistics.mean(division_lengths)\n",
        "sd = statistics.stdev(division_lengths)\n",
        "\n",
        "print('Mean Division length' ,  mn , 'pixels')\n",
        "print('Standard deviation' , sd )"
      ]
    },
    {
      "cell_type": "code",
      "execution_count": null,
      "metadata": {
        "id": "C5PgPwTxoANp"
      },
      "outputs": [],
      "source": [
        "initial_lengths = []\n",
        "for cell in lin.cells: \n",
        "  cell1_length =  min(cell['length'])\n",
        "  initial_lengths.append(cell1_length)\n",
        "\n",
        "ax1 = sns.histplot(initial_lengths, bins=30, stat='density', alpha= 1, kde=True,\n",
        "                    edgecolor='white', linewidth=0.5,\n",
        "                    line_kws=dict(color='black', alpha=0.5, linewidth=1.5, label='KDE'))\n",
        "ax1.get_lines()[0].set_color('black')\n",
        "mn = statistics.mean(initial_lengths)\n",
        "sd = statistics.stdev(initial_lengths)\n",
        "\n",
        "print('Cell initial length' ,  mn , 'pixels')\n",
        "print('Standard deviation' , sd )"
      ]
    },
    {
      "cell_type": "markdown",
      "metadata": {
        "id": "6ycYZ8lkFpnT"
      },
      "source": [
        "### Plotting to understand distribution"
      ]
    },
    {
      "cell_type": "code",
      "execution_count": null,
      "metadata": {
        "id": "i22_w6KmkKFJ"
      },
      "outputs": [],
      "source": [
        "\n",
        "def which_first(lineage, cell_nb, first_cells):\n",
        "\n",
        "    # Get cell dict:\n",
        "    cell = lineage.cells[cell_nb]\n",
        "\n",
        "    # If orphan or reached one of the first two cells:\n",
        "    if cell['mother'] is None or cell['mother'] in first_cells:\n",
        "        return cell['mother']\n",
        "\n",
        "    # Otherwise go up the lineage tree:\n",
        "    else:\n",
        "        return which_first(lineage, cell['mother'], first_cells)\n",
        "\n",
        "\n",
        "import numpy as np\n",
        "\n",
        "# Last labels frame:\n",
        "labels = processor.positions[0].rois[0].label_stack[-1]\n",
        "\n",
        "# Initialize color image (all light gray)\n",
        "color_image = np.full(\n",
        "    shape=labels.shape+(3,),\n",
        "    fill_value=175,\n",
        "    dtype=np.uint8\n",
        "    )\n",
        "\n",
        "# Go over cells in last frame:\n",
        "for cnb in lin.cellnumbers[-1]:\n",
        "\n",
        "    # Which initial cell is ancestor?\n",
        "    ancestor = which_first(lin, cnb, first_cells)\n",
        "\n",
        "    # Pick color based on ancestor:\n",
        "    if ancestor is None:\n",
        "        if cnb==0:\n",
        "            color=[255,0,0]\n",
        "        elif cnb==1:\n",
        "            color=[0,0,255]\n",
        "        else:\n",
        "            color=[0,0,0]\n",
        "    elif ancestor==0:\n",
        "        color=[200,60,60]\n",
        "    elif ancestor==1:\n",
        "        color=[60,60,200]\n",
        "\n",
        "    # Color in the cell:\n",
        "    for c, val in enumerate(color):\n",
        "        color_image[:,:,c][labels==cnb+1]=val\n",
        "\n",
        "plt.imshow(color_image)\n",
        "plt.show()\n",
        "\n",
        "\n",
        "                             \n"
      ]
    },
    {
      "cell_type": "code",
      "execution_count": null,
      "metadata": {
        "id": "oIGFzXWaFYCC"
      },
      "outputs": [],
      "source": []
    },
    {
      "cell_type": "markdown",
      "metadata": {
        "id": "iMHx3mp79znm"
      },
      "source": [
        "## WT in the absence of gentamicin \n"
      ]
    },
    {
      "cell_type": "code",
      "execution_count": null,
      "metadata": {
        "id": "CvMKFnEi_9iA"
      },
      "outputs": [],
      "source": [
        "% cd gdrive2\n",
        "% cd MyDrive \n",
        "% cd Delta2Runs\n",
        "% cd WT_Nogm_RepBio1_RepT2_tl\n",
        "% ls"
      ]
    },
    {
      "cell_type": "markdown",
      "source": [
        "### Load colony "
      ],
      "metadata": {
        "id": "O-aqLLRAbkVY"
      }
    },
    {
      "cell_type": "code",
      "execution_count": null,
      "metadata": {
        "id": "QiQ3mbZx93O1"
      },
      "outputs": [],
      "source": [
        "\n",
        "delta.config.load_config(presets='2D')\n",
        "\n",
        "#these two lines might fix tracking issues: (only when actually running the pipeline)\n",
        "delta.config.drift_correction = True\n",
        "delta.config.whole_frame_drift = True\n",
        "\n",
        "# # '/content/gdrive/MyDrive/A_Gm_Rep1_Ph_run/A_Gm_Rep1_unzipped',\n",
        "#  # resfolder='/content/gdrive/MyDrive/A_Gm_Rep1_Ph_run/A_Gm_Rep1_eval_movie2/'\n",
        "\n",
        "reader = delta.utilities.xpreader(\n",
        "   '/content/gdrive2/.shortcut-targets-by-id/1PFWG3Y6nCG2LwgS7ZYW9SVyGoRCzbaZI/Delta2Runs/WT_Nogm_RepBio1_RepT1_tl/unzipped',\n",
        "    # prototype='Position%01d_Channel%01d_Frame%00002d.tif',\n",
        ")\n",
        "\n",
        "processor = delta.pipeline.Pipeline(\n",
        "    reader,\n",
        "    resfolder='/content/gdrive2/.shortcut-targets-by-id/1PFWG3Y6nCG2LwgS7ZYW9SVyGoRCzbaZI/Delta2Runs/WT_Nogm_RepBio1_RepT1_tl/eval_movie',\n",
        "    reload=True\n",
        "    )"
      ]
    },
    {
      "cell_type": "markdown",
      "source": [
        "### Initialise functions needed for all downstream analysis "
      ],
      "metadata": {
        "id": "DYBWh_NHcPAE"
      }
    },
    {
      "cell_type": "code",
      "source": [
        "# code to calculate crowdedness during a division event \n",
        "import math\n",
        "import numpy as np\n",
        "\n",
        "def get_colony(cells, mother_id):\n",
        "  colony = []\n",
        "  colony.append(mother_id)\n",
        "  for cell in lin.cells:\n",
        "    if cell['mother'] == mother_id or cell['mother'] in colony:\n",
        "      colony.append(cell['id'])\n",
        "                    \n",
        "  return colony \n",
        "\n",
        "\n",
        "def get_centre(npole, opole): # get cell centre, using the coordinates between two poles of the cell \n",
        "  cell_centre = ((npole[0] + opole[0])/2 ,  (npole[1] + opole[1])/2)\n",
        "  return cell_centre\n",
        "\n",
        "def get_cell_dist(centre1, centre2): # get the distance between two cell centres \n",
        "  # dist = ((centre1[0] + centre2[0])/2 ,  (centre1[1] + centre2[1])/2)\n",
        "  dist = math.sqrt(((centre1[0] - centre2[0])**2 + (centre1[1] - centre2[1])**2))\n",
        "  return dist\n",
        "\n",
        "def get_crowd_2(cell_dist, cell_length):\n",
        "  crowd = math.e**((-cell_dist/cell_length))\n",
        "  return crowd\n",
        "\n",
        "# not useful - use centre \n",
        "def is_neighbour(centre1, c2_opole, c2_npole, cell1_l0):\n",
        "  dist_opole = math.sqrt(((centre1[0] - c2_opole[0])**2 + (centre1[1] - c2_opole[1])**2))\n",
        "  dist_npole = math.sqrt(((centre1[0] - c2_npole[0])**2 + (centre1[1] - c2_npole[1])**2))\n",
        "  if dist_opole < 2*cell1_l0 or dist_npole < 2*cell1_l0: \n",
        "    return True \n",
        "  else: \n",
        "    return False \n",
        "\n",
        "def is_in_radius(centre1,cell1_l0,c2_opole, c2_npole): \n",
        "  radius = 30 * 1.5\n",
        "  if ((c2_opole[0] - centre1[0])**2 + ((c2_opole[1] - centre1[1])**2) < radius **2) or  ((c2_npole[0] - centre1[0])**2 + ((c2_npole[1] - centre1[1])**2) < radius **2):\n",
        "    return True \n",
        "  else: \n",
        "    return False\n",
        "  \n",
        "def get_length_alt(npole, opole):\n",
        "  cell_length = math.sqrt((opole[0]- npole[0])**2 + (opole[1]- npole[1])**2)\n",
        "  return cell_length\n",
        "\n",
        "def get_poleside(centre1, opole1, npole1, npole2, opole2, cell1_length, cell1_width):\n",
        "  # substracting the coordinates of the centre of cell1 ( the cell in question) from the poles of all cells \n",
        "  # After this, the centre of cell 1 lies at 0,0 \n",
        "  opole1_new = [opole1[0] - centre1[0], opole1[1] - centre1[1]]\n",
        "  npole1_new = [npole1[0] - centre1[0] , npole1[1] - centre1[1]]\n",
        "  npole2_new = [npole2[0] - centre1[0] , npole2[1] - centre1[1]]\n",
        "  opole2_new = [opole2[0] - centre1[0] , opole2[1] - centre1[1]]\n",
        "  # tan theta for cell 1: y(npole)- y(opole) / x(npole) -x(opole)\n",
        "  # opole and npole is just delta nomenclature for the 2 poles \n",
        "  tantheta = (opole1[1]- npole1[1]) / (opole1[0]- npole1[0])\n",
        "  # using arctan to get theta \n",
        "  theta = math.atan(tantheta)\n",
        "  #  creating a rotation matrix, rot using the theta obtained \n",
        "  rot = np.array([[math.cos(theta), -math.sin(theta)], [math.sin(theta), math.cos(theta)]])\n",
        "  # multiplying each coordinate by rotation matrix to perform rotation\n",
        "  opole1_rot = np.dot(rot, opole1_new)\n",
        "  npole1_rot = np.dot(rot, npole1_new)\n",
        "  opole2_rot = np.dot(rot, opole2_new)    \n",
        "  npole2_rot = np.dot(rot, npole2_new)\n",
        "  # now for each pole of cell 2 : \n",
        "  # first checking that the x coordinate lies within the length of cell 1 \n",
        "  if abs(npole2_rot[0]) < cell1_length:\n",
        "    # if that is the case, checking that the y coordinate is within 2w of cell1 \n",
        "    if  abs(npole2_rot[1]) < 2*cell1_width:\n",
        "      return True \n",
        "  elif abs(opole2_rot[0]) < cell1_length:\n",
        "    if  abs(opole2_rot[1]) < 2*cell1_width:\n",
        "      return True\n",
        "\n",
        "# flipping the turn function in order to count the pole to side contacts but in the frame of cell 1 \n",
        "def get_poleside_flipped(centre2, opole1, npole1, npole2, opole2, cell2_length, cell2_width):\n",
        "  # substracting the coordinates of the centre of cell1 ( the cell in question) from the poles of all cells \n",
        "  # After this, the centre of cell 1 lies at 0,0 \n",
        "  opole1_new = [opole1[0] - centre2[0], opole1[1] - centre2[1]]\n",
        "  npole1_new = [npole1[0] - centre2[0] , npole1[1] - centre2[1]]\n",
        "  npole2_new = [npole2[0] - centre2[0] , npole2[1] - centre2[1]]\n",
        "  opole2_new = [opole2[0] - centre2[0] , opole2[1] - centre2[1]]\n",
        "  # tan theta for cell 1: y(npole)- y(opole) / x(npole) -x(opole)\n",
        "  # opole and npole is just delta nomenclature for the 2 poles \n",
        "  tantheta = (opole2[1]- npole2[1]) / (opole2[0]- npole2[0])\n",
        "  # using arctan to get theta \n",
        "  theta = math.atan(tantheta)\n",
        "  #  creating a rotation matrix, rot using the theta obtained \n",
        "  rot = np.array([[math.cos(theta), -math.sin(theta)], [math.sin(theta), math.cos(theta)]])\n",
        "  # multiplying each coordinate by rotation matrix to perform rotation\n",
        "  opole1_rot = np.dot(rot, opole1_new)\n",
        "  npole1_rot = np.dot(rot, npole1_new)\n",
        "  opole2_rot = np.dot(rot, opole2_new)    \n",
        "  npole2_rot = np.dot(rot, npole2_new)\n",
        "  # now for each pole of cell 2 : \n",
        "  # first checking that the x coordinate lies within the length of cell 1 \n",
        "  if abs(npole1_rot[0]) < cell2_length:\n",
        "    # if that is the case, checking that the y coordinate is within 2w of cell1 \n",
        "    if  abs(npole1_rot[1]) < 2*cell2_width:\n",
        "      return True \n",
        "  elif abs(opole1_rot[0]) < cell2_length:\n",
        "    if  abs(opole1_rot[1]) < 2*cell2_width:\n",
        "      return True\n",
        " \n",
        " #Colony refinement \n",
        "def refine_colony(colony):\n",
        "  for cnb in colony: \n",
        "    cell = lin.cells[cnb]\n",
        "    npole1 = cell['new_pole'][-1]\n",
        "    opole1 = cell['old_pole'][-1]\n",
        "    # get centre of cell 1 for distance function \n",
        "    cell1_centre = get_centre(npole1, opole1)\n",
        "    cell1_length = get_length_alt(npole1, opole1)\n",
        "    cell1_width = cell['width'][0]\n",
        "    neighbours = 0\n",
        "    for cnb2 in lin.cellnumbers[-1]:\n",
        "      if cnb2 not in colony: \n",
        "        cell2 = lin.cells[cnb2]\n",
        "        npole2 = cell2['new_pole'][-1]\n",
        "        opole2 = cell2['old_pole'][-1]\n",
        "        cell2_centre = get_centre(npole2, opole2)\n",
        "        cell2_length = cell2['length'][0]\n",
        "        cell2_width = cell2['width'][0]\n",
        "      if (get_cell_dist(opole1, npole2) < (2*cell1_width)) or (get_cell_dist(opole1, opole2) < (2*cell1_width)) or (get_cell_dist(npole1, opole2) < (2*cell1_width)) or (get_cell_dist(npole1, npole2) < (2*cell1_width)): \n",
        "        if cnb2 not in colony: \n",
        "          colony.append(cnb2)\n",
        "      \n",
        "  return(colony)\n",
        "\n",
        "  \n"
      ],
      "metadata": {
        "id": "UFfgfSGBcTtp"
      },
      "execution_count": null,
      "outputs": []
    },
    {
      "cell_type": "markdown",
      "source": [
        "### Get population length distribution"
      ],
      "metadata": {
        "id": "TTHesZEXnP0A"
      }
    },
    {
      "cell_type": "code",
      "source": [
        "import matplotlib.font_manager\n",
        "from IPython.core.display import HTML\n",
        "\n",
        "def make_html(fontname):\n",
        "    return \"<p>{font}: <span style='font-family:{font}; font-size: 24px;'>{font}</p>\".format(font=fontname)\n",
        "\n",
        "code = \"\\n\".join([make_html(font) for font in sorted(set([f.name for f in matplotlib.font_manager.fontManager.ttflist]))])\n",
        "\n",
        "HTML(\"<div style='column-count: 2;'>{}</div>\".format(code))"
      ],
      "metadata": {
        "id": "1STQ--RuxbMw"
      },
      "execution_count": null,
      "outputs": []
    },
    {
      "cell_type": "code",
      "source": [
        "import matplotlib.pyplot as plt\n",
        "import seaborn as sns \n",
        "from matplotlib import rc\n",
        "import statistics as stat\n",
        "from matplotlib.pyplot import figure\n",
        "\n",
        "lin = processor.positions[0].rois[0].lineage\n",
        "\n",
        "first_cells = lin.cellnumbers[0]\n",
        "\n",
        "pop_div_lengths = []\n",
        "div_frames = []\n",
        "pop_birth_lengths = []\n",
        "\n",
        "for cnb  in colony_1011:\n",
        "  cell = lin.cells[cnb]\n",
        "  daughters = [cell['daughters'].index(daughter) for daughter in cell['daughters'] if daughter is not None]\n",
        "  for daughter in daughters: \n",
        "    if daughters.index(daughter) == 0: \n",
        "      div_len_idx = daughter - 1 \n",
        "      div_length = cell['length'][div_len_idx] \n",
        "      div_frame = cell['frames'][div_len_idx] \n",
        "      pop_div_lengths.append(div_length)\n",
        "      pop_birth_lengths.append(cell['length'][0])\n",
        "      div_frames.append(div_frame)\n",
        "    \n",
        "        \n",
        "\n",
        "\n",
        "\n",
        "\n",
        "plt.figure(figsize=(7,7))\n",
        "plt.scatter(div_frames,pop_div_lengths)\n",
        "plt.xlabel('Division frame', fontname = 'STIXGeneral', fontsize=20)\n",
        "plt.ylabel('Division length (pixels)', fontname = 'STIXGeneral',  fontsize=20)\n",
        "# plt.title('Division length in WT P.aureginosa as a function of division frame')\n",
        "plt.title('Division length in WT P.aureginosa as a function of division frame',fontname = 'STIXGeneral', fontsize=20, pad =20)\n",
        "plt.xticks(fontname = 'STIXGeneral', fontsize=20)\n",
        "plt.yticks(fontname = 'STIXGeneral', fontsize=20)\n",
        "figure(figsize=(20,16))\n",
        "plt.show()\n",
        "\n",
        "\n"
      ],
      "metadata": {
        "id": "76mQkybVbc-v"
      },
      "execution_count": null,
      "outputs": []
    },
    {
      "cell_type": "code",
      "source": [
        "import statistics as stats \n",
        "\n",
        "plt.figure(figsize=(7,7))\n",
        "ax = sns.distplot(pop_div_lengths, hist=True, kde=True, \n",
        "             bins=int(len(pop_div_lengths)/50), color = 'darkblue', \n",
        "             hist_kws={'edgecolor':'black'},\n",
        "             kde_kws={'linewidth': 4})\n",
        "ax.set_ylabel('Density', fontname = 'STIXGeneral', fontsize = 23)\n",
        "ax.set_xlabel('Division length (pixels)', fontname = 'STIXGeneral', fontsize = 23)\n",
        "ax.set_title ('Division length distribution in WT P.aureginosa cells', fontname = 'STIXGeneral', fontsize = 23, pad = 20)\n",
        "# ax.set_xticklabels(fontname = 'STIXGeneral', fontsize=20)\n",
        "# ax.set_yticks(fontname = 'STIXGeneral', fontsize=20)\n",
        "ylabels = plt.yticks(fontname = 'STIXGeneral', fontsize=22)\n",
        "xlabels = plt.xticks(fontname = 'STIXGeneral', fontsize=22)\n",
        "plt.show()\n",
        "\n",
        "print(stats.mean(pop_div_lengths), stats.stdev(pop_div_lengths))\n",
        "\n",
        "\n"
      ],
      "metadata": {
        "id": "R8ubnJgpwwKn"
      },
      "execution_count": null,
      "outputs": []
    },
    {
      "cell_type": "code",
      "source": [],
      "metadata": {
        "id": "NMQTDTBHt5Ml"
      },
      "execution_count": null,
      "outputs": []
    },
    {
      "cell_type": "code",
      "source": [
        "plt.scatter(pop_birth_lengths, pop_div_lengths)"
      ],
      "metadata": {
        "id": "RishskeypYDg"
      },
      "execution_count": null,
      "outputs": []
    },
    {
      "cell_type": "code",
      "source": [
        "first_cells = lin.cells[0]\n",
        "print(first_cells)\n",
        "\n",
        "pop_birth_lengths=[]\n",
        "for cell in lin.cells: \n",
        "  if cell['id'] in first_cells or cell['mother'] is not None: \n",
        "    birth_length = cell['length'][0]\n",
        "    pop_birth_lengths.append(birth_length)\n",
        "\n",
        "\n",
        "plt.figure(figsize=(7,7))\n",
        "ax2 = sns.distplot(pop_birth_lengths, hist=True, kde=True, \n",
        "             bins=int(len(pop_birth_lengths)/50), color = 'darkblue', \n",
        "             hist_kws={'edgecolor':'black'},\n",
        "             kde_kws={'linewidth': 4})\n",
        "ax2.set_ylabel('Density', fontname = 'STIXGeneral', fontsize = 23)\n",
        "ax2.set_xlabel('Birth length (pixels)', fontname = 'STIXGeneral', fontsize = 23)\n",
        "ax2.set_title ('Birth length distribution in WT P.aureginosa cells', fontname = 'STIXGeneral', fontsize = 23, pad = 20)\n",
        "# ax.set_xticklabels(fontname = 'STIXGeneral', fontsize=20)\n",
        "# ax.set_yticks(fontname = 'STIXGeneral', fontsize=20)\n",
        "ylabels = plt.yticks(fontname = 'STIXGeneral', fontsize=22)\n",
        "xlabels = plt.xticks(fontname = 'STIXGeneral', fontsize=22)\n",
        "plt.show()\n",
        "\n",
        "print(stats.mean(pop_birth_lengths), stats.stdev(pop_birth_lengths))"
      ],
      "metadata": {
        "id": "MJjPJqKjta0c"
      },
      "execution_count": null,
      "outputs": []
    },
    {
      "cell_type": "code",
      "source": [],
      "metadata": {
        "id": "Tw0uky_HvTXB"
      },
      "execution_count": null,
      "outputs": []
    },
    {
      "cell_type": "code",
      "source": [],
      "metadata": {
        "id": "AH2q6W0we0qK"
      },
      "execution_count": null,
      "outputs": []
    },
    {
      "cell_type": "code",
      "source": [
        "#scaled lengths \n",
        "\n",
        "pop_scaled_mean = (stat.mean(pop_div_lengths)/ stat.mean(pop_birth_lengths))\n",
        "pop_scaled_sd = (stat.stdev(pop_div_lengths)/ stat.stdev(pop_birth_lengths))\n",
        "\n",
        "\n",
        "print(pop_scaled_mean, pop_scaled_sd )"
      ],
      "metadata": {
        "id": "Br0rY_DVqiMm"
      },
      "execution_count": null,
      "outputs": []
    },
    {
      "cell_type": "markdown",
      "source": [
        "### Length of all cells vs frame"
      ],
      "metadata": {
        "id": "fWMqB3wdbnc3"
      }
    },
    {
      "cell_type": "code",
      "execution_count": null,
      "metadata": {
        "id": "ssZbgWh8Am7H"
      },
      "outputs": [],
      "source": [
        "lin = processor.positions[0].rois[0].lineage\n",
        "first_cells = lin.cellnumbers[0]\n",
        "\n",
        "import matplotlib.pyplot as plt\n",
        "\n",
        "for cell in lin.cells: \n",
        "  plt.plot(cell['frames'],cell['length'])\n",
        "\n",
        "plt.xlabel('frame #')\n",
        "plt.ylabel('length (pixels)')\n",
        "plt.show()\n",
        "\n"
      ]
    },
    {
      "cell_type": "markdown",
      "source": [
        "### Select one colony, look at lengths over lifetime (in frames) "
      ],
      "metadata": {
        "id": "S-hPweh1btm4"
      }
    },
    {
      "cell_type": "code",
      "execution_count": null,
      "metadata": {
        "id": "iQK0MTsZA4Ys"
      },
      "outputs": [],
      "source": [
        "# Finding all of the cells that originated from a given mother cell \n",
        "# mother_id = 7\n",
        "# colony = []\n",
        "# for cell in lin.cells:\n",
        "#   if cell['mother'] == mother_id or cell['mother'] in colony:\n",
        "#     colony.append(cell['id']) \n",
        "\n",
        "# print(len(colony)) \n",
        "\n",
        "colony_1011 =[]\n",
        "\n",
        "colony_10 = get_colony(lin.cells, 10)\n",
        "colony_11 = get_colony(lin.cells, 11)\n",
        "colony_1011 = colony_10 + colony_11\n",
        "\n",
        "for cnb in colony_1011: \n",
        "  cell = lin.cells[cnb]\n",
        "  plt.plot(cell['frames'],cell['length'])\n",
        "\n",
        "print(len(colony_1011))"
      ]
    },
    {
      "cell_type": "code",
      "source": [
        "# Finding all of the cells that originated from a given mother cell \n",
        "# mother_id = 7\n",
        "# colony = []\n",
        "# for cell in lin.cells:\n",
        "#   if cell['mother'] == mother_id or cell['mother'] in colony:\n",
        "#     colony.append(cell['id']) \n",
        "\n",
        "# print(len(colony)) \n",
        "\n",
        "colony_1011 =[]\n",
        "\n",
        "colony_10 = get_colony(lin.cells, 10)\n",
        "colony_11 = get_colony(lin.cells, 11)\n",
        "colony_1011 = colony_10 + colony_11\n",
        "\n",
        "for cnb in colony_1011: \n",
        "  cell = lin.cells[cnb]\n",
        "  plt.plot(cell['frames'],cell['length'])\n",
        "\n",
        "print(len(colony_1011))"
      ],
      "metadata": {
        "id": "llk-zxOxQ_gk"
      },
      "execution_count": null,
      "outputs": []
    },
    {
      "cell_type": "code",
      "source": [
        "# Finding all of the cells that originated from a given mother cell \n",
        "# mother_id = 7\n",
        "# colony = []\n",
        "# for cell in lin.cells:\n",
        "#   if cell['mother'] == mother_id or cell['mother'] in colony:\n",
        "#     colony.append(cell['id']) \n",
        "\n",
        "# print(len(colony)) \n",
        "\n",
        "colony_2021 =[]\n",
        "\n",
        "colony_20 = get_colony(lin.cells, 20)\n",
        "colony_21 = get_colony(lin.cells, 21)\n",
        "colony_2021 = colony_20 + colony_21\n",
        "\n",
        "for cnb in colony_2021: \n",
        "  cell = lin.cells[cnb]\n",
        "  plt.plot(cell['frames'],cell['length'])\n",
        "\n",
        "print(len(colony_2021))"
      ],
      "metadata": {
        "id": "XRYh7SpOR-cM"
      },
      "execution_count": null,
      "outputs": []
    },
    {
      "cell_type": "markdown",
      "source": [
        "### Do colony refinement using contacts "
      ],
      "metadata": {
        "id": "BNAsKSv1cFzT"
      }
    },
    {
      "cell_type": "code",
      "source": [
        "# plotting the crowdedness of each cell in the population at a given time (change the index of lin.cellnumbers) \n",
        "colony_1011_ref = refine_colony(colony_1011)"
      ],
      "metadata": {
        "id": "DmkyIdYncJAP"
      },
      "execution_count": null,
      "outputs": []
    },
    {
      "cell_type": "code",
      "source": [
        "colony_2021_ref = refine_colony(colony_2021)"
      ],
      "metadata": {
        "id": "rry5fjlMSJmQ"
      },
      "execution_count": null,
      "outputs": []
    },
    {
      "cell_type": "code",
      "source": [
        "# check that colony looks good \n",
        "\n",
        "import numpy as np\n",
        "\n",
        "\n",
        "labels = processor.positions[0].rois[0].label_stack[-1]\n",
        "\n",
        "# Initialize color image (all light gray)\n",
        "color_image = np.full(\n",
        "    shape=labels.shape+(3,),\n",
        "    fill_value=175,\n",
        "    dtype=np.uint8\n",
        "    )\n",
        "\n",
        "# colony1 = get_colony(lin.cells, 1)\n",
        "# colony2 = get_colony(lin.cells, 2)\n",
        "\n",
        "# colony = colony1 + colony2\n",
        "\n",
        "\n",
        "# col_1011_cids, col_1011_neighbours, col_1011_cycles = numneighbours_immediate(colony_1011)\n",
        "\n",
        "for cell in lin.cellnumbers[-1]:\n",
        "  if cell in colony_2021_ref:\n",
        "    color = [0,0,255]\n",
        "  else: \n",
        "     color = [0,0,0]\n",
        "\n",
        "\n",
        "  for c, val in enumerate(color):\n",
        "      color_image[:,:,c][labels==cell+1]=val\n",
        "      \n",
        "\n",
        "\n",
        "\n",
        "plt.figure(figsize = (15,15))\n",
        "plt.imshow(color_image)\n",
        "# plt.ylim(200, 1000)\n",
        "# plt.xlim(1200, 2000)\n",
        "plt.xticks(fontname = 'STIXGeneral', fontsize=15)\n",
        "plt.yticks(fontname = 'STIXGeneral', fontsize=15)\n",
        "\n"
      ],
      "metadata": {
        "id": "v1IoWkcjdd-e"
      },
      "execution_count": null,
      "outputs": []
    },
    {
      "cell_type": "markdown",
      "source": [
        "### Get division length distribution in colony"
      ],
      "metadata": {
        "id": "tB6Ax7Eqb9n3"
      }
    },
    {
      "cell_type": "code",
      "source": [
        "import seaborn as sns\n",
        "import statistics as stat\n",
        "\n",
        "col_div_lengths = []\n",
        "for cnb in colony_1011_ref: \n",
        "  cell = lin.cells[cnb]\n",
        "  daughters = [cell['daughters'].index(daughter) for daughter in cell['daughters'] if daughter is not None]\n",
        "  for daughter in daughters: \n",
        "    div_len_idx = daughter - 1 \n",
        "    div_length = cell['length'][div_len_idx]\n",
        "    col_div_lengths.append(div_length)\n",
        "  \n",
        "## Plot histogram of division lengths (aka density distribution)\n",
        "\n",
        "ax = sns.distplot(col_div_lengths, hist=True, kde=True, \n",
        "             bins=int(len(col_div_lengths)/5), color = 'darkblue', \n",
        "             hist_kws={'edgecolor':'black'},\n",
        "             kde_kws={'linewidth': 4})\n",
        "ax.set(ylabel='Density', xlabel='Division length (pixels')\n",
        "plt.show()\n",
        "\n",
        "print(stat.mean(col_div_lengths), stat.stdev(col_div_lengths))"
      ],
      "metadata": {
        "id": "Vas4vzuktH6w"
      },
      "execution_count": null,
      "outputs": []
    },
    {
      "cell_type": "markdown",
      "source": [
        "### Get birth length distribution in colony"
      ],
      "metadata": {
        "id": "sUtitFnriD7W"
      }
    },
    {
      "cell_type": "code",
      "source": [
        "import seaborn as sns\n",
        "import statistics as stat\n",
        "\n",
        "\n",
        "first_cells = lin.cellnumbers[0]\n",
        "\n",
        "col_birth_lengths = []\n",
        "for cnb in colony_1011_ref: \n",
        "  cell = lin.cells[cnb]\n",
        "  if cell in first_cells or cell['mother'] is not None:\n",
        "    birth_length = cell['length'][0]\n",
        "    col_birth_lengths.append(birth_length)\n",
        "\n",
        "## Plot histogram of birth lengths (aka density distribution)\n",
        "\n",
        "ax = sns.distplot(col_birth_lengths, hist=True, kde=True, \n",
        "             bins=int(len(col_div_lengths)/4), color = 'darkblue', \n",
        "             hist_kws={'edgecolor':'black'},\n",
        "             kde_kws={'linewidth': 4})\n",
        "ax.set(ylabel='Density', xlabel='Birth length (pixels')\n",
        "plt.show()\n",
        "\n",
        "print(stat.mean(col_birth_lengths), stat.stdev(col_birth_lengths))"
      ],
      "metadata": {
        "id": "Y5DgUNQbs7a3"
      },
      "execution_count": null,
      "outputs": []
    },
    {
      "cell_type": "markdown",
      "source": [],
      "metadata": {
        "id": "3ZzUJdd3nKSc"
      }
    },
    {
      "cell_type": "code",
      "source": [
        "mean_scaled = stat.mean(col_div_lengths) / stat.mean(col_birth_lengths)\n",
        "sd_scaled = stat.stdev(col_div_lengths) / stat.stdev(col_birth_lengths)\n",
        "\n",
        "\n",
        "print('Scaled mean : ' + str(mean_scaled ) + ' ' + 'Scaled sd ' + str(sd_scaled)) "
      ],
      "metadata": {
        "id": "oVC8OgpJnJhD"
      },
      "execution_count": null,
      "outputs": []
    },
    {
      "cell_type": "code",
      "source": [
        "from numpy.ma.extras import average\n",
        "import pandas as pd\n",
        "import seaborn as sns\n",
        "\n",
        "def numneighbours_radial(colony):\n",
        "  # record keeping for plotting later\n",
        "  # cell id \n",
        "  crowd_ids = [] \n",
        "  # total crowdedness at a given timepoint, given by frame number \n",
        "  # total_crowdedness = []\n",
        "\n",
        "  nums_of_neighbours = []\n",
        "  # length of div cycle between two given daughters\n",
        "  div_cycle_lengths= []\n",
        "  division_lengths =[]\n",
        "  print(len(colony))\n",
        "  \n",
        "  for cnb in colony: \n",
        "    cell = lin.cells[cnb]\n",
        "    # Line below: for every cell identify the occurrence of every daugther \n",
        "    daughters = [cell['daughters'].index(daughter) for daughter in cell['daughters'] if daughter is not None]\n",
        "    # print(cell['id'])\n",
        "    if len(daughters) > 0: #if the cell has divided\n",
        "      for daughter in daughters: \n",
        "        #take care with definition daughter: daughter is the index position in cell in daughter list, when daughter is not none\n",
        "        # this is then converted to a frame number which can be used to compare and calculate distances to other cells in the same frame\n",
        "        idx= daughter-1\n",
        "        # print(daughter, idx)\n",
        "        frame_no = cell['frames'][idx]\n",
        "        # print(frame_no)\n",
        "        npole1 = cell['new_pole'][idx]\n",
        "        opole1 = cell['old_pole'][idx]\n",
        "        # get centre of cell 1 for distance function \n",
        "        cell1_centre = get_centre(npole1, opole1) \n",
        "        cell1_length = cell['length'][0] # l0 of cell, needed in the crowdedness calculation\n",
        "        cell_div_length = cell['length'][idx]\n",
        "        # crowdness = 0\n",
        "        neighbours = 0 \n",
        "        cell1_width = cell['width'][0]\n",
        "        npole_new = npole1 - cell1_centre\n",
        "        for cell2 in lin.cells:\n",
        "        # for cnb2 in colony:\n",
        "        #   cell2 = lin.cells[cnb2]\n",
        "          if cell['id'] != cell2['id'] and frame_no in cell2['frames']:\n",
        "            idx2 = cell2['frames'].index(frame_no)\n",
        "            # set cell poles \n",
        "            npole2 = cell2['new_pole'][idx2]\n",
        "            opole2 = cell2['old_pole'][idx2]\n",
        "            cell2_centre = get_centre(npole2, opole2)\n",
        "            cell2_width = cell2['width'][0]\n",
        "            cell2_length = cell2['length'][0]\n",
        "\n",
        "            if (get_cell_dist(opole1, npole2) < (1.5*cell1_width)) or (get_cell_dist(opole1, opole2) < (1.5*cell1_width)) or (get_cell_dist(npole1, opole2) < (1.5*cell1_width)) or (get_cell_dist(npole1, npole2) < (1.5*cell1_width)): \n",
        "            # # if (get_cell_dist(opole1, npole2) < (cell1_width)) or (get_cell_dist(opole1, opole2) < (cell1_width)) or (get_cell_dist(npole1, opole2) < (cell1_width)) or (get_cell_dist(npole1, npole2) < (cell1_width)): \n",
        "              neighbours = neighbours + 1\n",
        "            # # elif get_poleside(cell1_centre, npole1, opole1, npole2, opole2, cell1_length, cell1_width) is True:\n",
        "            # #   neighbours = neighbours + 1\n",
        "            elif get_poleside_flipped(cell2_centre, opole1, npole1, npole2, opole2, cell2_length, cell2_width) is True:\n",
        "              neighbours = neighbours + 1\n",
        "            # conditions for calculating cell cycle are different, depending if there is only one div or more\n",
        "            # if is_in_radius(cell1_centre ,cell1_length ,opole2, npole2): \n",
        "            #   neighbours = neighbours + 1\n",
        "\n",
        "\n",
        "            # cell_dist = get_cell_dist(cell1_centre, cell2_centre)\n",
        "            # crowd2 = get_crowd_2(cell_dist, cell1_length)\n",
        "            # crowdness = crowdness + crowd2\n",
        "            daughter_index = daughters.index(daughter)\n",
        "            if len(daughters) > 1 and daughter_index > 0:\n",
        "              prev_daughter = daughters[daughter_index-1]\n",
        "              # print(daughter, prev_daughter)\n",
        "              div_cycle = frame_no - cell['frames'][prev_daughter]\n",
        "            else:\n",
        "              div_cycle = frame_no - cell['frames'][0]\n",
        "            # print(neighbours)\n",
        "      if div_cycle > 0:\n",
        "        div_cycle_lengths.append(div_cycle)\n",
        "        # nums_of_neighbours.append(neighbours)\n",
        "        division_lengths.append(cell_div_length)\n",
        "        crowd_ids.append(cell['id'])\n",
        "        nums_of_neighbours.append(neighbours)\n",
        "\n",
        "\n",
        "    #Plotting for length in relation to crowdedness \n",
        "    # print(crowd_ids, nums_of_neighbours,  div_cycle_lengths)\n",
        "  print(max(nums_of_neighbours))\n",
        "  d = {'neighbours':nums_of_neighbours,'division_cycle':div_cycle_lengths}\n",
        "  df = pd.DataFrame(d)\n",
        "\n",
        "  plt.figure(figsize=(9,5))\n",
        "  ax = sns.boxplot(x = 'neighbours', y = 'division_cycle', data = df)\n",
        "  # plt.scatter(nums_of_neighbours, div_cycle_lengths)\n",
        "  plt.xlabel('Number of Pole Contacs', fontname = 'STIXGeneral', fontsize = 23)\n",
        "  plt.ylabel('Division cycle length (frames)',  fontname = 'STIXGeneral', fontsize = 23)\n",
        "  plt.title(\"Division cycle length vs Number of Pole Contacts\", fontname = 'STIXGeneral', fontsize = 23, pad = 20)\n",
        "  plt.xlim(-1 ,max(nums_of_neighbours))\n",
        "  plt.ylim(-1 , max(div_cycle_lengths)+1)\n",
        "  \n",
        "  # ax.set_xticklabels(fontname = 'STIXGeneral', fontsize=20)\n",
        "  # ax.set_yticks(fontname = 'STIXGeneral', fontsize=20)\n",
        "  plt.yticks(fontname = 'STIXGeneral', fontsize=22)\n",
        "  plt.xticks(fontname = 'STIXGeneral', fontsize=22)\n",
        "  # theta = np.polyfit(nums_of_neighbours, div_cycle_lengths, 1)\n",
        "  # y_line =[]\n",
        "  # for i in range(len(nums_of_neighbours)): \n",
        "  #   y = theta[1] + theta[0] * i\n",
        "  #   y_line.append(y)\n",
        "  # plt.plot(y_line)\n",
        "\n",
        "\n",
        "  # plt.legend([str(theta[0]) + 'x' + ','+ str(theta[1])], loc = 'best')\n",
        "\n",
        "\n",
        "\n",
        "    # plt.xlabel('Crowdedness at division time')\n",
        "    # plt.ylabel('Division cycle length ')\n",
        "  # return crowd_ids, division_lengths, total_crowdedness, div_cycle_lengths , plot\n",
        "  print(len(crowd_ids))\n",
        "  # print(nums_of_neighbours)\n",
        "  print(average(nums_of_neighbours))\n",
        "  print(average(div_cycle_lengths))\n",
        "  # print(div_cycle_lengths)\n",
        "  print(len(colony))\n",
        "  print(min(nums_of_neighbours))\n",
        "  return crowd_ids, nums_of_neighbours, div_cycle_lengths\n",
        "\n"
      ],
      "metadata": {
        "id": "t7Fe5oHCDHIl"
      },
      "execution_count": null,
      "outputs": []
    },
    {
      "cell_type": "code",
      "source": [
        "from numpy.ma.extras import average\n",
        "import pandas as pd\n",
        "import seaborn as sns\n",
        "\n",
        "def numneighbours_radial(colony):\n",
        "  # record keeping for plotting later\n",
        "  # cell id \n",
        "  crowd_ids = [] \n",
        "  # total crowdedness at a given timepoint, given by frame number \n",
        "  # total_crowdedness = []\n",
        "\n",
        "  nums_of_neighbours = []\n",
        "  # length of div cycle between two given daughters\n",
        "  div_cycle_lengths= []\n",
        "  division_lengths =[]\n",
        "  print(len(colony))\n",
        "  \n",
        "  for cnb in colony: \n",
        "    cell = lin.cells[cnb]\n",
        "    # Line below: for every cell identify the occurrence of every daugther \n",
        "    daughters = [cell['daughters'].index(daughter) for daughter in cell['daughters'] if daughter is not None]\n",
        "    # print(cell['id'])\n",
        "    if len(daughters) > 0: #if the cell has divided\n",
        "      for daughter in daughters: \n",
        "        #take care with definition daughter: daughter is the index position in cell in daughter list, when daughter is not none\n",
        "        # this is then converted to a frame number which can be used to compare and calculate distances to other cells in the same frame\n",
        "        idx= daughter-1\n",
        "        # print(daughter, idx)\n",
        "        frame_no = cell['frames'][idx]\n",
        "        # print(frame_no)\n",
        "        npole1 = cell['new_pole'][idx]\n",
        "        opole1 = cell['old_pole'][idx]\n",
        "        # get centre of cell 1 for distance function \n",
        "        cell1_centre = get_centre(npole1, opole1) \n",
        "        cell1_length = cell['length'][0] # l0 of cell, needed in the crowdedness calculation\n",
        "        cell_div_length = cell['length'][idx]\n",
        "        # crowdness = 0\n",
        "        neighbours = 0 \n",
        "        cell1_width = cell['width'][0]\n",
        "        npole_new = npole1 - cell1_centre\n",
        "        for cell2 in lin.cells:\n",
        "        # for cnb2 in colony:\n",
        "        #   cell2 = lin.cells[cnb2]\n",
        "          if cell['id'] != cell2['id'] and frame_no in cell2['frames']:\n",
        "            idx2 = cell2['frames'].index(frame_no)\n",
        "            # set cell poles \n",
        "            npole2 = cell2['new_pole'][idx2]\n",
        "            opole2 = cell2['old_pole'][idx2]\n",
        "            cell2_centre = get_centre(npole2, opole2)\n",
        "            cell2_width = cell2['width'][0]\n",
        "            cell2_length = cell2['length'][0]\n",
        "\n",
        "            # if (get_cell_dist(opole1, npole2) < (1.5*cell1_width)) or (get_cell_dist(opole1, opole2) < (1.5*cell1_width)) or (get_cell_dist(npole1, opole2) < (1.5*cell1_width)) or (get_cell_dist(npole1, npole2) < (1.5*cell1_width)): \n",
        "            # # if (get_cell_dist(opole1, npole2) < (cell1_width)) or (get_cell_dist(opole1, opole2) < (cell1_width)) or (get_cell_dist(npole1, opole2) < (cell1_width)) or (get_cell_dist(npole1, npole2) < (cell1_width)): \n",
        "            #   neighbours = neighbours + 1\n",
        "            # # elif get_poleside(cell1_centre, npole1, opole1, npole2, opole2, cell1_length, cell1_width) is True:\n",
        "            # #   neighbours = neighbours + 1\n",
        "            # elif get_poleside_flipped(cell2_centre, opole1, npole1, npole2, opole2, cell2_length, cell2_width) is True:\n",
        "            #   neighbours = neighbours + 1\n",
        "            # conditions for calculating cell cycle are different, depending if there is only one div or more\n",
        "            if is_in_radius(cell1_centre ,cell1_length ,opole2, npole2): \n",
        "              neighbours = neighbours + 1\n",
        "\n",
        "\n",
        "            # cell_dist = get_cell_dist(cell1_centre, cell2_centre)\n",
        "            # crowd2 = get_crowd_2(cell_dist, cell1_length)\n",
        "            # crowdness = crowdness + crowd2\n",
        "            daughter_index = daughters.index(daughter)\n",
        "            if len(daughters) > 1 and daughter_index > 0:\n",
        "              prev_daughter = daughters[daughter_index-1]\n",
        "              # print(daughter, prev_daughter)\n",
        "              div_cycle = frame_no - cell['frames'][prev_daughter]\n",
        "            else:\n",
        "              div_cycle = frame_no - cell['frames'][0]\n",
        "            # print(neighbours)\n",
        "      if div_cycle > 0:\n",
        "        div_cycle_lengths.append(div_cycle)\n",
        "        # nums_of_neighbours.append(neighbours)\n",
        "        division_lengths.append(cell_div_length)\n",
        "        crowd_ids.append(cell['id'])\n",
        "        nums_of_neighbours.append(neighbours)\n",
        "\n",
        "\n",
        "    #Plotting for length in relation to crowdedness \n",
        "    # print(crowd_ids, nums_of_neighbours,  div_cycle_lengths)\n",
        "  print(max(nums_of_neighbours))\n",
        "  d = {'neighbours':nums_of_neighbours,'division_cycle':div_cycle_lengths}\n",
        "  df = pd.DataFrame(d)\n",
        "\n",
        "  plt.figure(figsize=(9,5))\n",
        "  ax = sns.boxplot(x = 'neighbours', y = 'division_cycle', data = df)\n",
        "  # plt.scatter(nums_of_neighbours, div_cycle_lengths)\n",
        "  plt.xlabel('Number of neighbours', fontname = 'STIXGeneral', fontsize = 23)\n",
        "  plt.ylabel('Division cycle length (frames)',  fontname = 'STIXGeneral', fontsize = 23)\n",
        "  plt.title(\"Division cycle length vs Number of neighbours\", fontname = 'STIXGeneral', fontsize = 23, pad = 20)\n",
        "  plt.ylim(-1, max(div_cycle_lengths)+1)\n",
        "  \n",
        "  # ax.set_xticklabels(fontname = 'STIXGeneral', fontsize=20)\n",
        "  # ax.set_yticks(fontname = 'STIXGeneral', fontsize=20)\n",
        "  plt.yticks(fontname = 'STIXGeneral', fontsize=22)\n",
        "  plt.xticks(fontname = 'STIXGeneral', fontsize=22)\n",
        "  # theta = np.polyfit(nums_of_neighbours, div_cycle_lengths, 1)\n",
        "  # y_line =[]\n",
        "  # for i in range(len(nums_of_neighbours)): \n",
        "  #   y = theta[1] + theta[0] * i\n",
        "  #   y_line.append(y)\n",
        "  # plt.plot(y_line)\n",
        "\n",
        "\n",
        "  # plt.legend([str(theta[0]) + 'x' + ','+ str(theta[1])], loc = 'best')\n",
        "\n",
        "\n",
        "\n",
        "    # plt.xlabel('Crowdedness at division time')\n",
        "    # plt.ylabel('Division cycle length ')\n",
        "  # return crowd_ids, division_lengths, total_crowdedness, div_cycle_lengths , plot\n",
        "  print(len(crowd_ids))\n",
        "  # print(nums_of_neighbours)\n",
        "  print(average(nums_of_neighbours))\n",
        "  print(average(div_cycle_lengths))\n",
        "  # print(div_cycle_lengths)\n",
        "  print(len(colony))\n",
        "  print(min(nums_of_neighbours))\n",
        "  return crowd_ids, nums_of_neighbours, div_cycle_lengths\n",
        "\n"
      ],
      "metadata": {
        "id": "9gD0tYp7Y_rB"
      },
      "execution_count": null,
      "outputs": []
    },
    {
      "cell_type": "code",
      "source": [
        "crowd_ids, nums_of_neighbours, div_cycle_lengths = numneighbours_radial(colony_1011_ref)\n"
      ],
      "metadata": {
        "id": "kNOfxC-EPzwH"
      },
      "execution_count": null,
      "outputs": []
    },
    {
      "cell_type": "markdown",
      "source": [],
      "metadata": {
        "id": "b9nTni7Vt6RA"
      }
    },
    {
      "cell_type": "code",
      "source": [],
      "metadata": {
        "id": "R0em9UcXt5_U"
      },
      "execution_count": null,
      "outputs": []
    },
    {
      "cell_type": "code",
      "source": [
        "import numpy as np\n",
        "\n",
        "import matplotlib.cm as cm \n",
        "\n",
        "import plotly.express as px\n",
        "\n",
        "labels = processor.positions[0].rois[0].label_stack[-1]\n",
        "\n",
        "# Initialize color image (all light gray)\n",
        "color_image = np.full(\n",
        "    shape=labels.shape+(3,),\n",
        "    fill_value=175,\n",
        "    dtype=np.uint8\n",
        "    )\n",
        "\n",
        "col_1011_cids, col_1011_neighbours, col_1011_cycles = numneighbours_radial(colony_1011_ref)\n",
        "\n",
        "for cell in lin.cellnumbers[-1]:\n",
        "    if cell in col_1011_cids: \n",
        "      i = max(loc for loc, val in enumerate(col_1011_cids) if val == cell)\n",
        "      c = cm.viridis((col_1011_neighbours[i])/max(col_1011_neighbours))\n",
        "      color = c[0:3]\n",
        "      # print(color)\n",
        "    else: \n",
        "      color = [0,0,0]\n",
        "    for c, val in enumerate(color):\n",
        "      color_image[:,:,c][labels==cell+1]=val*255\n",
        "\n",
        "    \n",
        "    \n",
        "    \n",
        "\n",
        "\n",
        "plt.figure(figsize = (15,15))\n",
        "cax = plt.imshow(color_image)\n",
        "# plt.pcolor(vmin=0, vmax=1)\n",
        "plt.colorbar()\n",
        "plt.clim(0,13)\n",
        "plt.title('Whole population crowdedness plot for WT P.aureginosa')\n",
        "plt.show()\n"
      ],
      "metadata": {
        "id": "jolElZFwHgEx"
      },
      "execution_count": null,
      "outputs": []
    },
    {
      "cell_type": "code",
      "source": [
        "#  for entire population \n",
        "\n"
      ],
      "metadata": {
        "id": "txs6dRTIE28z"
      },
      "execution_count": null,
      "outputs": []
    },
    {
      "cell_type": "code",
      "source": [],
      "metadata": {
        "id": "EuKKEAs3fXD1"
      },
      "execution_count": null,
      "outputs": []
    },
    {
      "cell_type": "code",
      "source": [
        "from numpy.ma.extras import average\n",
        "\n",
        "def neighbours_pp_ps(population):\n",
        "  # record keeping for plotting later\n",
        "  # cell id \n",
        "  crowd_ids = [] \n",
        "  # total crowdedness at a given timepoint, given by frame number \n",
        "  # total_crowdedness = []\n",
        "\n",
        "  nums_of_neighbours = []\n",
        "  # length of div cycle between two given daughters\n",
        "  div_cycle_lengths= []\n",
        "  division_lengths =[]\n",
        "\n",
        "  \n",
        "  for cell in population: \n",
        "    # Line below: for every cell identify the occurrence of every daugther \n",
        "    daughters = [cell['daughters'].index(daughter) for daughter in cell['daughters'] if daughter is not None]\n",
        "    # print(cell['id'])\n",
        "    if len(daughters) > 0: #if the cell has divided\n",
        "      for daughter in daughters: \n",
        "        #take care with definition daughter: daughter is the index position in cell in daughter list, when daughter is not none\n",
        "        # this is then converted to a frame number which can be used to compare and calculate distances to other cells in the same frame\n",
        "        idx= daughter-1\n",
        "        # print(daughter, idx)\n",
        "        frame_no = cell['frames'][idx]\n",
        "        # print(frame_no)\n",
        "        npole1 = cell['new_pole'][idx]\n",
        "        opole1 = cell['old_pole'][idx]\n",
        "        # get centre of cell 1 for distance function \n",
        "        cell1_centre = get_centre(npole1, opole1) \n",
        "        cell1_length = cell['length'][0] # l0 of cell, needed in the crowdedness calculation\n",
        "        cell_div_length = cell['length'][idx]\n",
        "        neighbours = 0\n",
        "        cell1_width = cell['width'][0]\n",
        "        npole_new = npole1 - cell1_centre\n",
        "        for cell2 in lin.cells:\n",
        "        # for cnb2 in colony:\n",
        "        #   cell2 = lin.cells[cnb2]numneighbours_radialpop\n",
        "          if cell['id'] != cell2['id'] and frame_no in cell2['frames']:\n",
        "            idx2 = cell2['frames'].index(frame_no)\n",
        "            # set cell poles \n",
        "            npole2 = cell2['new_pole'][idx2]\n",
        "            opole2 = cell2['old_pole'][idx2]\n",
        "            cell2_centre = get_centre(npole2, opole2)\n",
        "            cell2_width = cell2['width'][0]\n",
        "            cell2_length = cell2['length'][0]\n",
        "            # if (get_cell_dist(opole1, npole2) < (2*cell1_width)) or (get_cell_dist(opole1, opole2) < (2*cell1_width)) or (get_cell_dist(npole1, opole2) < (2*cell1_width)) or (get_cell_dist(npole1, npole2) < (2*cell1_width)): \n",
        "            if (get_cell_dist(opole1, npole2) < 2*(cell1_width)) or (get_cell_dist(opole1, opole2) < 2*(cell1_width)) or (get_cell_dist(npole1, opole2) < 2*(cell1_width)) or (get_cell_dist(npole1, npole2) < 2*(cell1_width)): \n",
        "              neighbours = neighbours + 1\n",
        "            # elif get_poleside(cell1_centre, npole1, opole1, npole2, opole2, cell1_length, cell1_width) is True:\n",
        "            #   neighbours = neighbours + 1\n",
        "            elif get_poleside_flipped(cell2_centre, opole1, npole1, npole2, opole2, cell2_length, cell2_width) is True:\n",
        "              neighbours = neighbours + 1\n",
        "            # conditions for calculating cell cycle are different, depending if there is only one div or more\n",
        "            daughter_index = daughters.index(daughter)\n",
        "            if len(daughters) > 1 and daughter_index > 0:\n",
        "              prev_daughter = daughters[daughter_index-1]\n",
        "              # print(daughter, prev_daughter)\n",
        "              div_cycle = frame_no - cell['frames'][prev_daughter]\n",
        "            else:\n",
        "              div_cycle = frame_no - cell['frames'][0]\n",
        "            # print(neighbours)\n",
        "      if div_cycle > 0:\n",
        "        div_cycle_lengths.append(div_cycle)\n",
        "        nums_of_neighbours.append(neighbours)\n",
        "        division_lengths.append(cell_div_length)\n",
        "        crowd_ids.append(cell['id'])\n",
        "\n",
        "\n",
        "    #Plotting for length in relation to crowdedness \n",
        "    # print(crowd_ids, nums_of_neighbours,  div_cycle_lengths)\n",
        "  print(max(nums_of_neighbours))\n",
        "  plt.scatter(nums_of_neighbours, div_cycle_lengths)\n",
        "  plt.xlabel('Number of pole:pole or pole:side neighbours')\n",
        "  plt.ylabel('Division cycle length')\n",
        "  plt.title(\"Division length vs Number of neighbours for Wt colony of size 77 \")\n",
        "  plt.xlim(0, max(nums_of_neighbours)+1)\n",
        "  plt.ylim(0, max(div_cycle_lengths) +1)\n",
        "  theta = np.polyfit(nums_of_neighbours, div_cycle_lengths, 1)\n",
        "  y_line =[]\n",
        "  for i in range(len(nums_of_neighbours)): \n",
        "    y = theta[1] + theta[0] * i\n",
        "    y_line.append(y)\n",
        "  plt.plot(y_line)\n",
        "  plt.legend([str(theta[0]) + 'x' + ','+ str(theta[1])], loc = 'best')\n",
        "  plt.figure(figsize = (15,20))\n",
        "  print(theta)\n",
        "    # plt.xlabel('Crowdedness at division time')\n",
        "    # plt.ylabel('Division cycle length ')\n",
        "  # return crowd_ids, division_lengths, total_crowdedness, div_cycle_lengths , plot\n",
        "  print(len(crowd_ids))\n",
        "  # print(nums_of_neighbours)\n",
        "  print(average(nums_of_neighbours))\n",
        "  print(average(div_cycle_lengths))\n",
        "  # print(div_cycle_lengths)\n",
        "  print(max(nums_of_neighbours))\n",
        "  return crowd_ids, nums_of_neighbours, div_cycle_lengths\n"
      ],
      "metadata": {
        "id": "pacVvB9uvpDP"
      },
      "execution_count": null,
      "outputs": []
    },
    {
      "cell_type": "code",
      "source": [
        "crowd_ids, nums_of_neighbours, div_cycle_lengths = neighbours_pp_ps(lin.cells) "
      ],
      "metadata": {
        "id": "gh9vOjyX95TZ"
      },
      "execution_count": null,
      "outputs": []
    },
    {
      "cell_type": "code",
      "source": [
        "import statistics as stats \n",
        "\n",
        "\n",
        "plt.figure(figsize=(7,7))\n",
        "ax2 = sns.distplot(div_cycle_lengths, hist=True, kde=True, \n",
        "             bins=int(len(div_cycle_lengths)/50), color = 'darkblue', \n",
        "             hist_kws={'edgecolor':'black'},\n",
        "             kde_kws={'linewidth': 4})\n",
        "ax2.set_ylabel('Density', fontname = 'STIXGeneral', fontsize = 23)\n",
        "ax2.set_xlabel('Division cycle length (frames) ', fontname = 'STIXGeneral', fontsize = 23)\n",
        "ax2.set_title ('Division cycle length distribution in WT P.aureginosa cells', fontname = 'STIXGeneral', fontsize = 23, pad = 20)\n",
        "# ax.set_xticklabels(fontname = 'STIXGeneral', fontsize=20)\n",
        "# ax.set_yticks(fontname = 'STIXGeneral', fontsize=20)\n",
        "ylabels = plt.yticks(fontname = 'STIXGeneral', fontsize=22)\n",
        "xlabels = plt.xticks(fontname = 'STIXGeneral', fontsize=22)\n",
        "plt.show()\n",
        "\n",
        "print(stats.mean(div_cycle_lengths), stats.stdev(div_cycle_lengths))"
      ],
      "metadata": {
        "id": "tQfuGSEH6uMx"
      },
      "execution_count": null,
      "outputs": []
    },
    {
      "cell_type": "code",
      "source": [
        "import numpy as np\n",
        "\n",
        "import matplotlib.cm as cm \n",
        "\n",
        "import plotly.express as px\n",
        "\n",
        "from matplotlib.ticker import FuncFormatter\n",
        "\n",
        "\n",
        "\n",
        "labels = processor.positions[0].rois[0].label_stack[-1]\n",
        "\n",
        "\n",
        "# Initialize color image (all light gray)\n",
        "color_image = np.full(\n",
        "    shape=labels.shape+(3,),\n",
        "    fill_value=175,\n",
        "    dtype=np.uint8\n",
        "    )\n",
        "\n",
        "\n",
        "\n",
        "for cell in lin.cellnumbers[-1]:\n",
        "    if cell in all_ids: \n",
        "      i = max(loc for loc, val in enumerate(all_ids) if val == cell)\n",
        "      c = cm.viridis((neighbours[i])/max(neighbours))\n",
        "      color = c[0:3]\n",
        "      # print(color)\n",
        "    else: \n",
        "      color = [0,0,0]\n",
        "    for c, val in enumerate(color):\n",
        "      color_image[:,:,c][labels==cell+1]=val*255\n",
        "\n",
        "    \n",
        "    \n",
        "\n",
        "plt.figure(figsize = (15,15))\n",
        "cax = plt.imshow(color_image)\n",
        "# plt.pcolor(vmin=0, vmax=1)\n",
        "# bar = plt.colorbar(orientation ='vertical')\n",
        "plt.clim(0, 10)\n",
        "# bar.set_yticklabels(fontname = 'STIXGeneral', fontsize=19)\n",
        "plt.title('Crowding based on Pole:Pole and Pole:Side Contacts', fontname = 'STIXGeneral', fontsize = 30, pad = 20)\n",
        "plt.xticks(fontname = 'STIXGeneral', fontsize = 20)\n",
        "plt.yticks(fontname = 'STIXGeneral', fontsize = 20)\n",
        "\n",
        "bar = plt.colorbar().set_label(label='Number of neighbours colourbar',size=30, fontname = 'STIXGeneral')\n",
        "# bar.set_yticklabels(size=15,fontname = 'STIXGeneral')\n",
        "plt.savefig('pp_ps_population.pdf', dpi=200)\n",
        "\n",
        "plt.show()"
      ],
      "metadata": {
        "id": "S8uG4XAHBn3D"
      },
      "execution_count": null,
      "outputs": []
    },
    {
      "cell_type": "markdown",
      "source": [
        "### Pole to pole and pole to side contacts - plot of entire population "
      ],
      "metadata": {
        "id": "XKhqgIeSeEe6"
      }
    },
    {
      "cell_type": "code",
      "source": [
        "from numpy.ma.extras import average\n",
        "\n",
        "def numneighbours_radialpop(population_attime):\n",
        "  # record keeping for plotting later\n",
        "  # cell id \n",
        "  crowd_ids = [] \n",
        "  # total crowdedness at a given timepoint, given by frame number \n",
        "  # total_crowdedness = []\n",
        "  nums_of_neighbours = []\n",
        "  # length of div cycle between two given daughters\n",
        "\n",
        "\n",
        "  \n",
        "  for c in population_attime:\n",
        "    cell = lin.cells[c]\n",
        "    npole1 = cell['new_pole'][-1]\n",
        "    opole1 = cell['old_pole'][-1]\n",
        "    # get centre of cell 1 for distance function \n",
        "    cell1_centre = get_centre(npole1, opole1) \n",
        "    cell1_length = cell['length'][0] # l0 of cell, needed in the crowdedness calculation\n",
        "    cell_div_length = cell['length'][-1]\n",
        "    neighbours = 0\n",
        "    cell1_width = cell['width'][0]\n",
        "    npole_new = npole1 - cell1_centre\n",
        "    for c2 in population_attime:\n",
        "      cell2 = lin.cells[c2]\n",
        "    # for cnb2 in colony:\n",
        "    #   cell2 = lin.cells[cnb2]numneighbours_radialpop\n",
        "      if cell['id'] != cell2['id']:\n",
        "        npole2 = cell2['new_pole'][-1]\n",
        "        opole2 = cell2['old_pole'][-1]\n",
        "        cell2_centre = get_centre(npole2, opole2)\n",
        "        cell2_width = cell2['width'][0]\n",
        "        cell2_length = cell2['length'][0]\n",
        "        # if (get_cell_dist(opole1, npole2) < (2*cell1_width)) or (get_cell_dist(opole1, opole2) < (2*cell1_width)) or (get_cell_dist(npole1, opole2) < (2*cell1_width)) or (get_cell_dist(npole1, npole2) < (2*cell1_width)): \n",
        "        if (get_cell_dist(opole1, npole2) < (cell1_width)) or (get_cell_dist(opole1, opole2) < (cell1_width)) or (get_cell_dist(npole1, opole2) < (cell1_width)) or (get_cell_dist(npole1, npole2) < (cell1_width)): \n",
        "          neighbours = neighbours + 1\n",
        "        # elif get_poleside(cell1_centre, npole1, opole1, npole2, opole2, cell1_length, cell1_width) is True:\n",
        "        #   neighbours = neighbours + 1\n",
        "        elif get_poleside_flipped(cell2_centre, opole1, npole1, npole2, opole2, cell2_length, cell2_width) is True:\n",
        "          neighbours = neighbours + 1\n",
        "      \n",
        "      crowd_ids.append(cell['id'])\n",
        "      nums_of_neighbours.append(neighbours)\n",
        "\n",
        "  return crowd_ids, nums_of_neighbours\n",
        "\n",
        "        \n",
        "\n",
        "\n",
        "    #Plotting for length in relation to crowdedness \n",
        "    # print(crowd_ids, nums_of_neighbours,  div_cycle_lengths)\n",
        " \n",
        " \n",
        "\n",
        "    # plt.xlabel('Crowdedness at division time')\n",
        "    # plt.ylabel('Division cycle length ')\n",
        "  # return crowd_ids, division_lengths, total_crowdedness, div_cycle_lengths , plot\n",
        "  print(len(crowd_ids))\n",
        "  # print(nums_of_neighbours)\n",
        "  print(average(nums_of_neighbours))\n",
        "  # print(div_cycle_lengths)\n",
        "  print(max(nums_of_neighbours))\n",
        "  \n",
        "\n",
        "\n",
        "\n",
        "\n"
      ],
      "metadata": {
        "id": "Xg5IOIBcFCP4"
      },
      "execution_count": null,
      "outputs": []
    },
    {
      "cell_type": "code",
      "source": [
        "all_ids, neighbors = numneighbours_radialpop(lin.cellnumbers[-1])"
      ],
      "metadata": {
        "id": "UmYEY9ypk85-"
      },
      "execution_count": null,
      "outputs": []
    },
    {
      "cell_type": "code",
      "source": [
        "print(max(neighbors))"
      ],
      "metadata": {
        "id": "P_Ql5ok6muIZ"
      },
      "execution_count": null,
      "outputs": []
    },
    {
      "cell_type": "code",
      "source": [
        "import numpy as np\n",
        "\n",
        "import matplotlib.cm as cm \n",
        "\n",
        "import plotly.express as px\n",
        "\n",
        "from matplotlib.ticker import FuncFormatter\n",
        "\n",
        "\n",
        "\n",
        "labels = processor.positions[0].rois[0].label_stack[-1]\n",
        "\n",
        "\n",
        "# Initialize color image (all light gray)\n",
        "color_image = np.full(\n",
        "    shape=labels.shape+(3,),\n",
        "    fill_value=175,\n",
        "    dtype=np.uint8\n",
        "    )\n",
        "\n",
        "\n",
        "\n",
        "for cell in lin.cellnumbers[-1]:\n",
        "    if cell in all_ids: \n",
        "      i = max(loc for loc, val in enumerate(all_ids) if val == cell)\n",
        "      c = cm.viridis((neighbors[i])/max(neighbors))\n",
        "      color = c[0:3]\n",
        "      # print(color)\n",
        "    else: \n",
        "      color = [0,0,0]\n",
        "    for c, val in enumerate(color):\n",
        "      color_image[:,:,c][labels==cell+1]=val*255\n",
        "\n",
        "    \n",
        "    \n",
        "\n",
        "plt.figure(figsize = (15,15))\n",
        "cax = plt.imshow(color_image)\n",
        "# plt.pcolor(vmin=0, vmax=1)\n",
        "# bar = plt.colorbar(orientation ='vertical')\n",
        "plt.clim(0, 10)\n",
        "# bar.set_yticklabels(fontname = 'STIXGeneral', fontsize=19)\n",
        "plt.title('Crowding based on Pole:Pole and Pole:Side Contacts', fontname = 'STIXGeneral', fontsize = 30, pad = 20)\n",
        "plt.xticks(fontname = 'STIXGeneral', fontsize = 20)\n",
        "plt.yticks(fontname = 'STIXGeneral', fontsize = 20)\n",
        "\n",
        "bar = plt.colorbar().set_label(label='Number of neighbours colourbar',size=30, fontname = 'STIXGeneral')\n",
        "# bar.set_yticklabels(size=15,fontname = 'STIXGeneral')\n",
        "plt.savefig('pp_ps_population.pdf', dpi=200)\n",
        "\n",
        "plt.show()\n",
        "\n",
        "\n"
      ],
      "metadata": {
        "id": "ql4YiimUFQYz"
      },
      "execution_count": null,
      "outputs": []
    },
    {
      "cell_type": "code",
      "source": [
        "# plt.savefig('/Users/annaesenfeld/Desktop/pp_ps_population.pdf', dpi=200)\n",
        "! ls\n",
        "\n",
        "!\n",
        "\n",
        "\n",
        "\n"
      ],
      "metadata": {
        "id": "9wadnGcd-92X"
      },
      "execution_count": null,
      "outputs": []
    },
    {
      "cell_type": "code",
      "source": [
        "import numpy as np\n",
        "\n",
        "import matplotlib.cm as cm \n",
        "\n",
        "import plotly.express as px\n",
        "\n",
        "from matplotlib.ticker import FuncFormatter\n",
        "\n",
        "\n",
        "\n",
        "labels = processor.positions[0].rois[0].label_stack[-1]\n",
        "\n",
        "\n",
        "# Initialize color image (all light gray)\n",
        "color_image = np.full(\n",
        "    shape=labels.shape+(3,),\n",
        "    fill_value=175,\n",
        "    dtype=np.uint8\n",
        "    )\n",
        "\n",
        "\n",
        "\n",
        "for cell in lin.cellnumbers[-1]:\n",
        "    if cell in all_ids: \n",
        "      i = max(loc for loc, val in enumerate(all_ids) if val == cell)\n",
        "      c = cm.viridis((neighbors[i])/max(neighbors))\n",
        "      color = c[0:3]\n",
        "      # print(color)\n",
        "    else: \n",
        "      color = [0,0,0]\n",
        "    for c, val in enumerate(color):\n",
        "      color_image[:,:,c][labels==cell+1]=val*255\n",
        "\n",
        "    \n",
        "    \n",
        "\n",
        "plt.figure(figsize = (15,15))\n",
        "cax = plt.imshow(color_image)\n",
        "# plt.pcolor(vmin=0, vmax=1)\n",
        "# bar = plt.colorbar(orientation ='vertical')\n",
        "plt.clim(0, 10)\n",
        "# bar.set_yticklabels(fontname = 'STIXGeneral', fontsize=19)\n",
        "plt.title('Crowding based on Pole:Pole and Pole:Side Contacts', fontname = 'STIXGeneral', fontsize = 23, pad = 20)\n",
        "plt.xticks(fontname = 'STIXGeneral', fontsize = 15)\n",
        "plt.yticks(fontname = 'STIXGeneral', fontsize = 15)\n",
        "\n",
        "plt.colorbar().set_label(label='Colour by number of neighbours ',size=15, weight='bold', fontname = 'STIXGeneral')\n",
        "plt.show()\n",
        "\n",
        "\n"
      ],
      "metadata": {
        "id": "FsB2s-F_ySLE"
      },
      "execution_count": null,
      "outputs": []
    },
    {
      "cell_type": "markdown",
      "source": [
        "### Pole to pole and pole to side contacts - number of neighbours radial \n",
        "\n"
      ],
      "metadata": {
        "id": "D-MRrqlugCce"
      }
    },
    {
      "cell_type": "code",
      "source": [
        "\n",
        "def numneighbours_radial(population_attime):\n",
        "  # record keeping for plotting later\n",
        "  # cell id \n",
        "  crowd_ids = [] \n",
        "  # total crowdedness at a given timepoint, given by frame number \n",
        "  # total_crowdedness = []\n",
        "  nums_of_neighbours = []\n",
        "  # length of div cycle between two given daughters\n",
        "\n",
        "\n",
        "  \n",
        "  for c in population_attime:\n",
        "    cell = lin.cells[c]\n",
        "    npole1 = cell['new_pole'][-1]\n",
        "    opole1 = cell['old_pole'][-1]\n",
        "    # get centre of cell 1 for distance function \n",
        "    cell1_centre = get_centre(npole1, opole1) \n",
        "    cell1_length = cell['length'][0] # l0 of cell, needed in the crowdedness calculation\n",
        "    cell_div_length = cell['length'][-1]\n",
        "    neighbours = 0\n",
        "    cell1_width = cell['width'][0]\n",
        "    npole_new = npole1 - cell1_centre\n",
        "    for c2 in population_attime:\n",
        "      cell2 = lin.cells[c2]\n",
        "      if cell['id'] != cell2['id']:\n",
        "        npole2 = cell2['new_pole'][-1]\n",
        "        opole2 = cell2['old_pole'][-1]\n",
        "        cell2_centre = get_centre(npole2, opole2)\n",
        "        cell2_width = cell2['width'][0]\n",
        "        cell2_length = cell2['length'][0]\n",
        "        if is_in_radius(cell1_centre, cell1_length, opole2, npole2):\n",
        "           neighbours = neighbours + 1\n",
        "      \n",
        "    \n",
        "  crowd_ids.append(cell['id'])\n",
        "  nums_of_neighbours.append(neighbours)\n",
        "\n",
        "  return crowd_ids, nums_of_neighbours\n",
        "\n",
        "        "
      ],
      "metadata": {
        "id": "9KGppPnuf8Le"
      },
      "execution_count": null,
      "outputs": []
    },
    {
      "cell_type": "code",
      "source": [
        "sns.histplot()"
      ],
      "metadata": {
        "id": "ByCqRmx0fJ2T"
      },
      "execution_count": null,
      "outputs": []
    },
    {
      "cell_type": "code",
      "source": [
        "crowd_ids =[]\n",
        "nums_of_neighbours =[]\n",
        "\n",
        "for c in lin.cellnumbers[-1]:\n",
        "    cell = lin.cells[c]\n",
        "    npole1 = cell['new_pole'][-1]\n",
        "    opole1 = cell['old_pole'][-1]\n",
        "    # get centre of cell 1 for distance function \n",
        "    cell1_centre = get_centre(npole1, opole1) \n",
        "    cell1_length = cell['length'][0] # l0 of cell, needed in the crowdedness calculation\n",
        "    cell_div_length = cell['length'][-1]\n",
        "    neighbours = 0\n",
        "    cell1_width = cell['width'][0]\n",
        "    for c2 in lin.cellnumbers[-1]:\n",
        "      cell2 = lin.cells[c2]\n",
        "      if cell['id'] != cell2['id']:\n",
        "        npole2 = cell2['new_pole'][-1]\n",
        "        opole2 = cell2['old_pole'][-1]\n",
        "        cell2_centre = get_centre(npole2, opole2)\n",
        "        cell2_width = cell2['width'][0]\n",
        "        cell2_length = cell2['length'][0]\n",
        "        if is_in_radius(cell1_centre, cell1_length, opole2, npole2):\n",
        "           neighbours = neighbours + 1 \n",
        "    crowd_ids.append(cell['id'])\n",
        "    nums_of_neighbours.append(neighbours)\n",
        "\n"
      ],
      "metadata": {
        "id": "PY8omvrpBeMD"
      },
      "execution_count": null,
      "outputs": []
    },
    {
      "cell_type": "code",
      "source": [
        "import numpy as np\n",
        "\n",
        "import matplotlib.cm as cm \n",
        "\n",
        "import plotly.express as px\n",
        "\n",
        "\n",
        "\n",
        "labels = processor.positions[0].rois[0].label_stack[-1]\n",
        "\n",
        "\n",
        "# Initialize color image (all light gray)\n",
        "color_image = np.full(\n",
        "    shape=labels.shape+(3,),\n",
        "    fill_value=175,\n",
        "    dtype=np.uint8\n",
        "    )\n",
        "\n",
        "\n",
        "\n",
        "for cell in lin.cellnumbers[-1]:\n",
        "    if cell in crowd_ids: \n",
        "      i = max(loc for loc, val in enumerate(crowd_ids) if val == cell)\n",
        "      c = cm.viridis((nums_of_neighbours[i])/max(nums_of_neighbours))\n",
        "      color = c[0:3]\n",
        "      # print(color)\n",
        "    else: \n",
        "      color = [0,0,0]\n",
        "    for c, val in enumerate(color):\n",
        "      color_image[:,:,c][labels==cell+1]=val*255\n",
        "\n",
        "    \n",
        "    \n",
        "\n",
        "plt.figure(figsize = (15,15))\n",
        "cax = plt.imshow(color_image)\n",
        "# plt.pcolor(vmin=0, vmax=1)\n",
        "plt.clim(0,13)\n",
        "plt.title('Crowding based on number of cells in radius 2L', fontname = 'STIXGeneral', fontsize = 30, pad = 20)\n",
        "\n",
        "plt.xticks(fontname = 'STIXGeneral', fontsize = 20)\n",
        "plt.yticks(fontname = 'STIXGeneral', fontsize = 20)\n",
        "\n",
        "bar = plt.colorbar().set_label(label='Number of neighbours colourbar',size=30, fontname = 'STIXGeneral')\n",
        "plt.show()\n"
      ],
      "metadata": {
        "id": "gVM2D57Ehqlv"
      },
      "execution_count": null,
      "outputs": []
    },
    {
      "cell_type": "code",
      "source": [
        "crowd_ids=[]\n",
        "\n",
        "crowdness_colony =[]\n",
        "\n",
        "\n",
        "for c in lin.cellnumbers[-1]:\n",
        "    cell = lin.cells[c]\n",
        "    npole1 = cell['new_pole'][-1]\n",
        "    opole1 = cell['old_pole'][-1]\n",
        "    # get centre of cell 1 for distance function \n",
        "    cell1_centre = get_centre(npole1, opole1) \n",
        "    cell1_length = cell['length'][-1]\n",
        "    crowdness = 0\n",
        "    for c2 in lin.cellnumbers[-1]:\n",
        "      cell2 = lin.cells[c2]\n",
        "      if cell['id'] != cell2['id']:\n",
        "        npole2 = cell2['new_pole'][-1]\n",
        "        opole2 = cell2['old_pole'][-1]\n",
        "        cell2_centre = get_centre(npole2, opole2)\n",
        "        cell_distance = get_cell_dist(cell1_centre, cell2_centre)\n",
        "        crowdness = crowdness + get_crowd_2(cell_distance, cell1_length )\n",
        "\n",
        "\n",
        "\n",
        "    crowd_ids.append(cell['id'])\n",
        "    crowdness_colony.append(crowdness)\n",
        "\n"
      ],
      "metadata": {
        "id": "46Ek7W6vF84A"
      },
      "execution_count": null,
      "outputs": []
    },
    {
      "cell_type": "code",
      "source": [
        "labels = processor.positions[0].rois[0].label_stack[-1]\n",
        "\n",
        "\n",
        "# Initialize color image (all light gray)\n",
        "color_image = np.full(\n",
        "    shape=labels.shape+(3,),\n",
        "    fill_value=175,\n",
        "    dtype=np.uint8\n",
        "    )\n",
        "\n",
        "\n",
        "for cell in lin.cellnumbers[-1]:\n",
        "    if cell in crowd_ids: \n",
        "      i = max(loc for loc, val in enumerate(crowd_ids) if val == cell)\n",
        "      c = cm.viridis((crowdness_colony[i])/max(crowdness_colony))\n",
        "      color = c[0:3]\n",
        "      # print(color)\n",
        "    else: \n",
        "      color = [0,0,0]\n",
        "    for c, val in enumerate(color):\n",
        "      color_image[:,:,c][labels==cell+1]=val*255\n",
        "\n",
        "    \n",
        "    \n",
        "\n",
        "plt.figure(figsize = (15,15))\n",
        "cax = plt.imshow(color_image)\n",
        "# plt.pcolor(vmin=0, vmax=1)\n",
        "plt.clim(0,13)\n",
        "plt.title('Exponential crowding', fontname = 'STIXGeneral', fontsize = 30, pad = 20)\n",
        "\n",
        "plt.xticks(fontname = 'STIXGeneral', fontsize = 20)\n",
        "plt.yticks(fontname = 'STIXGeneral', fontsize = 20)\n",
        "\n",
        "bar = plt.colorbar().set_label(label='Exponential crowdness colourbar',size=30, fontname = 'STIXGeneral')\n",
        "plt.show()"
      ],
      "metadata": {
        "id": "ds7cz-PcIpLF"
      },
      "execution_count": null,
      "outputs": []
    },
    {
      "cell_type": "code",
      "source": [
        "from numpy.ma.extras import average\n",
        "\n",
        "def numneighbours_radial(colony):\n",
        "  # record keeping for plotting later\n",
        "  # cell id \n",
        "  crowd_ids = [] \n",
        "  # total crowdedness at a given timepoint, given by frame number \n",
        "  # total_crowdedness = []\n",
        "\n",
        "  nums_of_neighbours = []\n",
        "  # length of div cycle between two given daughters\n",
        "  div_cycle_lengths= []\n",
        "  division_lengths =[]\n",
        "  print(len(colony))\n",
        "  \n",
        "  for cnb in colony: \n",
        "    cell = lin.cells[cnb]\n",
        "    # Line below: for every cell identify the occurrence of every daugther \n",
        "    daughters = [cell['daughters'].index(daughter) for daughter in cell['daughters'] if daughter is not None]\n",
        "    # print(cell['id'])\n",
        "    if len(daughters) > 0: #if the cell has divided\n",
        "      for daughter in daughters: \n",
        "        #take care with definition daughter: daughter is the index position in cell in daughter list, when daughter is not none\n",
        "        # this is then converted to a frame number which can be used to compare and calculate distances to other cells in the same frame\n",
        "        idx= daughter-1\n",
        "        # print(daughter, idx)\n",
        "        frame_no = cell['frames'][idx]\n",
        "        # print(frame_no)\n",
        "        npole1 = cell['new_pole'][idx]\n",
        "        opole1 = cell['old_pole'][idx]\n",
        "        # get centre of cell 1 for distance function \n",
        "        cell1_centre = get_centre(npole1, opole1) \n",
        "        cell1_length = cell['length'][0] # l0 of cell, needed in the crowdedness calculation\n",
        "        cell_div_length = cell['length'][idx]\n",
        "        neighbours = 0\n",
        "        cell1_width = cell['width'][0]\n",
        "        npole_new = npole1 - cell1_centre\n",
        "        for cell2 in lin.cells:\n",
        "        # for cnb2 in colony:\n",
        "        #   cell2 = lin.cells[cnb2]\n",
        "          if cell['id'] != cell2['id'] and frame_no in cell2['frames']:\n",
        "            idx2 = cell2['frames'].index(frame_no)\n",
        "            # set cell poles \n",
        "            npole2 = cell2['new_pole'][idx2]\n",
        "            opole2 = cell2['old_pole'][idx2]\n",
        "            cell2_centre = get_centre(npole2, opole2)\n",
        "            cell2_width = cell2['width'][0]\n",
        "            cell2_length = cell2['length'][0]\n",
        "            if (get_cell_dist(opole1, npole2) < (2*cell1_width)) or (get_cell_dist(opole1, opole2) < (2*cell1_width)) or (get_cell_dist(npole1, opole2) < (2*cell1_width)) or (get_cell_dist(npole1, npole2) < (2*cell1_width)): \n",
        "              neighbours = neighbours + 1\n",
        "            # elif get_poleside(cell1_centre, npole1, opole1, npole2, opole2, cell1_length, cell1_width) is True:\n",
        "            #   neighbours = neighbours + 1\n",
        "            elif get_poleside_flipped(cell2_centre, opole1, npole1, npole2, opole2, cell2_length, cell2_width) is True:\n",
        "              neighbours = neighbours + 1\n",
        "            # conditions for calculating cell cycle are different, depending if there is only one div or more\n",
        "            daughter_index = daughters.index(daughter)\n",
        "            if len(daughters) > 1 and daughter_index > 0:\n",
        "              prev_daughter = daughters[daughter_index-1]\n",
        "              # print(daughter, prev_daughter)\n",
        "              div_cycle = frame_no - cell['frames'][prev_daughter]\n",
        "            else:\n",
        "              div_cycle = frame_no - cell['frames'][0]\n",
        "            # print(neighbours)\n",
        "      if div_cycle > 0:\n",
        "        div_cycle_lengths.append(div_cycle)\n",
        "        nums_of_neighbours.append(neighbours)\n",
        "        division_lengths.append(cell_div_length)\n",
        "        crowd_ids.append(cell['id'])\n",
        "\n",
        "\n",
        "    #Plotting for length in relation to crowdedness \n",
        "    # print(crowd_ids, nums_of_neighbours,  div_cycle_lengths)\n",
        "  print(max(nums_of_neighbours))\n",
        "  plt.scatter(nums_of_neighbours, div_cycle_lengths)\n",
        "  plt.xlabel('Number of pole:pole or pole:side neighbours')\n",
        "  plt.ylabel('Division cycle length')\n",
        "  plt.title(\"Division length vs Number of neighbours for Wt colony of size 77 \")\n",
        "  plt.xlim(0, max(nums_of_neighbours)+1)\n",
        "  plt.ylim(0, max(div_cycle_lengths) +1)\n",
        "  theta = np.polyfit(nums_of_neighbours, div_cycle_lengths, 1)\n",
        "  y_line =[]\n",
        "  for i in range(len(nums_of_neighbours)): \n",
        "    y = theta[1] + theta[0] * i\n",
        "    y_line.append(y)\n",
        "  plt.plot(y_line)\n",
        "  plt.legend([str(theta[0]) + 'x' + ','+ str(theta[1])], loc = 'best')\n",
        "  plt.figure(figsize = (15,20))\n",
        "  print(theta)\n",
        "    # plt.xlabel('Crowdedness at division time')\n",
        "    # plt.ylabel('Division cycle length ')\n",
        "  # return crowd_ids, division_lengths, total_crowdedness, div_cycle_lengths , plot\n",
        "  print(len(crowd_ids))\n",
        "  # print(nums_of_neighbours)\n",
        "  print(average(nums_of_neighbours))\n",
        "  print(average(div_cycle_lengths))\n",
        "  # print(div_cycle_lengths)\n",
        "  print(len(colony))\n",
        "  print(max(nums_of_neighbours))\n",
        "  return crowd_ids, nums_of_neighbours, div_cycle_lengths\n"
      ],
      "metadata": {
        "id": "UUCGDPNsSj2u"
      },
      "execution_count": null,
      "outputs": []
    },
    {
      "cell_type": "code",
      "source": [],
      "metadata": {
        "id": "Kb9-DaRVCOlD"
      },
      "execution_count": null,
      "outputs": []
    },
    {
      "cell_type": "code",
      "source": [
        "# Rework to make this work across an entire population \n",
        "from numpy.ma.extras import average\n",
        "import seaborn as sns \n",
        "\n",
        "def numneighbours_colony_radial(colony):\n",
        "  # record keeping for plotting later\n",
        "  # cell id \n",
        "  crowd_ids = [] \n",
        "  # total crowdedness at a given timepoint, given by frame number \n",
        "  # total_crowdedness = []\n",
        "\n",
        "  nums_of_neighbours = []\n",
        "  # length of div cycle between two given daughters\n",
        "  div_cycle_lengths= []\n",
        "  division_lengths =[]\n",
        "\n",
        "  \n",
        "  for cnb in colony : \n",
        "    cell = lin.cells[cnb]\n",
        "  # Line below: for every cell identify the occurrence of every daugther \n",
        "    daughters = [cell['daughters'].index(daughter) for daughter in cell['daughters'] if daughter is not None]\n",
        "  # print(cell['id'])\n",
        "    if len(daughters) > 0: #if the cell has divided\n",
        "      for daughter in daughters: \n",
        "        #take care with definition daughter: daughter is the index position in cell in daughter list, when daughter is not none\n",
        "        # this is then converted to a frame number which can be used to compare and calculate distances to other cells in the same frame\n",
        "        idx= daughter-1\n",
        "        # print(daughter, idx)\n",
        "        frame_no = cell['frames'][idx]\n",
        "        # print(frame_no)\n",
        "        npole1 = cell['new_pole'][idx]\n",
        "        opole1 = cell['old_pole'][idx]\n",
        "        # get centre of cell 1 for distance function \n",
        "        cell1_centre = get_centre(npole1, opole1) \n",
        "        cell1_length = cell['length'][0] # l0 of cell, needed in the crowdedness calculation\n",
        "        cell_div_length = cell['length'][idx]\n",
        "        neighbours = 0\n",
        "        cell1_width = cell['width'][0]\n",
        "        npole_new = npole1 - cell1_centre\n",
        "        for cnb2 in colony:\n",
        "          cell2 = lin.cells[cnb2]\n",
        "          if cell['id'] != cell2['id'] and frame_no in cell2['frames']:\n",
        "            idx2 = cell2['frames'].index(frame_no)\n",
        "            # set cell poles \n",
        "            npole2 = cell2['new_pole'][idx2]\n",
        "            opole2 = cell2['old_pole'][idx2]\n",
        "            cell2_centre = get_centre(npole2, opole2)\n",
        "            cell2_width = cell2['width'][0]\n",
        "            cell2_length = cell2['length'][0]\n",
        "            if is_in_radius(cell1_centre , cell1_length ,opole2, npole2): \n",
        "              neighbours = neighbours + 1\n",
        "              # if (get_cell_dist(opole1, npole2) < (2*cell1_width)) or (get_cell_dist(opole1, opole2) < (2*cell1_width)) or (get_cell_dist(npole1, opole2) < (2*cell1_width)) or (get_cell_dist(npole1, npole2) < (2*cell1_width)): \n",
        "              #   neighbours = neighbours + 1\n",
        "              #   # elif get_poleside(cell1_centre, npole1, opole1, npole2, opole2, cell1_length, cell1_width) is True:\n",
        "              #   #   neighbours = neighbours + 1\n",
        "              # elif get_poleside_flipped(cell2_centre, opole1, npole1, npole2, opole2, cell2_length, cell2_width) is True:\n",
        "              #   neighbours = neighbours + 1\n",
        "                # conditions for calculating cell cycle are different, depending if there is only one div or more\n",
        "            daughter_index = daughters.index(daughter)\n",
        "            if len(daughters) > 1 and daughter_index > 0:\n",
        "              prev_daughter = daughters[daughter_index-1]\n",
        "              # print(daughter, prev_daughter)\n",
        "              div_cycle = frame_no - cell['frames'][prev_daughter]\n",
        "            else:\n",
        "              div_cycle = frame_no - cell['frames'][0]\n",
        "              # print(neighbours)\n",
        "    if div_cycle > 0:\n",
        "      div_cycle_lengths.append(div_cycle)\n",
        "      nums_of_neighbours.append(neighbours)\n",
        "      division_lengths.append(cell_div_length)\n",
        "      crowd_ids.append(cell['id'])\n",
        "\n",
        "\n",
        "\n",
        "  # ax = sns.boxplot(nums_of_neighbours, div_cycle_lengths )\n",
        "  # ax.set_xlabel('Number of neighbouring cells in raidus 2l')\n",
        "  # ax.set_ylabel('Division cycle length(frames)')\n",
        "  # plt.xlim(0, max(nums_of_neighbours)+1)\n",
        "  # plt.ylim(0, max(div_cycle_lengths) +1)\n",
        "  # plt.show()\n",
        "  \n",
        "\n",
        "    #Plotting for length in relation to crowdedness \n",
        "    # print(crowd_ids, nums_of_neighbours,  div_cycle_lengths)\n",
        "  # print(max(nums_of_neighbours))\n",
        "  # plt.scatter(nums_of_neighbours, div_cycle_lengths)\n",
        "  # plt.xlabel('Number of pole:pole or pole:side neighbours')\n",
        "  # plt.ylabel('Division cycle length')\n",
        "  # plt.title(\"Division length vs Number of neighbours for Wt colony of size 77 \")\n",
        "  # \n",
        "  # theta = np.polyfit(nums_of_neighbours, div_cycle_lengths, 1)\n",
        "  # y_line =[]\n",
        "  # for i in range(len(nums_of_neighbours)): \n",
        "  #   y = theta[1] + theta[0] * i\n",
        "  #   y_line.append(y)\n",
        "  # plt.plot(y_line)\n",
        "  # plt.legend([str(theta[0]) + 'x' + ','+ str(theta[1])], loc = 'best')\n",
        "  # plt.figure(figsize = (15,20))\n",
        "  # print(theta)\n",
        "    # plt.xlabel('Crowdedness at division time')\n",
        "    # plt.ylabel('Division cycle length ')\n",
        "  # return crowd_ids, division_lengths, total_crowdedness, div_cycle_lengths , plot\n",
        "  # print(len(crowd_ids))\n",
        "  # # print(nums_of_neighbours)\n",
        "  # print(average(nums_of_neighbours))\n",
        "  # print(average(div_cycle_lengths))\n",
        "  # # print(div_cycle_lengths)\n",
        "  # print(max(nums_of_neighbours))\n",
        "  return crowd_ids, nums_of_neighbours, div_cycle_lengths\n",
        "\n",
        "\n",
        "\n",
        "\n"
      ],
      "metadata": {
        "id": "VxJYogSmWjPz"
      },
      "execution_count": null,
      "outputs": []
    },
    {
      "cell_type": "code",
      "source": [
        "c11_ids, c11_neighbs, c11_cycles = numneighbours_colony_radial(colony_1011_ref)\n"
      ],
      "metadata": {
        "id": "1VBaGACTg8vf"
      },
      "execution_count": null,
      "outputs": []
    },
    {
      "cell_type": "code",
      "source": [
        "plt.figure(figsize=(15,10))\n",
        "sns.boxplot(c11_neighbs,c11_cycles)\n",
        "plt.title ('Division Cycle length vs Number of Neighbours in radius 2l ', fontname = 'STIXGeneral', fontsize = 23, pad = 20)\n",
        "# ax.set_xticklabels(fontname = 'STIXGeneral', fontsize=20)\n",
        "# ax.set_yticks(fontname = 'STIXGeneral', fontsize=20)\n",
        "ylabels = plt.yticks(fontname = 'STIXGeneral', fontsize=22)\n",
        "xlabels = plt.xticks(fontname = 'STIXGeneral', fontsize=22)\n",
        "plt.ylabel('Length of cell cycle (frames)', fontname = 'STIXGeneral', fontsize=22)\n",
        "plt.xlabel('Number of Neighbours in 2l radius', fontname = 'STIXGeneral', fontsize=22)\n"
      ],
      "metadata": {
        "id": "7BCfyrjuhntr"
      },
      "execution_count": null,
      "outputs": []
    },
    {
      "cell_type": "code",
      "source": [
        "colony_20 = get_colony(lin.cells, 20)\n",
        "colony_21 = get_colony(lin.cells, 21)\n",
        "colony_24 = get_colony(lin.cells, 24)\n",
        "colony_25 = get_colony(lin.cells, 25)\n",
        "\n",
        "colony_2 = colony_20 + colony_21 + colony_24 + colony_25\n",
        "\n",
        "\n",
        "# refinement \n",
        "# plotting the crowdedness of each cell in the population at a given time (change the index of lin.cellnumbers) \n",
        "print(len(colony_2))\n",
        "for cnb in colony_2:\n",
        "  cell = lin.cells[cnb]\n",
        "  npole1 = cell['new_pole'][-1]\n",
        "  opole1 = cell['old_pole'][-1]\n",
        "  # get centre of cell 1 for distance function \n",
        "  cell1_centre = get_centre(npole1, opole1)\n",
        "  cell1_length = get_length_alt(npole1, opole1)\n",
        "  cell1_width = cell['width'][0]\n",
        "  for cnb2 in lin.cellnumbers[-1]:\n",
        "    if cnb2 not in  colony_2:\n",
        "      cell2 = lin.cells[cnb2]\n",
        "      npole2 = cell2['new_pole'][-1]\n",
        "      opole2 = cell2['old_pole'][-1]\n",
        "      cell2_centre = get_centre(npole2, opole2)\n",
        "      if (get_cell_dist(opole1, npole2) < (2*cell1_width)) or (get_cell_dist(opole1, opole2) < (2*cell1_width)) or (get_cell_dist(npole1, opole2) < (2*cell1_width)) or (get_cell_dist(npole1, npole2) < (2*cell1_width)): \n",
        "        if cell2['id'] not in colony_2:\n",
        "          colony_2.append(cnb2)\n",
        "    # elif get_poleside(cell1_centre, npole1, opole1, npole2, opole2, cell1_length, cell1_width) is True:\n",
        "    #   colony_2.append(cnb2)\n",
        "\n",
        "print(len(colony_2))\n",
        "\n"
      ],
      "metadata": {
        "id": "ieQ3_M1qbNvu"
      },
      "execution_count": null,
      "outputs": []
    },
    {
      "cell_type": "code",
      "source": [
        "colony_3 = []\n",
        "\n",
        "colony_19 = get_colony(lin.cells, 19)\n",
        "colony_28= get_colony(lin.cells, 28)\n",
        "colony_54 = get_colony(lin.cells, 54)\n",
        "\n",
        "colony_3 = colony_19 + colony_28 + colony_54\n",
        "\n",
        "\n",
        "print(len(colony_3))\n",
        "for cnb in colony_3:\n",
        "  cell = lin.cells[cnb]\n",
        "  npole1 = cell['new_pole'][-1]\n",
        "  opole1 = cell['old_pole'][-1]\n",
        "  # get centre of cell 1 for distance function \n",
        "  cell1_centre = get_centre(npole1, opole1)\n",
        "  cell1_length = get_length_alt(npole1, opole1)\n",
        "  cell1_width = cell['width'][0]\n",
        "  for cnb2 in lin.cellnumbers[-1]:\n",
        "    if cnb2 not in  colony_3:\n",
        "      cell2 = lin.cells[cnb2]\n",
        "      npole2 = cell2['new_pole'][-1]\n",
        "      opole2 = cell2['old_pole'][-1]\n",
        "      cell2_centre = get_centre(npole2, opole2)\n",
        "      if (get_cell_dist(opole1, npole2) < (2*cell1_width)) or (get_cell_dist(opole1, opole2) < (2*cell1_width)) or (get_cell_dist(npole1, opole2) < (2*cell1_width)) or (get_cell_dist(npole1, npole2) < (2*cell1_width)): \n",
        "        if cell2['id'] not in colony_3:\n",
        "          colony_3.append(cnb2)\n",
        "    # elif get_poleside(cell1_centre, npole1, opole1, npole2, opole2, cell1_length, cell1_width) is True:\n",
        "    #   colony_2.append(cnb2)\n",
        "\n",
        "print(len(colony_3))\n",
        "\n",
        "\n"
      ],
      "metadata": {
        "id": "FZBx_7Y6b6O0"
      },
      "execution_count": null,
      "outputs": []
    },
    {
      "cell_type": "code",
      "source": [],
      "metadata": {
        "id": "MTplNoKgaG0R"
      },
      "execution_count": null,
      "outputs": []
    },
    {
      "cell_type": "code",
      "source": [
        "import numpy as np\n",
        "\n",
        "import matplotlib.cm as cm \n",
        "\n",
        "import plotly.express as px\n",
        "\n",
        "labels = processor.positions[0].rois[0].label_stack[-1]\n",
        "\n",
        "# Initialize color image (all light gray)\n",
        "color_image = np.full(\n",
        "    shape=labels.shape+(3,),\n",
        "    fill_value=175,\n",
        "    dtype=np.uint8\n",
        "    )\n",
        "\n",
        "# col_1011_cids, col_1011_neighbours, col_1011_cycles = numneighbours_radial(colony_1011)\n",
        "col_2_cids, col_2_neighbours, col_2_cycles = numneighbours_radial(colony_2)\n",
        "\n",
        "# for cell in lin.cellnumbers[-1]:\n",
        "#   if cell in colony_1011:\n",
        "#     if cell in col_1011_cids: \n",
        "#       i = max(loc for loc, val in enumerate(col_1011_cids) if val == cell)\n",
        "#       c = cm.viridis((col_1011_neighbours[i])/10)\n",
        "#       color = c[0:3]\n",
        "#       # print(color)\n",
        "#   else: \n",
        "#     color = [0,0,0]\n",
        "#   for c, val in enumerate(color):\n",
        "#     color_image[:,:,c][labels==cell+1]=val*255\n",
        "\n",
        "for cell in lin.cellnumbers[-1]:\n",
        "  if cell in colony_2:\n",
        "    if cell in col_2_cids: \n",
        "      i = max(loc for loc, val in enumerate(col_2_cids) if val == cell)\n",
        "      c = cm.viridis((col_2_neighbours[i])/12)\n",
        "      color = c[0:3]\n",
        "      # print(color)\n",
        "  else: \n",
        "    color = [0,0,0]\n",
        "  for c, val in enumerate(color):\n",
        "    color_image[:,:,c][labels==cell+1]=val*255\n",
        "\n",
        "\n",
        "    \n",
        "    \n",
        "    \n",
        "    \n",
        "        \n",
        "\n",
        "\n",
        "plt.figure(figsize = (15,15))\n",
        "plt.imshow(color_image)\n",
        "plt.colorbar()\n",
        "plt.show()\n"
      ],
      "metadata": {
        "id": "1yPG9bEwIgkI"
      },
      "execution_count": null,
      "outputs": []
    },
    {
      "cell_type": "code",
      "source": [
        "import numpy as np\n",
        "import matplotlib.cm  as cm \n",
        "\n",
        "\n",
        "\n",
        "labels = processor.positions[0].rois[0].label_stack[-1]\n",
        "\n",
        "# Initialize color image (all light gray)\n",
        "color_image = np.full(\n",
        "    shape=labels.shape+(3,),\n",
        "    fill_value=175,\n",
        "    dtype=np.uint8\n",
        "    )\n",
        "\n",
        "\n",
        "\n",
        "# col_1011_cids, col_1011_neighbours, col_1011_cycles = numneighbours_radial(colony_1011)\n",
        "\n",
        "for cell in lin.cellnumbers[-1]:\n",
        "  if cell in colony_2:\n",
        "    # color =  col_1011_neighbours\n",
        "    color = [0,255,0]\n",
        "  else: \n",
        "     color = [0,0,0]\n",
        "\n",
        "\n",
        "  for c, val in enumerate(color):\n",
        "      color_image[:,:,c][labels==cell+1]=val\n",
        "      \n",
        "\n",
        "\n",
        "\n",
        "plt.figure(figsize = (15,15))\n",
        "plt.imshow(color_image)\n",
        "plt.show()"
      ],
      "metadata": {
        "id": "LaFO-2DIUoDC"
      },
      "execution_count": null,
      "outputs": []
    },
    {
      "cell_type": "code",
      "execution_count": null,
      "metadata": {
        "id": "zphfXe4ECv5s"
      },
      "outputs": [],
      "source": [
        "# code to calculate crowdedness during a division event \n",
        "import math\n",
        "import numpy as np\n",
        "\n",
        "def get_centre(npole, opole): # get cell centre, using the coordinates between two poles of the cell \n",
        "  cell_centre = ((npole[0] + opole[0])/2 ,  (npole[1] + opole[1])/2)\n",
        "  return cell_centre\n",
        "\n",
        "def get_cell_dist(centre1, centre2): # get the distance between two cell centres \n",
        "  # dist = ((centre1[0] + centre2[0])/2 ,  (centre1[1] + centre2[1])/2)\n",
        "  dist = math.sqrt(((centre1[0] - centre2[0])**2 + (centre1[1] - centre2[1])**2))\n",
        "  return dist\n",
        "\n",
        "def get_crowd_2(cell_dist, cell_length):\n",
        "  crowd = math.e**((-cell_dist/cell_length))\n",
        "  return crowd\n",
        "\n",
        "# not useful - use centre \n",
        "def is_neighbour(centre1, c2_opole, c2_npole, cell1_l0):\n",
        "  dist_opole = math.sqrt(((centre1[0] - c2_opole[0])**2 + (centre1[1] - c2_opole[1])**2))\n",
        "  dist_npole = math.sqrt(((centre1[0] - c2_npole[0])**2 + (centre1[1] - c2_npole[1])**2))\n",
        "  if dist_opole < 2*cell1_l0 or dist_npole < 2*cell1_l0: \n",
        "    return True \n",
        "  else: \n",
        "    return False \n",
        "\n",
        "def is_in_radius(centre1,cell1_l0,c2_opole, c2_npole): \n",
        "  radius = cell1_l0\n",
        "  return(((c2_opole[0] - centre1[0])**2 + (c2_opole[1] - centre1[1])**2) < radius **2 or  ((c2_npole[0] - centre1[0])**2 + (c2_npole[1] - centre1[1])**2) < radius **2)\n",
        "  \n",
        "def get_length_alt(npole, opole):\n",
        "  cell_length = math.sqrt((opole[0]- npole[0])**2 + (opole[1]- npole[1])**2)\n",
        "  return cell_length\n",
        "\n",
        "def get_poleside(centre1, opole1, npole1, npole2, opole2, cell1_length, cell1_width):\n",
        "  # substracting the coordinates of the centre of cell1 ( the cell in question) from the poles of all cells \n",
        "  # After this, the centre of cell 1 lies at 0,0 \n",
        "  opole1_new = [opole1[0] - centre1[0], centre1[1] - centre1[1]]\n",
        "  npole1_new = [npole1[0] - centre1[0] , centre1[1] - centre1[1]]\n",
        "  npole2_new = [npole2[0] - centre1[0] , npole2[1] - centre1[1]]\n",
        "  opole2_new = [opole2[0] - centre1[0] , opole2[1] - centre1[1]]\n",
        "  # tan theta for cell 1: y(npole)- y(opole) / x(npole) -x(opole)\n",
        "  # opole and npole is just delta nomenclature for the 2 poles \n",
        "  tantheta = (opole1[1]- npole1[1]) / (opole1[0]- npole1[0])\n",
        "  # using arctan to get theta \n",
        "  theta = math.atan(tantheta)\n",
        "  #  creating a rotation matrix, rot using the theta obtained \n",
        "  rot = np.array([[math.cos(theta), -math.sin(theta)], [math.sin(theta), math.cos(theta)]])\n",
        "  # multiplying each coordinate by rotation matrix to perform rotation\n",
        "  opole1_rot = np.dot(rot, opole1_new)\n",
        "  npole1_rot = np.dot(rot, npole1_new)\n",
        "  opole2_rot = np.dot(rot, opole2_new)    \n",
        "  npole2_rot = np.dot(rot, npole2_new)\n",
        "  neg_cell_length = -cell1_length\n",
        "  # now for each pole of cell 2 : \n",
        "  # first checking that the x coordinate lies within the length of cell 1 \n",
        "  if ( neg_cell_length/2 < npole2_rot[0] < cell1_length/2): \n",
        "    # if that is the case, checking that the y coordinate is within 2w of cell1 \n",
        "    if  npole2_rot[1] < 2*cell1_width:\n",
        "      return True \n",
        "  elif ( neg_cell_length < opole2_rot[0] < cell1_length):\n",
        "    if  opole2_rot[1] < 2*cell1_width:\n",
        "      return True\n",
        " \n",
        "\n",
        "  # if abs(npole2_rot[0]) < cell1_length:\n",
        "  #   if  npole2_rot[1] < 2*cell1_width:\n",
        "  #      return True \n",
        "  # elif abs(opole2_rot[0]) < cell1_length:\n",
        "  #   if  opole2_rot[1] < 2*cell1_width:\n",
        "  #     return True\n",
        "\n"
      ]
    },
    {
      "cell_type": "markdown",
      "source": [
        "### Calculating number of neighbours in a 2L raidus"
      ],
      "metadata": {
        "id": "6bEAHc5Fu0K7"
      }
    },
    {
      "cell_type": "code",
      "source": [],
      "metadata": {
        "id": "Z_LxqubdnMis"
      },
      "execution_count": null,
      "outputs": []
    },
    {
      "cell_type": "code",
      "source": [
        "from numpy.ma.extras import average\n",
        "def numneighbours_radial(colony):\n",
        "  # record keeping for plotting later\n",
        "  # cell id \n",
        "  crowd_ids = [] \n",
        "  # total crowdedness at a given timepoint, given by frame number \n",
        "  # total_crowdedness = []\n",
        "\n",
        "  nums_of_neighbours = []\n",
        "  # length of div cycle between two given daughters\n",
        "  div_cycle_lengths= []\n",
        "  division_lengths =[]\n",
        "  print(len(colony))\n",
        "  \n",
        "  for cnb in colony: \n",
        "    cell = lin.cells[cnb]\n",
        "    # Line below: for every cell identify the occurrence of every daugther \n",
        "    daughters = [cell['daughters'].index(daughter) for daughter in cell['daughters'] if daughter is not None]\n",
        "    # print(cell['id'])\n",
        "    if len(daughters) > 0: #if the cell has divided\n",
        "      for daughter in daughters: \n",
        "        #take care with definition daughter: daughter is the index position in cell in daughter list, when daughter is not none\n",
        "        # this is then converted to a frame number which can be used to compare and calculate distances to other cells in the same frame\n",
        "        idx= daughter-1\n",
        "        # print(daughter, idx)\n",
        "        frame_no = cell['frames'][idx]\n",
        "        # print(frame_no)\n",
        "        npole1 = cell['new_pole'][idx]\n",
        "        opole1 = cell['old_pole'][idx]\n",
        "        # get centre of cell 1 for distance function \n",
        "        cell1_centre = get_centre(npole1, opole1) \n",
        "        cell1_length = cell['length'][0] # l0 of cell, needed in the crowdedness calculation\n",
        "        cell_div_length = cell['length'][idx]\n",
        "        neighbours = 0\n",
        "        cell1_width = cell['width'][0]\n",
        "        npole_new = npole1 - cell1_centre\n",
        "        for cell2 in lin.cells:\n",
        "        # for cnb2 in colony:\n",
        "        #   cell2 = lin.cells[cnb2]\n",
        "          if cell['id'] != cell2['id'] and frame_no in cell2['frames']:\n",
        "            idx2 = cell2['frames'].index(frame_no)\n",
        "            # set cell poles \n",
        "            npole2 = cell2['new_pole'][idx2]\n",
        "            opole2 = cell2['old_pole'][idx2]\n",
        "            cell2_centre = get_centre(npole2, opole2)\n",
        "            if (get_cell_dist(opole1, npole2) < (2*cell1_width)) or (get_cell_dist(opole1, opole2) < (2*cell1_width)) or (get_cell_dist(npole1, opole2) < (2*cell1_width)) or (get_cell_dist(npole1, npole2) < (2*cell1_width)): \n",
        "              neighbours = neighbours + 1\n",
        "              # if cell2['id'] not in colony: \n",
        "              #     colony.append(cell2['id'])\n",
        "            # elif get_poleside(cell1_centre, npole1, opole1, npole2, opole2, cell1_length, cell1_width) is True:\n",
        "            #   neighbours = neighbours + 1\n",
        "            #   if cell2['id'] not in colony: \n",
        "            #       colony.append(cell2['id'])\n",
        "              # print(neighbours)\n",
        "            # conditions for calculating cell cycle are different, depending if there is only one div or more\n",
        "            daughter_index = daughters.index(daughter)\n",
        "            if len(daughters) > 1 and daughter_index > 0:\n",
        "              prev_daughter = daughters[daughter_index-1]\n",
        "              # print(daughter, prev_daughter)\n",
        "              div_cycle = frame_no - cell['frames'][prev_daughter]\n",
        "            else:\n",
        "              div_cycle = frame_no - cell['frames'][0]\n",
        "            # print(neighbours)\n",
        "      if div_cycle > 0:\n",
        "        div_cycle_lengths.append(div_cycle)\n",
        "        nums_of_neighbours.append(neighbours)\n",
        "        division_lengths.append(cell_div_length)\n",
        "        crowd_ids.append(cell['id'])\n",
        "\n",
        "\n",
        "    #Plotting for length in relation to crowdedness \n",
        "    # print(crowd_ids, nums_of_neighbours,  div_cycle_lengths)\n",
        "  print(max(nums_of_neighbours))\n",
        "  plot = plt.scatter(nums_of_neighbours, div_cycle_lengths)\n",
        "  plt.xlabel('Number of Neighbours in raidus 2L0')\n",
        "  plt.ylabel('Crowdedness at division time')\n",
        "  plt.title(\"Division length vs Number of neighbours for Wt colony of size 77 \")\n",
        "    # plt.xlabel('Crowdedness at division time')\n",
        "    # plt.ylabel('Division cycle length ')\n",
        "  # return crowd_ids, division_lengths, total_crowdedness, div_cycle_lengths , plot\n",
        "  print(len(crowd_ids))\n",
        "  # print(nums_of_neighbours)\n",
        "  print(average(nums_of_neighbours))\n",
        "  print(average(div_cycle_lengths))\n",
        "  # print(div_cycle_lengths)\n",
        "  print(len(colony))\n",
        "  print(max(nums_of_neighbours))\n",
        "  return crowd_ids, nums_of_neighbours, div_cycle_lengths\n"
      ],
      "metadata": {
        "id": "p4otIQ52V0ez"
      },
      "execution_count": null,
      "outputs": []
    },
    {
      "cell_type": "code",
      "source": [],
      "metadata": {
        "id": "gjUcYYWcDYc_"
      },
      "execution_count": null,
      "outputs": []
    },
    {
      "cell_type": "code",
      "source": [],
      "metadata": {
        "id": "lRnbjgZTcndw"
      },
      "execution_count": null,
      "outputs": []
    },
    {
      "cell_type": "code",
      "source": [
        "import numpy as np\n",
        "\n",
        "import matplotlib.cm as cm \n",
        "\n",
        "import plotly.express as px\n",
        "\n",
        "labels = processor.positions[0].rois[0].label_stack[-1]\n",
        "\n",
        "# Initialize color image (all light gray)\n",
        "color_image = np.full(\n",
        "    shape=labels.shape+(3,),\n",
        "    fill_value=175,\n",
        "    dtype=np.uint8\n",
        "    )\n",
        "\n",
        "col_1011_cids, col_1011_neighbours, col_1011_cycles = numneighbours_radial(colony_1011)\n",
        "\n",
        "for cell in lin.cellnumbers[-1]:\n",
        "  if cell in colony_1011:\n",
        "    if cell in col_1011_cids: \n",
        "      i = max(loc for loc, val in enumerate(col_1011_cids) if val == cell)\n",
        "      color = cm.viridis((col_1011_neighbours[i])/8)\n",
        "      print(color)\n",
        "      for c, val in enumerate(color):\n",
        "        color_image[:,:,c][labels==cell+1]=val*255\n",
        "    else: \n",
        "      color = [0,0,0]\n",
        "      for c, val in enumerate(color):\n",
        "        color_image[:,:,c][labels==cell+1]=val\n",
        "    \n",
        "      \n",
        "        \n",
        "\n",
        "\n",
        "plt.figure(figsize = (15,15))\n",
        "plt.imshow(color_image)\n",
        "# plt.pcolor(vmin=0, vmax=1)\n",
        "plt.colorbar()\n",
        "plt.show()\n"
      ],
      "metadata": {
        "id": "IZv_8JPhPF-V"
      },
      "execution_count": null,
      "outputs": []
    },
    {
      "cell_type": "code",
      "source": [
        "f"
      ],
      "metadata": {
        "id": "zA5xihATgIml"
      },
      "execution_count": null,
      "outputs": []
    },
    {
      "cell_type": "markdown",
      "source": [
        "## Calculating number of neighbours based on pole/pole and side side "
      ],
      "metadata": {
        "id": "F6EtA5kDLKWw"
      }
    },
    {
      "cell_type": "code",
      "source": [
        "def numneighbours_poleside(colony):\n",
        "  # record keeping for plotting later\n",
        "  # cell id \n",
        "  crowd_ids = [] \n",
        "  # total crowdedness at a given timepoint, given by frame number \n",
        "  # total_crowdedness = []\n",
        "\n",
        "  nums_of_neighbours = []\n",
        "  # length of div cycle between two given daughters\n",
        "  div_cycle_lengths= []\n",
        "  division_lengths =[]\n",
        "  \n",
        "  for cnb in colony: \n",
        "    cell = lin.cells[cnb]\n",
        "    # Line below: for every cell identify the occurrence of every daugther \n",
        "    daughters = [cell['daughters'].index(daughter) for daughter in cell['daughters'] if daughter is not None]\n",
        "    # print(cell['id'])\n",
        "    if len(daughters) > 0: #if the cell has divided\n",
        "      for daughter in daughters: \n",
        "        #take care with definition daughter: daughter is the index position in cell in daughter list, when daughter is not none\n",
        "        # this is then converted to a frame number which can be used to compare and calculate distances to other cells in the same frame\n",
        "        idx= daughter-1\n",
        "        # print(daughter, idx)\n",
        "        frame_no = cell['frames'][idx]\n",
        "        # print(frame_no)\n",
        "        npole1 = cell['new_pole'][idx]\n",
        "        opole1 = cell['old_pole'][idx]\n",
        "        # get centre of cell 1 for distance function \n",
        "        cell1_centre = get_centre(npole1, opole1) \n",
        "        cell1_length = cell['length'][0] # l0 of cell, needed in the crowdedness calculation\n",
        "        cell_div_length = cell['length'][idx]\n",
        "        neighbours = 0\n",
        "        for cell2 in lin.cells:\n",
        "        # for cnb2 in colony:\n",
        "          # cell2 = lin.cells[cnb2]\n",
        "          if cell['id'] != cell2['id'] and frame_no in cell2['frames']:\n",
        "            idx2 = cell2['frames'].index(frame_no)\n",
        "            # set cell poles \n",
        "            npole2 = cell2['new_pole'][idx2]\n",
        "            opole2 = cell2['old_pole'][idx2]\n",
        "            # nb = is_in_raidus( cell1_centre , cell1_length,opole2,npole2)\n",
        "            # print(nb)\n",
        "            cell2_centre = get_centre(npole2, opole2) \n",
        "            if \n",
        "              neighbours = neighbours + 1\n",
        "              # print(neighbours)\n",
        "            # conditions for calculating cell cycle are different, depending if there is only one div or more\n",
        "            daughter_index = daughters.index(daughter)\n",
        "            if len(daughters) > 1 and daughter_index > 0:\n",
        "              prev_daughter = daughters[daughter_index-1]\n",
        "              # print(daughter, prev_daughter)\n",
        "              div_cycle = frame_no - cell['frames'][prev_daughter]\n",
        "            else:\n",
        "              div_cycle = frame_no - cell['frames'][0]\n",
        "            # print(neighbours)\n",
        "        if div_cycle > 0:\n",
        "          div_cycle_lengths.append(div_cycle)\n",
        "          nums_of_neighbours.append(neighbours)\n",
        "          division_lengths.append(cell_div_length)\n",
        "          crowd_ids.append(cell['id'])\n",
        "\n",
        "\n",
        "    #Plotting for length in relation to crowdedness \n",
        "    # print(crowd_ids, nums_of_neighbours,  div_cycle_lengths)\n",
        "  plot = plt.scatter(nums_of_neighbours, div_cycle_lengths)\n",
        "  plt.xlabel('Number of Neighbours at distance < L0 ')\n",
        "  plt.ylabel('Division cycle lengths')\n",
        "  plt.title(\"Division length vs Number of neighbours for Wt colony of size 77 \")\n",
        "    # plt.xlabel('Crowdedness at division time')\n",
        "    # plt.ylabel('Division cycle length ')\n",
        "  # return crowd_ids, division_lengths, total_crowdedness, div_cycle_lengths , plot\n",
        "  print(len(crowd_ids))\n",
        "  print(nums_of_neighbours)\n",
        "  print(div_cycle_lengths)\n",
        "  print(average(nums_of_neighbours))\n",
        "  print(average(div_cycle_lengths))\n",
        "  return crowd_ids, nums_of_neighbours, div_cycle_lengths\n",
        "\n",
        "\n"
      ],
      "metadata": {
        "id": "jHl0B6-pLpX3"
      },
      "execution_count": null,
      "outputs": []
    },
    {
      "cell_type": "markdown",
      "source": [
        "## Plot by distance between centres < L "
      ],
      "metadata": {
        "id": "6xasVT4m8GYu"
      }
    },
    {
      "cell_type": "code",
      "source": [
        "def numneighbours_immediate(colony):\n",
        "  # record keeping for plotting later\n",
        "  # cell id \n",
        "  crowd_ids = [] \n",
        "  # total crowdedness at a given timepoint, given by frame number \n",
        "  # total_crowdedness = []\n",
        "\n",
        "  nums_of_neighbours = []\n",
        "  # length of div cycle between two given daughters\n",
        "  div_cycle_lengths= []\n",
        "  division_lengths =[]\n",
        "  \n",
        "  for cnb in colony: \n",
        "    cell = lin.cells[cnb]\n",
        "    # Line below: for every cell identify the occurrence of every daugther \n",
        "    daughters = [cell['daughters'].index(daughter) for daughter in cell['daughters'] if daughter is not None]\n",
        "    # print(cell['id'])\n",
        "    if len(daughters) > 0: #if the cell has divided\n",
        "      for daughter in daughters: \n",
        "        #take care with definition daughter: daughter is the index position in cell in daughter list, when daughter is not none\n",
        "        # this is then converted to a frame number which can be used to compare and calculate distances to other cells in the same frame\n",
        "        idx= daughter-1\n",
        "        # print(daughter, idx)\n",
        "        frame_no = cell['frames'][idx]\n",
        "        # print(frame_no)\n",
        "        npole1 = cell['new_pole'][idx]\n",
        "        opole1 = cell['old_pole'][idx]\n",
        "        # get centre of cell 1 for distance function \n",
        "        cell1_centre = get_centre(npole1, opole1) \n",
        "        cell1_length = cell['length'][0] # l0 of cell, needed in the crowdedness calculation\n",
        "        cell_div_length = cell['length'][idx]\n",
        "        neighbours = 0\n",
        "        for cell2 in lin.cells:\n",
        "        # for cnb2 in colony:\n",
        "          # cell2 = lin.cells[cnb2]\n",
        "          if cell['id'] != cell2['id'] and frame_no in cell2['frames']:\n",
        "            idx2 = cell2['frames'].index(frame_no)\n",
        "            # set cell poles \n",
        "            npole2 = cell2['new_pole'][idx2]\n",
        "            opole2 = cell2['old_pole'][idx2]\n",
        "            # nb = is_in_raidus( cell1_centre , cell1_length,opole2,npole2)\n",
        "            # print(nb)\n",
        "            cell2_centre = get_centre(npole2, opole2) \n",
        "            if get_cell_dist( cell1_centre, cell2_centre) < cell1_length: \n",
        "              neighbours = neighbours + 1\n",
        "              # print(neighbours)\n",
        "            # conditions for calculating cell cycle are different, depending if there is only one div or more\n",
        "            daughter_index = daughters.index(daughter)\n",
        "            if len(daughters) > 1 and daughter_index > 0:\n",
        "              prev_daughter = daughters[daughter_index-1]\n",
        "              # print(daughter, prev_daughter)\n",
        "              div_cycle = frame_no - cell['frames'][prev_daughter]\n",
        "            else:\n",
        "              div_cycle = frame_no - cell['frames'][0]\n",
        "            # print(neighbours)\n",
        "        if div_cycle > 0:\n",
        "          div_cycle_lengths.append(div_cycle)\n",
        "          nums_of_neighbours.append(neighbours)\n",
        "          division_lengths.append(cell_div_length)\n",
        "          crowd_ids.append(cell['id'])\n",
        "\n",
        "\n",
        "    #Plotting for length in relation to crowdedness \n",
        "    # print(crowd_ids, nums_of_neighbours,  div_cycle_lengths)\n",
        "  plot = plt.scatter(nums_of_neighbours, div_cycle_lengths)\n",
        "  plt.xlabel('Number of Neighbours at distance < L0 ')\n",
        "  plt.ylabel('Division cycle lengths')\n",
        "  plt.title(\"Division length vs Number of neighbours for Wt colony of size 77 \")\n",
        "    # plt.xlabel('Crowdedness at division time')\n",
        "    # plt.ylabel('Division cycle length ')\n",
        "  # return crowd_ids, division_lengths, total_crowdedness, div_cycle_lengths , plot\n",
        "  print(len(crowd_ids))\n",
        "  print(nums_of_neighbours)\n",
        "  print(div_cycle_lengths)\n",
        "  print(average(nums_of_neighbours))\n",
        "  print(average(div_cycle_lengths))\n",
        "  return crowd_ids, nums_of_neighbours, div_cycle_lengths\n",
        "\n",
        "\n"
      ],
      "metadata": {
        "id": "vtdc4JugE6n1"
      },
      "execution_count": null,
      "outputs": []
    },
    {
      "cell_type": "code",
      "source": [
        "import numpy as np\n",
        "\n",
        "labels = processor.positions[0].rois[0].label_stack[-1]\n",
        "\n",
        "# Initialize color image (all light gray)\n",
        "color_image = np.full(\n",
        "    shape=labels.shape+(3,),\n",
        "    fill_value=175,\n",
        "    dtype=np.uint8\n",
        "    )\n",
        "\n",
        "# col_1011_cids, col_1011_neighbours, col_1011_cycles = numneighbours_immediate(colony_1011)\n",
        "\n",
        "for cell in lin.cellnumbers[-1]:\n",
        "  if cell in col_1011_cids:\n",
        "    # i = max(loc for loc, val in enumerate(col_1011_cids) if val == cell)\n",
        "    # # if col_1011_neighbours[i] >= 3 and col_1011_cycles[i] >= 3:\n",
        "    # if col_1011_neighbours[i] >= 3:\n",
        "    color = [0,0,255]\n",
        "  else: \n",
        "     color = [0,0,0]\n",
        "\n",
        "\n",
        "  for c, val in enumerate(color):\n",
        "      color_image[:,:,c][labels==cell+1]=val\n",
        "      \n",
        "\n",
        "\n",
        "\n",
        "plt.figure(figsize = (15,15))\n",
        "plt.imshow(color_image)"
      ],
      "metadata": {
        "id": "jTBcFvvdRXE4"
      },
      "execution_count": null,
      "outputs": []
    },
    {
      "cell_type": "markdown",
      "source": [
        "### Crowdness Plot \n"
      ],
      "metadata": {
        "id": "Hv3qNLdlgZZU"
      }
    },
    {
      "cell_type": "code",
      "source": [
        "def crowdedness_col(colony):\n",
        "  # record keeping for plotting later\n",
        "  # cell id \n",
        "  crowd_ids = [] \n",
        "  # total crowdedness at a given timepoint, given by frame number \n",
        "  total_crowdedness = []\n",
        "\n",
        "  nums_of_neighbours = []\n",
        "  # length of div cycle between two given daughters\n",
        "  div_cycle_lengths= []\n",
        "  division_lengths =[]\n",
        "  \n",
        "  for cnb in colony: \n",
        "    cell = lin.cells[cnb]\n",
        "    # Line below: for every cell identify the occurrence of every daugther \n",
        "    daughters = [cell['daughters'].index(daughter) for daughter in cell['daughters'] if daughter is not None]\n",
        "    # print(cell['id'])\n",
        "    if len(daughters) > 0: #if the cell has divided\n",
        "      for daughter in daughters: \n",
        "        #take care with definition daughter: daughter is the index position in cell in daughter list, when daughter is not none\n",
        "        # this is then converted to a frame number which can be used to compare and calculate distances to other cells in the same frame\n",
        "        idx= daughter-1\n",
        "        # print(daughter, idx)\n",
        "        frame_no = cell['frames'][idx]\n",
        "        # print(frame_no)\n",
        "        npole1 = cell['new_pole'][idx]\n",
        "        opole1 = cell['old_pole'][idx]\n",
        "        # get centre of cell 1 for distance function \n",
        "        cell1_centre = get_centre(npole1, opole1) \n",
        "        cell1_length = cell['length'][0] # l0 of cell, needed in the crowdedness calculation\n",
        "        cell_div_length = cell['length'][idx]\n",
        "        crowdedness = 0\n",
        "        for cnb2 in colony:\n",
        "          cell2 = lin.cells[cnb2]\n",
        "          if cell['id'] != cell2['id'] and frame_no in cell2['frames']:\n",
        "            idx2 = cell2['frames'].index(frame_no)\n",
        "            # set cell poles \n",
        "            npole2 = cell2['new_pole'][idx2]\n",
        "            opole2 = cell2['old_pole'][idx2]\n",
        "            # nb = is_in_raidus( cell1_centre , cell1_length,opole2,npole2)\n",
        "            # print(nb)\n",
        "            cell2_centre = get_centre(npole2, opole2) \n",
        "            cell_dist = get_cell_dist(cell1_centre, cell2_centre)\n",
        "            crowd_pair = get_crowd_2(cell_dist, cell1_length)\n",
        "            crowdedness = crowdedness + crowd_pair\n",
        "              # print(neighbours)\n",
        "            # conditions for calculating cell cycle are different, depending if there is only one div or more\n",
        "            daughter_index = daughters.index(daughter)\n",
        "            if len(daughters) > 1 and daughter_index > 0:\n",
        "              prev_daughter = daughters[daughter_index-1]\n",
        "              # print(daughter, prev_daughter)\n",
        "              div_cycle = frame_no - cell['frames'][prev_daughter]\n",
        "            else:\n",
        "              div_cycle = frame_no - cell['frames'][0]\n",
        "            # print(neighbours)\n",
        "        if div_cycle > 0:\n",
        "          div_cycle_lengths.append(div_cycle)\n",
        "          # nums_of_neighbours.append(neighbours)\n",
        "          total_crowdedness.append(crowdedness)\n",
        "          division_lengths.append(cell_div_length)\n",
        "          crowd_ids.append(cell['id'])\n",
        "\n",
        "\n",
        "    #Plotting for length in relation to crowdedness \n",
        "    # print(crowd_ids, nums_of_neighbours,  div_cycle_lengths)\n",
        "  plot = plt.scatter(total_crowdedness, div_cycle_lengths)\n",
        "  plt.xlabel('Crowdedness')\n",
        "  plt.ylabel('Division cycle length')\n",
        "  plt.title(\"Division length vs Number of neighbours for Wt colony of size 77 \")\n",
        "    # plt.xlabel('Crowdedness at division time')\n",
        "    # plt.ylabel('Division cycle length ')\n",
        "  # return crowd_ids, division_lengths, total_crowdedness, div_cycle_lengths , plot\n",
        "  print(len(crowd_ids))\n",
        "  print(average(total_crowdedness))\n",
        "  print(average(div_cycle_lengths))\n",
        "  return div_cycle_lengths\n",
        "\n",
        "div_lengths = crowdedness_col(colony_1011)"
      ],
      "metadata": {
        "id": "1h90VihsEvXI"
      },
      "execution_count": null,
      "outputs": []
    },
    {
      "cell_type": "markdown",
      "source": [
        "## Plotting"
      ],
      "metadata": {
        "id": "7lUFV5OPOjGH"
      }
    },
    {
      "cell_type": "markdown",
      "source": [
        "#### Plotting by number of immediate neighbours "
      ],
      "metadata": {
        "id": "ZESXRT1mOlxy"
      }
    },
    {
      "cell_type": "code",
      "execution_count": null,
      "metadata": {
        "id": "on6XtT2gCkbE"
      },
      "outputs": [],
      "source": [
        "# plot\n",
        "\n",
        "import numpy as np\n",
        "\n",
        "labels = processor.positions[0].rois[0].label_stack[-1]\n",
        "\n",
        "# Initialize color image (all light gray)\n",
        "color_image = np.full(\n",
        "    shape=labels.shape+(3,),\n",
        "    fill_value=175,\n",
        "    dtype=np.uint8\n",
        "    )\n",
        "\n",
        "# for cell in lin.cellnumbers[-1]:\n",
        "#   if cell in crowd_ids:\n",
        "#     i = max(loc for loc, val in enumerate(crowd_ids) if val == cell)\n",
        "#     # print(i)\n",
        "#     if pop_crowdedness[i] > 50 : \n",
        "#       # print('more crowded')\n",
        "#       color = [255,0,0]\n",
        "#     elif pop_crowdedness[i] <= 50:\n",
        "#       # print('less crowded')\n",
        "#       color = [0,0,255]\n",
        "#     else: \n",
        "#       color = [0,0,0]\n",
        "#       # print('idk')\n",
        "\n",
        "# for cell in lin.cellnumbers[-1]:\n",
        "#   if cell in crowd_ids:\n",
        "#     i = max(loc for loc, val in enumerate(crowd_ids) if val == cell)\n",
        "#     # print(i)\n",
        "#     if pop_div_lengths[i] > 50 : \n",
        "#       # print('more crowded')\n",
        "#       color = [0,0,255]\n",
        "#     elif pop_div_lengths[i] <= 50:\n",
        "#       # print('less crowded')\n",
        "#       color = [255,0,0]\n",
        "#     else: \n",
        "#       color = [0,0,0]\n",
        "#       # print('idk')\n",
        "\n",
        "for cell in lin.cellnumbers[-1]:\n",
        "  if cell in col_1011_cids:\n",
        "    i = max(loc for loc, val in enumerate(col_1011_cids) if val == cell)\n",
        "    if col_1011_crowdedness[i] > 6 and col_1011_cycle_lengths[i] >= 3:\n",
        "      color = [0,0,255]\n",
        "    elif \n",
        "  else: \n",
        "      color = [0,0,0]\n",
        "\n",
        "\n",
        "  for c, val in enumerate(color):\n",
        "    color_image[:,:,c][labels==cell+1]=val\n",
        "    \n",
        "      \n",
        "\n",
        "\n",
        "# for cnb in lin.cellnumbers[-1]:\n",
        "#   for lst in colony_list: \n",
        "#     # print(cnb)\n",
        "#     # print(lst)\n",
        "#     if cnb in lst: \n",
        "#       i = colony_list.index(lst)\n",
        "#       color = c_colony[i]\n",
        "\n",
        "#       for c, val in enumerate(color):\n",
        "#         color_image[:,:,c][labels==cnb+1]=val\n",
        "   \n",
        "\n",
        "\n",
        "plt.figure(figsize = (15,15))\n",
        "plt.imshow(color_image)\n",
        "plt.show()\n",
        "\n",
        "\n"
      ]
    },
    {
      "cell_type": "code",
      "source": [
        "def get_colony(cells, mother_id):\n",
        "  colony = []\n",
        "  colony.append(mother_id)\n",
        "  for cell in lin.cells:\n",
        "    if cell['mother'] == mother_id or cell['mother'] in colony:\n",
        "      colony.append(cell['id'])\n",
        "                    \n",
        "  return colony \n",
        "\n",
        "\n",
        "colony_10 = get_colony(lin.cells, 10)\n",
        "colony_11 = get_colony(lin.cells, 11)\n",
        "colony_1011 = colony_10 + colony_11"
      ],
      "metadata": {
        "id": "Is3okH_UxWNA"
      },
      "execution_count": null,
      "outputs": []
    },
    {
      "cell_type": "markdown",
      "source": [
        "#### Plotting distribution of division lengths \n"
      ],
      "metadata": {
        "id": "VATS99HIgxdd"
      }
    },
    {
      "cell_type": "code",
      "source": [
        "def crowdedness_col(colony):\n",
        "  # record keeping for plotting later\n",
        "  # cell id \n",
        "  crowd_ids = [] \n",
        "  # total crowdedness at a given timepoint, given by frame number \n",
        "  total_crowdedness = []\n",
        "  # length of div cycle between two given daughters\n",
        "  div_cycle_lengths= []\n",
        "  division_lengths =[]\n",
        "  for cnb in colony: \n",
        "    cell = lin.cells[cnb]\n",
        "    # Line below: for every cell identify the occurrence of every daugther \n",
        "    daughters = [cell['daughters'].index(daughter) for daughter in cell['daughters'] if daughter is not None]\n",
        "    crowdedness = 0 #assign crowdedness to zero initially \n",
        "    # print(cell['id'])\n",
        "    # print(daughters)\n",
        "    if len(daughters) > 0: #if the cell has divided\n",
        "      for daughter in daughters: \n",
        "        #take care with definition daughter: daughter is the index position in cell in daughter list, when daughter is not none\n",
        "        # this is then converted to a frame number which can be used to compare and calculate distances to other cells in the same frame\n",
        "        idx= daughter-1\n",
        "        frame_no = cell['frames'][idx]\n",
        "        npole1 = cell['new_pole'][idx]\n",
        "        opole1 = cell['old_pole'][idx]\n",
        "        # get centre of cell 1 for distance function \n",
        "        cell1_centre = get_centre(npole1, opole1) \n",
        "        cell1_length = cell['length'][0] # l0 of cell, needed in the crowdedness calculation\n",
        "        cell_div_length = cell['length'][idx]\n",
        "        for cnb2 in colony:\n",
        "          cell2 = lin.cells[cnb2]\n",
        "          if cell['id'] != cell2['id'] and frame_no in cell2['frames']:\n",
        "            idx2 = cell2['frames'].index(frame_no)\n",
        "            npole2 = cell2['new_pole'][idx2]\n",
        "            opole2 = cell2['old_pole'][idx2]\n",
        "            cell2_centre = get_centre(npole2, opole2)\n",
        "            # get distance between the two centre points \n",
        "            cell_dist = get_cell_dist(cell1_centre, cell2_centre)\n",
        "            crowd_pair = get_crowd_2(cell_dist, cell1_length)\n",
        "            crowdedness = crowdedness + crowd_pair \n",
        "            # conditions for calculating cell cycle are different, depending if there is only one div or more\n",
        "            daughter_index = daughters.index(daughter)\n",
        "            if len(daughters) > 1 and daughter_index > 0:\n",
        "              prev_daughter = daughters[daughter_index-1]\n",
        "              # print(daughter, prev_daughter)\n",
        "              div_cycle = frame_no - cell['frames'][prev_daughter]\n",
        "            else:\n",
        "              div_cycle = frame_no - cell['frames'][0]\n",
        "            div_cycle_lengths.append(div_cycle)\n",
        "            total_crowdedness.append(crowdedness)\n",
        "            division_lengths.append(cell_div_length)\n",
        "            crowd_ids.append(cell['id'])\n",
        "\n",
        "    plot = plt.scatter(total_crowdedness, div_cycle_lengths)\n",
        "    plt.xlabel('Crowdedness at division time')\n",
        "    plt.ylabel('Division cycle length ')\n",
        "  return div_cycle_lengths\n",
        "  # return division_lengths\n",
        "\n"
      ],
      "metadata": {
        "id": "Fg1dDnH1gtS1"
      },
      "execution_count": null,
      "outputs": []
    },
    {
      "cell_type": "code",
      "source": [
        "col_1011_cids = crowdedness_col(colony_1011)"
      ],
      "metadata": {
        "id": "nNIukyiCyCWN"
      },
      "execution_count": null,
      "outputs": []
    },
    {
      "cell_type": "code",
      "source": [
        "print(col_1011_cids)"
      ],
      "metadata": {
        "id": "wjLZNyu-mldy"
      },
      "execution_count": null,
      "outputs": []
    },
    {
      "cell_type": "code",
      "source": [
        "print(col_1011_crowdedness )"
      ],
      "metadata": {
        "id": "Wo9IpPeqmpAr"
      },
      "execution_count": null,
      "outputs": []
    },
    {
      "cell_type": "code",
      "source": [],
      "metadata": {
        "id": "fL6hXZGLmsVo"
      },
      "execution_count": null,
      "outputs": []
    },
    {
      "cell_type": "code",
      "source": [
        "\n",
        "\n",
        "col_1011_cycle_lengths = crowdedness_col(colony_1011)"
      ],
      "metadata": {
        "id": "AX8fKNePIqn9"
      },
      "execution_count": null,
      "outputs": []
    },
    {
      "cell_type": "code",
      "source": [
        "col_1011_crowdedness = crowdedness_col(colony_1011)"
      ],
      "metadata": {
        "id": "fjqafs2KJJZj"
      },
      "execution_count": null,
      "outputs": []
    },
    {
      "cell_type": "code",
      "source": [],
      "metadata": {
        "id": "vhGT1d9fhcQT"
      },
      "execution_count": null,
      "outputs": []
    },
    {
      "cell_type": "code",
      "source": [],
      "metadata": {
        "id": "PS68I0zkJkaV"
      },
      "execution_count": null,
      "outputs": []
    },
    {
      "cell_type": "code",
      "source": [],
      "metadata": {
        "id": "KrNmhRrBJpuh"
      },
      "execution_count": null,
      "outputs": []
    },
    {
      "cell_type": "code",
      "execution_count": null,
      "metadata": {
        "id": "f4eoWrLADHYc"
      },
      "outputs": [],
      "source": [
        "import seaborn as sns\n",
        "import statistics\n",
        "  \n",
        "ax1 = sns.histplot(div_lengths, bins=30, stat='density', alpha= 1, kde=True,\n",
        "                    edgecolor='white', linewidth=0.5,\n",
        "                    line_kws=dict(color='black', alpha=0.5, linewidth=1.5, label='KDE'))\n",
        "ax1.get_lines()[0].set_color('black')\n",
        "mn = statistics.mean(div_lengths)\n",
        "sd = statistics.stdev(div_lengths)\n",
        "\n",
        "print('Division length')\n",
        "print('mean', mn, 'sd' , sd)\n"
      ]
    },
    {
      "cell_type": "code",
      "execution_count": null,
      "metadata": {
        "id": "YcKogZAaDiD1"
      },
      "outputs": [],
      "source": [
        "def crowdedness_col(population):\n",
        "  # record keeping for plotting later\n",
        "  # cell id \n",
        "  crowd_ids = [] \n",
        "  # total crowdedness at a given timepoint, given by frame number \n",
        "  total_crowdedness = []\n",
        "  # length of div cycle between two given daughters\n",
        "  div_cycle_lengths= []\n",
        "  division_lengths =[]\n",
        "  for cell in population: \n",
        "    daughters = [cell['daughters'].index(daughter) for daughter in cell['daughters'] if daughter is not None]\n",
        "    crowdedness = 0 #assign crowdedness to zero initially \n",
        "    # print(cell['id'])\n",
        "    # print(daughters)\n",
        "    if len(daughters) > 0: #if the cell has divided\n",
        "      for daughter in daughters: \n",
        "        #take care with definition daughter: daughter is the index position in cell in daughter list, when daughter is not none\n",
        "        # this is then converted to a frame number which can be used to compare and calculate distances to other cells in the same frame\n",
        "        idx= daughter-1\n",
        "        frame_no = cell['frames'][idx]\n",
        "        if frame_no < 23: \n",
        "          npole1 = cell['new_pole'][idx]\n",
        "          opole1 = cell['old_pole'][idx]\n",
        "          # get centre of cell 1 for distance function \n",
        "          cell1_centre = get_centre(npole1, opole1) \n",
        "          cell1_length = cell['length'][0] # l0 of cell, needed in the crowdedness calculation\n",
        "          cell_div_length = cell['length'][idx]\n",
        "          daughter_index = daughters.index(daughter)\n",
        "          if len(daughters) > 1 and daughter_index > 0:\n",
        "            prev_daughter = daughters[daughter_index-1]\n",
        "            # print(daughter, prev_daughter)\n",
        "            div_cycle = frame_no - cell['frames'][prev_daughter]\n",
        "          else:\n",
        "            div_cycle = frame_no - cell['frames'][0]\n",
        "          # print('div_cycle',div_cycle)\n",
        "          div_cycle_lengths.append(div_cycle)\n",
        "          for cell2 in population: \n",
        "            if cell['id'] != cell2['id'] and frame_no in cell2['frames']:\n",
        "              idx2 = cell2['frames'].index(frame_no)\n",
        "              npole2 = cell2['new_pole'][idx2]\n",
        "              opole2 = cell2['old_pole'][idx2]\n",
        "              cell2_centre = get_centre(npole2, opole2)\n",
        "              # get distance between the two centre points \n",
        "              cell_dist = get_cell_dist(cell1_centre, cell2_centre)\n",
        "              crowd_pair = get_crowd_2(cell_dist, cell1_length)\n",
        "              crowdedness = crowdedness + crowd_pair \n",
        "              # conditions for calculating cell cycle are different, depending if there is only one div or more\n",
        "          # print(crowdedness)\n",
        "          total_crowdedness.append(crowdedness)\n",
        "          crowd_ids.append(cell['id'])\n",
        "          division_lengths.append(cell_div_length)\n",
        "\n",
        "\n",
        "\n",
        "  plot = plt.scatter(division_lengths, total_crowdedness)\n",
        "  plt.xlabel('Division length (pixels)')\n",
        "  plt.ylabel('Crowdedness at division time')\n",
        "  plt.title(\"Division length vs Crowdedness for entire Wt population\")\n",
        "  plt.show()\n",
        "  # plot = plt.scatter(total_crowdedness,div_cycle_lengths )\n",
        "  # plt.xlabel('Crowdedness at division time')\n",
        "  # plt.ylabel('Division cycle length ')\n",
        "  return total_crowdedness\n",
        "  \n",
        "\n",
        "\n",
        "\n",
        "\n"
      ]
    },
    {
      "cell_type": "code",
      "source": [
        "crowd_ids = crowdedness_col(lin.cells)"
      ],
      "metadata": {
        "id": "RxXz8Hwrya23"
      },
      "execution_count": null,
      "outputs": []
    },
    {
      "cell_type": "code",
      "source": [
        "print(pop_div_lengths)"
      ],
      "metadata": {
        "id": "f7v038rqy7om"
      },
      "execution_count": null,
      "outputs": []
    },
    {
      "cell_type": "code",
      "source": [
        "pop_div_lengths = crowdedness_col(lin.cells)"
      ],
      "metadata": {
        "id": "tPGa9iHFgh2F"
      },
      "execution_count": null,
      "outputs": []
    },
    {
      "cell_type": "code",
      "source": [
        "pop_crowdedness = crowdedness_col(lin.cells)"
      ],
      "metadata": {
        "id": "OqKOEUyLzDgR"
      },
      "execution_count": null,
      "outputs": []
    },
    {
      "cell_type": "code",
      "source": [
        "sum(pop_div_lengths)/ len(pop_div_lengths)"
      ],
      "metadata": {
        "id": "VwehedJDzdiE"
      },
      "execution_count": null,
      "outputs": []
    },
    {
      "cell_type": "code",
      "source": [
        "for cnb in crowd_ids: \n",
        "  i = max(loc for loc, val in enumerate(crowd_ids) if val == cnb)\n",
        "  print(i)"
      ],
      "metadata": {
        "id": "jhqlUe-U2vLJ"
      },
      "execution_count": null,
      "outputs": []
    },
    {
      "cell_type": "code",
      "source": [
        "# plot\n",
        "\n",
        "import numpy as np\n",
        "\n",
        "labels = processor.positions[0].rois[0].label_stack[-1]\n",
        "\n",
        "# Initialize color image (all light gray)\n",
        "color_image = np.full(\n",
        "    shape=labels.shape+(3,),\n",
        "    fill_value=175,\n",
        "    dtype=np.uint8\n",
        "    )\n",
        "\n",
        "# for cell in lin.cellnumbers[-1]:\n",
        "#   if cell in crowd_ids:\n",
        "#     i = max(loc for loc, val in enumerate(crowd_ids) if val == cell)\n",
        "#     # print(i)\n",
        "#     if pop_crowdedness[i] > 50 : \n",
        "#       # print('more crowded')\n",
        "#       color = [255,0,0]\n",
        "#     elif pop_crowdedness[i] <= 50:\n",
        "#       # print('less crowded')\n",
        "#       color = [0,0,255]\n",
        "#     else: \n",
        "#       color = [0,0,0]\n",
        "#       # print('idk')\n",
        "\n",
        "# for cell in lin.cellnumbers[-1]:\n",
        "#   if cell in crowd_ids:\n",
        "#     i = max(loc for loc, val in enumerate(crowd_ids) if val == cell)\n",
        "#     # print(i)\n",
        "#     if pop_div_lengths[i] > 50 : \n",
        "#       # print('more crowded')\n",
        "#       color = [0,0,255]\n",
        "#     elif pop_div_lengths[i] <= 50:\n",
        "#       # print('less crowded')\n",
        "#       color = [255,0,0]\n",
        "#     else: \n",
        "#       color = [0,0,0]\n",
        "#       # print('idk')\n",
        "\n",
        "for cell in lin.cellnumbers[-1]:\n",
        "  if cell in col_1011_cids:\n",
        "    i = max(loc for loc, val in enumerate(col_1011_cids) if val == cell)\n",
        "    if col_1011_crowdedness[i] > 6 and col_1011_cycle_lengths[i] >= 3:\n",
        "      color = [0,0,255]\n",
        "    elif \n",
        "  else: \n",
        "      color = [0,0,0]\n",
        "\n",
        "\n",
        "  for c, val in enumerate(color):\n",
        "    color_image[:,:,c][labels==cell+1]=val\n",
        "    \n",
        "      \n",
        "\n",
        "\n",
        "# for cnb in lin.cellnumbers[-1]:\n",
        "#   for lst in colony_list: \n",
        "#     # print(cnb)\n",
        "#     # print(lst)\n",
        "#     if cnb in lst: \n",
        "#       i = colony_list.index(lst)\n",
        "#       color = c_colony[i]\n",
        "\n",
        "#       for c, val in enumerate(color):\n",
        "#         color_image[:,:,c][labels==cnb+1]=val\n",
        "   \n",
        "\n",
        "\n",
        "plt.figure(figsize = (15,15))\n",
        "plt.imshow(color_image)\n",
        "plt.show()\n",
        "\n"
      ],
      "metadata": {
        "id": "PykJylCe0eUQ"
      },
      "execution_count": null,
      "outputs": []
    },
    {
      "cell_type": "code",
      "source": [
        "print(col_1011_cycle_lengths)"
      ],
      "metadata": {
        "id": "6K1Wlpt8BibC"
      },
      "execution_count": null,
      "outputs": []
    },
    {
      "cell_type": "code",
      "source": [],
      "metadata": {
        "id": "TmIUmgJomjrl"
      },
      "execution_count": null,
      "outputs": []
    },
    {
      "cell_type": "code",
      "source": [
        "(sum(col_1011_cycle_lengths))/(len(col_1011_cycle_lengths))"
      ],
      "metadata": {
        "id": "sEdI4up50fJP"
      },
      "execution_count": null,
      "outputs": []
    },
    {
      "cell_type": "code",
      "execution_count": null,
      "metadata": {
        "id": "AoByhvYvk-bx"
      },
      "outputs": [],
      "source": [
        "import seaborn as sns\n",
        "import statistics\n",
        "\n",
        "for cell in lin.cells: \n",
        "  init_length = cell['length'][0]\n",
        "  \n",
        "\n",
        "  \n",
        "ax1 = sns.histplot(div_cycles, bins=30, stat='density', alpha= 1, kde=True,\n",
        "                    edgecolor='white', linewidth=0.5,\n",
        "                    line_kws=dict(color='black', alpha=0.5, linewidth=1.5, label='KDE'))\n",
        "ax1.get_lines()[0].set_color('black')\n",
        "mn = statistics.mean(division_lengths)\n",
        "sd = statistics.stdev(division_lengths)\n",
        "\n",
        "\n",
        "print('Division lengths population')\n",
        "print('mean', mn, 'sd', sd)"
      ]
    },
    {
      "cell_type": "code",
      "execution_count": null,
      "metadata": {
        "id": "jNPdtEExDj15"
      },
      "outputs": [],
      "source": [
        "import seaborn as sns\n",
        "import statistics\n",
        "\n",
        "\n",
        "  \n",
        "ax1 = sns.histplot(div_cycles, bins=30, stat='density', alpha= 1, kde=True,\n",
        "                    edgecolor='white', linewidth=0.5,\n",
        "                    line_kws=dict(color='black', alpha=0.5, linewidth=1.5, label='KDE'))\n",
        "ax1.get_lines()[0].set_color('black')\n",
        "mn = statistics.mean(division_lengths)\n",
        "sd = statistics.stdev(division_lengths)\n",
        "\n",
        "\n",
        "print('Division lengths population')\n",
        "print('mean', mn, 'sd', sd)"
      ]
    },
    {
      "cell_type": "code",
      "execution_count": null,
      "metadata": {
        "id": "HhnBmZfLDzfn"
      },
      "outputs": [],
      "source": [
        "import seaborn as sns\n",
        "import statistics\n",
        "  \n",
        "ax1 = sns.histplot(div_cycles, bins=20, stat='density', alpha= 1, kde=True,\n",
        "                    edgecolor='white', linewidth=0.5,\n",
        "                    line_kws=dict(color='black', alpha=0.5, linewidth=1.5, label='KDE'))\n",
        "ax1.get_lines()[0].set_color('black')\n",
        "mn = statistics.mean(div_cycles)\n",
        "sd = statistics.stdev(div_cycles)\n",
        "\n",
        "print('div cycle lengths')\n",
        "print(mn, sd)"
      ]
    },
    {
      "cell_type": "code",
      "execution_count": null,
      "metadata": {
        "id": "FZ9yTXi4IKEX"
      },
      "outputs": [],
      "source": [
        "\n",
        "def get_colony(cells, mother_id):\n",
        "  colony = []\n",
        "  colony.append(mother_id)\n",
        "  for cell in lin.cells:\n",
        "    if cell['mother'] == mother_id or cell['mother'] in colony:\n",
        "      colony.append(cell['id'])\n",
        "                    \n",
        "  return colony \n",
        "\n",
        "get_colony(lin.cells, 3)\n",
        "\n"
      ]
    },
    {
      "cell_type": "code",
      "source": [],
      "metadata": {
        "id": "XS6IdZG-HNdU"
      },
      "execution_count": null,
      "outputs": []
    },
    {
      "cell_type": "code",
      "execution_count": null,
      "metadata": {
        "id": "axkDHwzOJLG0"
      },
      "outputs": [],
      "source": [
        "first_cells = lin.cellnumbers[0]\n",
        "print(first_cells)"
      ]
    },
    {
      "cell_type": "code",
      "execution_count": null,
      "metadata": {
        "id": "ixpHAo5QL99l"
      },
      "outputs": [],
      "source": [
        "from matplotlib.pyplot import cm\n",
        "\n",
        "# colony_list = {} #dict\n",
        "color_list = []\n",
        "colony_list = []\n",
        "\n",
        "\n",
        "for idx, cell in enumerate(first_cells):\n",
        "  colony_list.append((get_colony(lin.cells, idx)))\n",
        "  # colony_list.append((c, (get_colony(lin.cells, idx))))\n",
        "  \n",
        "print(colony_list)"
      ]
    },
    {
      "cell_type": "code",
      "execution_count": null,
      "metadata": {
        "id": "fSAGF4j2NKUs"
      },
      "outputs": [],
      "source": []
    },
    {
      "cell_type": "markdown",
      "source": [
        "### Plottng bits "
      ],
      "metadata": {
        "id": "ERfp5ZfXws5K"
      }
    },
    {
      "cell_type": "code",
      "execution_count": null,
      "metadata": {
        "id": "uOcv979AqX-L"
      },
      "outputs": [],
      "source": [
        "\n",
        "\n",
        "import numpy as np\n",
        "\n",
        "\n",
        "def get_cmap(n, name='hsv'):\n",
        "    '''Returns a function that maps each index in 0, 1, ..., n-1 to a distinct \n",
        "    RGB color; the keyword argument name must be a standard mpl colormap name.'''\n",
        "    return plt.cm.get_cmap(name, n)\n",
        "\n",
        "get_cmap(51)"
      ]
    },
    {
      "cell_type": "code",
      "execution_count": null,
      "metadata": {
        "id": "WdYwCCQ6uOY5"
      },
      "outputs": [],
      "source": [
        "\n",
        "\n",
        "def rand_cmap(nlabels, type='bright', first_color_black=True, last_color_black=False, verbose=True):\n",
        "    \"\"\"\n",
        "    Creates a random colormap to be used together with matplotlib. Useful for segmentation tasks\n",
        "    :param nlabels: Number of labels (size of colormap)\n",
        "    :param type: 'bright' for strong colors, 'soft' for pastel colors\n",
        "    :param first_color_black: Option to use first color as black, True or False\n",
        "    :param last_color_black: Option to use last color as black, True or False\n",
        "    :param verbose: Prints the number of labels and shows the colormap. True or False\n",
        "    :return: colormap for matplotlib\n",
        "    \"\"\"\n",
        "    from matplotlib.colors import LinearSegmentedColormap\n",
        "    import colorsys\n",
        "    import numpy as np\n",
        "\n",
        "\n",
        "    if type not in ('bright', 'soft'):\n",
        "        print ('Please choose \"bright\" or \"soft\" for type')\n",
        "        return\n",
        "\n",
        "    if verbose:\n",
        "        print('Number of labels: ' + str(nlabels))\n",
        "\n",
        "    # Generate color map for bright colors, based on hsv\n",
        "    if type == 'bright':\n",
        "        randHSVcolors = [(np.random.uniform(low=0.0, high=1),\n",
        "                          np.random.uniform(low=0.2, high=1),\n",
        "                          np.random.uniform(low=0.9, high=1)) for i in range(nlabels)]\n",
        "\n",
        "        # Convert HSV list to RGB\n",
        "        randRGBcolors = []\n",
        "        for HSVcolor in randHSVcolors:\n",
        "            randRGBcolors.append(colorsys.hsv_to_rgb(HSVcolor[0], HSVcolor[1], HSVcolor[2]))\n",
        "\n",
        "        if first_color_black:\n",
        "            randRGBcolors[0] = [0, 0, 0]\n",
        "\n",
        "        if last_color_black:\n",
        "            randRGBcolors[-1] = [0, 0, 0]\n",
        "\n",
        "        random_colormap = LinearSegmentedColormap.from_list('new_map', randRGBcolors, N=nlabels)\n",
        "\n",
        "    # Generate soft pastel colors, by limiting the RGB spectrum\n",
        "    if type == 'soft':\n",
        "        low = 0.6\n",
        "        high = 0.95\n",
        "        randRGBcolors = [(np.random.uniform(low=low, high=high),\n",
        "                          np.random.uniform(low=low, high=high),\n",
        "                          np.random.uniform(low=low, high=high)) for i in xrange(nlabels)]\n",
        "\n",
        "        if first_color_black:\n",
        "            randRGBcolors[0] = [0, 0, 0]\n",
        "\n",
        "        if last_color_black:\n",
        "            randRGBcolors[-1] = [0, 0, 0]\n",
        "        random_colormap = LinearSegmentedColormap.from_list('new_map', randRGBcolors, N=nlabels)\n",
        "\n",
        "    # Display colorbar\n",
        "    if verbose:\n",
        "        from matplotlib import colors, colorbar\n",
        "        from matplotlib import pyplot as plt\n",
        "        fig, ax = plt.subplots(1, 1, figsize=(15, 0.5))\n",
        "\n",
        "        bounds = np.linspace(0, nlabels, nlabels + 1)\n",
        "        norm = colors.BoundaryNorm(bounds, nlabels)\n",
        "\n",
        "        cb = colorbar.ColorbarBase(ax, cmap=random_colormap, norm=norm, spacing='proportional', ticks=None,\n",
        "                                   boundaries=bounds, format='%1i', orientation=u'horizontal')\n",
        "\n",
        "    return random_colormap\n",
        "\n",
        "new_cmap = rand_cmap(len(colony_list), type='bright', first_color_black=True, last_color_black=False, verbose=True)"
      ]
    },
    {
      "cell_type": "code",
      "source": [
        "rgba = [new_cmap(1)]\n",
        "rgba.type()"
      ],
      "metadata": {
        "id": "KhkfkPIrA5CY"
      },
      "execution_count": null,
      "outputs": []
    },
    {
      "cell_type": "markdown",
      "source": [
        "## Plotting cell colonies\n"
      ],
      "metadata": {
        "id": "KOS-tvwcNEfY"
      }
    },
    {
      "cell_type": "code",
      "source": [
        "\n",
        "\n",
        "\n",
        "colony_list =[]\n",
        "\n",
        "for cell in enumerate(first_cells):\n",
        "  colony_list.append((get_colony(lin.cells, cell)))\n",
        "  \n",
        "  # colony_list.append((c, (get_colony(lin.cells, idx))))\n",
        "print(colony_list)\n",
        "# c_colony = {i : [random.randrange(0,256),random.randrange(0,256),random.randrange(0,256)] for i in range(len(colony_list))}\n",
        "# print(c_colony)\n"
      ],
      "metadata": {
        "id": "uQLKSvcbILMG"
      },
      "execution_count": null,
      "outputs": []
    },
    {
      "cell_type": "code",
      "source": [
        "\n",
        "from matplotlib.lines import Line2D \n",
        "\n",
        "def build_legend(data):\n",
        "    \"\"\"\n",
        "    Build a legend for matplotlib plt from dict\n",
        "    \"\"\"\n",
        "    legend_elements = []\n",
        "    for key in data:\n",
        "        legend_elements.append(Line2D([0], [0], marker='o', color='w', label=key,\n",
        "                                        markerfacecolor=data[key], markersize=10))\n",
        "    return legend_elements\n"
      ],
      "metadata": {
        "id": "MDhYtQ8NUZsb"
      },
      "execution_count": null,
      "outputs": []
    },
    {
      "cell_type": "code",
      "source": [
        "fig,ax = plt.subplots(1)\n",
        "ax.add_patch(rect) # Add the patch to the Axes\n",
        "legend_elements = build_legend(c_colony)\n",
        "ax.legend(handles=legend_elements, loc='upper left')\n",
        "plt.show()"
      ],
      "metadata": {
        "id": "G0rMWsGVTzqZ"
      },
      "execution_count": null,
      "outputs": []
    },
    {
      "cell_type": "code",
      "source": [
        "def rgb_to_rgba(rgb_value, alpha):\n",
        "    \"\"\"\n",
        "    Adds the alpha channel to an RGB Value and returns it as an RGBA Value\n",
        "    :param rgb_value: Input RGB Value\n",
        "    :param alpha: Alpha Value to add  in range [0,1]\n",
        "    :return: RGBA Value\n",
        "    \"\"\"\n",
        "    return f\"rgba{rgb_value[3:-1]}, {alpha})\"\n"
      ],
      "metadata": {
        "id": "2A24XX-LZt-2"
      },
      "execution_count": null,
      "outputs": []
    },
    {
      "cell_type": "code",
      "source": [],
      "metadata": {
        "id": "DTNigrc3wxjD"
      },
      "execution_count": null,
      "outputs": []
    },
    {
      "cell_type": "markdown",
      "source": [
        "### Plotting bits 2 - main \n"
      ],
      "metadata": {
        "id": "nocB3hf8w6Ut"
      }
    },
    {
      "cell_type": "code",
      "source": [
        "import numpy as np\n",
        "import matplotlib.patches as mpatches\n",
        "import random\n",
        "from matplotlib.lines import Line2D \n",
        "\n",
        "colony_10 = get_colony(lin.cells, 10)\n",
        "colony_11 = get_colony(lin.cells, 11)\n",
        "colony_1011 = colony_10 + colony_11\n",
        "# colony2 = get_colony(lin.cells, 2)\n",
        "\n",
        "labels = processor.positions[0].rois[0].label_stack[-1]\n",
        "\n",
        "# Initialize color image (all light gray)\n",
        "color_image = np.full(\n",
        "    shape=labels.shape+(3,),\n",
        "    fill_value=175,\n",
        "    dtype=np.uint8\n",
        "    )\n",
        "\n",
        "for cnb in lin.cellnumbers[-1]:\n",
        "  if cnb in colony_1011:\n",
        "    color = [0,255,0]\n",
        "  else: \n",
        "    color = [0,0,0]\n",
        "\n",
        "\n",
        "  for c, val in enumerate(color):\n",
        "    color_image[:,:,c][labels==cnb+1]=val\n",
        "   \n",
        "\n",
        "plt.figure(figsize = (15,15))\n",
        "plt.imshow(color_image)\n",
        "# plt.legend(markers, c_colony.keys(), numpoints=1)\n",
        "plt.show()\n"
      ],
      "metadata": {
        "id": "EcrDtle_tiCm"
      },
      "execution_count": null,
      "outputs": []
    },
    {
      "cell_type": "code",
      "execution_count": null,
      "metadata": {
        "id": "Il62N6JBG0XI"
      },
      "outputs": [],
      "source": [
        "\n",
        "import numpy as np\n",
        "import matplotlib.patches as mpatches\n",
        "import random\n",
        "from matplotlib.lines import Line2D \n",
        "\n",
        "colony_list = []\n",
        "\n",
        "\n",
        "for idx, cell in enumerate(first_cells):\n",
        "  colony_list.append((get_colony(lin.cells, idx)))\n",
        "  # colony_list.append((c, (get_colony(lin.cells, idx))))\n",
        "  \n",
        "print(colony_list)\n",
        " \n",
        "c_colony = {i : [random.randrange(0,256),random.randrange(0,256),random.randrange(0,256)] for i in range(len(colony_list))}\n",
        "\n",
        "print(colony_list)\n",
        "\n",
        "colors = []\n",
        "mothers =[]\n",
        "# Last labels frame:\n",
        "labels = processor.positions[0].rois[0].label_stack[-1]\n",
        "\n",
        "# Initialize color image (all light gray)\n",
        "color_image = np.full(\n",
        "    shape=labels.shape+(3,),\n",
        "    fill_value=175,\n",
        "    dtype=np.uint8\n",
        "    )\n",
        "\n",
        "# color =[]\n",
        "# Go over cells in last frame:\n",
        "for cnb in lin.cellnumbers[-1]:\n",
        "  for lst in colony_list: \n",
        "    # print(cnb)\n",
        "    # print(lst)\n",
        "    if cnb in lst: \n",
        "      i = colony_list.index(lst)\n",
        "      color = c_colony[i]\n",
        "    else: \n",
        "      coour =[0,0,0]\n",
        "\n",
        "      for c, val in enumerate(color):\n",
        "        color_image[:,:,c][labels==cnb+1]=val\n",
        "   \n",
        "      \n",
        "    \n",
        "    # Color in the cell:\n",
        "    \n",
        "        # print(c,val)\n",
        "\n",
        "# colors_r =[]\n",
        "# for c in colors: \n",
        "#   cn = np.array(c)\n",
        "#   colors_r.append(cn)\n",
        "\n",
        "# for c in colors: \n",
        "#   colors_rgba.append(plt.to_rgba(c))\n",
        "\n",
        "# patches = [mpatches.Patch(color= colors[i], alpha = 0.5, label=\"Mother_cell\".format(l=mothers[i]) ) for i in range(len(mothers)) ]\n",
        "# patches = [mpatches.Patch(color=rgb_to_rgba(colors[i]), label=\"Mother_cell\".format(l=mothers[i]) ) for i in range(len(mothers)) ]\n",
        "\n",
        "\n",
        "# markers = [plt.Line2D([0,0],[0,0],color=color, marker='o', linestyle='') for color in c_colony.values()]\n",
        "\n",
        "plt.figure(figsize = (15,15))\n",
        "plt.imshow(color_image)\n",
        "# plt.legend(markers, c_colony.keys(), numpoints=1)\n",
        "plt.show()\n",
        "# plt.legend(handles=patches, bbox_to_anchor=(1.05, 1), loc=2, borderaxespad=0.)\n",
        "\n"
      ]
    },
    {
      "cell_type": "code",
      "source": [
        "for value in c_colony: \n",
        "  if value == [255,255,0]:\n",
        "    print(key)\n",
        "\n"
      ],
      "metadata": {
        "id": "iDT_SRzzPJ74"
      },
      "execution_count": null,
      "outputs": []
    },
    {
      "cell_type": "code",
      "source": [
        "print(c_colony)\n",
        "\n",
        "\n",
        "{0: [24, 142, 177], 1: [20, 43, 156], 2: [183, 149, 232], 3: [149, 190, 87], 4: [218, 180, 20], 5: [50, 37, 80], 6: [106, 224, 50], 7: [125, 62, 3], 8: [84, 190, 121], 9: [187, 171, 66], 10: [249, 235, 42], 11: [134, 114, 192], 12: [208, 143, 105], 13: [76, 53, 127], 14: [156, 98, 32], 15: [235, 146, 41], 16: [164, 152, 154], 17: [105, 205, 255], 18: [90, 223, 163], 19: [46, 223, 230], 20: [169, 45, 221], 21: [11, 131, 117], 22: [236, 117, 226], 23: [124, 217, 54], 24: [234, 3, 147], 25: [142, 161, 225], 26: [157, 76, 237], 27: [70, 5, 84], 28: [30, 14, 209], 29: [112, 19, 213], 30: [43, 242, 48], 31: [254, 226, 30], 32: [124, 103, 94], 33: [229, 38, 56], 34: [138, 80, 214], 35: [180, 187, 52], 36: [38, 10, 206], 37: [74, 146, 166], 38: [200, 14, 218], 39: [97, 198, 175], 40: [85, 241, 95], 41: [248, 125, 140], 42: [171, 146, 21], 43: [97, 124, 53], 44: [146, 200, 10], 45: [3, 122, 140], 46: [204, 117, 177], 47: [128, 217, 253], 48: [63, 69, 32], 49: [8, 151, 85], 50: [118, 129, 59], 51: [156, 16, 68]}"
      ],
      "metadata": {
        "id": "RiZd6JhpQZsI"
      },
      "execution_count": null,
      "outputs": []
    },
    {
      "cell_type": "code",
      "source": [
        "from scipy.io import loadmat\n",
        "\n",
        "reloaded = loadmat('/content/gdrive2/.shortcut-targets-by-id/1PFWG3Y6nCG2LwgS7ZYW9SVyGoRCzbaZI/Delta2Runs/WT_Nogm_RepBio1_RepT1_tl/eval_movie/Position000000.mat',simplify_cells=True)"
      ],
      "metadata": {
        "id": "GDDpcP8huMgi"
      },
      "execution_count": null,
      "outputs": []
    },
    {
      "cell_type": "code",
      "source": [
        "# Lineage of sixth chamber (index 5 in python)\n",
        "\n",
        "lin = reloaded['res']['lineage']\n",
        "\n",
        "# Mother cell:\n",
        "mother = lin[0]\n",
        "\n",
        "# Plot daughters fluorescence:\n",
        "for daughter_nb in mother['daughters']:\n",
        "    if daughter_nb > 0:\n",
        "        daughter = lin[int(daughter_nb)-1] # No -1 in Matlab\n",
        "        plt.plot(daughter['frames'],daughter['fluo1'],color=[.5,.5,.5])\n",
        "\n",
        "# Plot mother fluorescence:\n",
        "plt.plot(mother['frames'], mother['fluo1'])\n",
        "\n",
        "plt.xlabel('frame #')\n",
        "plt.ylabel('GFP (a.u.)')\n",
        "plt.show()"
      ],
      "metadata": {
        "id": "1oXT1I4IuqXo"
      },
      "execution_count": null,
      "outputs": []
    },
    {
      "cell_type": "markdown",
      "metadata": {
        "id": "2JaJYqnrX5rQ"
      },
      "source": [
        "# For A_Gm_Rep1_Ph_run, loading reader and processor"
      ]
    },
    {
      "cell_type": "code",
      "execution_count": null,
      "metadata": {
        "id": "MQBSCHuyvw2v"
      },
      "outputs": [],
      "source": [
        "\n",
        "delta.config.load_config(presets='2D')\n",
        "\n",
        "#these two lines might fix tracking issues: (only when actually running the pipeline)\n",
        "delta.config.drift_correction = True\n",
        "delta.config.whole_frame_drift = True\n",
        "\n",
        "# # '/content/gdrive/MyDrive/A_Gm_Rep1_Ph_run/A_Gm_Rep1_unzipped',\n",
        "#  # resfolder='/content/gdrive/MyDrive/A_Gm_Rep1_Ph_run/A_Gm_Rep1_eval_movie2/'\n",
        "\n",
        "reader = delta.utilities.xpreader(\n",
        "   '/content/gdrive/MyDrive/A_Gm_Rep1_Ph_run/A_Gm_Rep1_unzipped',\n",
        "    # prototype='Position%01d_Channel%01d_Frame%00002d.tif',\n",
        ")\n",
        "\n",
        "processor = delta.pipeline.Pipeline(\n",
        "    reader,\n",
        "    resfolder='/content/gdrive/MyDrive/A_Gm_Rep1_Ph_run/A_Gm_Rep1_eval_movie2/',\n",
        "    reload=True\n",
        "    )"
      ]
    },
    {
      "cell_type": "markdown",
      "metadata": {
        "id": "qesXe45UYUXW"
      },
      "source": [
        "# For vsFpvA_gm_RepBio1_RepT1_tl, loading reader and processor"
      ]
    },
    {
      "cell_type": "code",
      "execution_count": null,
      "metadata": {
        "id": "nZ8xhIIPaPvr"
      },
      "outputs": [],
      "source": [
        "% cd /content\n",
        "% ls\n",
        "% cd gdrive2\n",
        "% cd MyDrive\n",
        "% cd Delta2Runs\n",
        "% cd vsFpvA_gm_RepBio1_RepT1_tl\n",
        "% cd unzipped\n",
        "\n"
      ]
    },
    {
      "cell_type": "code",
      "execution_count": null,
      "metadata": {
        "id": "2p5S1HwwX4OS"
      },
      "outputs": [],
      "source": [
        "#Output files -> pkl file. #This works for some reason. #1st step:. \n",
        "import pickle\n",
        "\n",
        "pos = delta.pipeline.load_position('/content/gdrive2/.shortcut-targets-by-id/1PFWG3Y6nCG2LwgS7ZYW9SVyGoRCzbaZI/Delta2Runs/vsFpvA_gm_RepBio1_RepT1_tl/eval_movie2/Position000000.pkl')\n",
        "\n",
        "reader = delta.utilities.xpreader('/content/gdrive2/.shortcut-targets-by-id/1PFWG3Y6nCG2LwgS7ZYW9SVyGoRCzbaZI/Delta2Runs/vsFpvA_gm_RepBio1_RepT1_tl/unzipped')\n",
        "processor = delta.pipeline.Pipeline(\n",
        "    reader,\n",
        "    resfolder='/content/gdrive2/.shortcut-targets-by-id/1PFWG3Y6nCG2LwgS7ZYW9SVyGoRCzbaZI/Delta2Runs/vsFpvA_gm_RepBio1_RepT1_tl/eval_movie2/',\n",
        "    reload = True\n",
        "\n",
        "    )\n"
      ]
    },
    {
      "cell_type": "code",
      "execution_count": null,
      "metadata": {
        "id": "GpUDYX5vvE8P"
      },
      "outputs": [],
      "source": [
        "lin = processor.positions[0].rois[0].lineage\n",
        "first_cells = lin.cellnumbers[0]"
      ]
    },
    {
      "cell_type": "code",
      "execution_count": null,
      "metadata": {
        "id": "eXR34Ajd1qee"
      },
      "outputs": [],
      "source": [
        "# Finding all of the cells that originated from a given mother cell \n",
        "mother_id = \n",
        "colony = []\n",
        "for cell in lin.cells:\n",
        "  if cell['mother'] == mother_id or cell['mother'] in colony:\n",
        "    colony.append(cell['id'])  \n"
      ]
    },
    {
      "cell_type": "code",
      "execution_count": null,
      "metadata": {
        "id": "YRzW19JjPgaO"
      },
      "outputs": [],
      "source": [
        "import matplotlib.pyplot as plt\n",
        "\n",
        "\n",
        "for cnb in colony: \n",
        "  cell = lin.cells[cnb]\n",
        "  plt.plot(cell['frames'],cell['length'])\n",
        "# for cell in lin.cells: \n",
        "#   plt.plot(cell['frames'],cell['length'])\n",
        "\n",
        "plt.xlabel('frame #')\n",
        "plt.ylabel('length (pixels)')\n",
        "plt.show()\n",
        "\n"
      ]
    },
    {
      "cell_type": "code",
      "execution_count": null,
      "metadata": {
        "id": "57aWWQdiC0Cs"
      },
      "outputs": [],
      "source": [
        "# code to calculate crowdedness during a division event \n",
        "import math\n",
        "\n",
        "def get_centre(npole, opole):\n",
        "  cell_centre = ((npole[0] + opole[0])/2 ,  (npole[1] + opole[1])/2)\n",
        "  return cell_centre\n",
        "\n",
        "def get_cell_dist(centre1, centre2):\n",
        "  # dist = ((centre1[0] + centre2[0])/2 ,  (centre1[1] + centre2[1])/2)\n",
        "  dist = math.sqrt(((centre1[0] - centre2[0])**2 + (centre1[1] - centre2[1])**2))\n",
        "  return dist\n",
        "\n",
        "def get_crowd_2(cell_dist, cell_length):\n",
        "  crowd = math.e**((-cell_dist/cell_length))\n",
        "  return crowd\n"
      ]
    },
    {
      "cell_type": "code",
      "execution_count": null,
      "metadata": {
        "id": "x2o_qhbDInYD"
      },
      "outputs": [],
      "source": [
        "def crowdedness_col(colony):\n",
        "  # record keeping for plotting later\n",
        "  # cell id \n",
        "  crowd_ids = [] \n",
        "  # total crowdedness at a given timepoint, given by frame number \n",
        "  total_crowdedness = []\n",
        "  # length of div cycle between two given daughters\n",
        "  div_cycle_lengths= []\n",
        "  division_lengths =[]\n",
        "  for cnb in colony: \n",
        "    cell = lin.cells[cnb]\n",
        "    # Line below: for every cell identify the occurrence of every daugther \n",
        "    daughters = [cell['daughters'].index(daughter) for daughter in cell['daughters'] if daughter is not None]\n",
        "    crowdedness = 0 #assign crowdedness to zero initially \n",
        "    crowd_ids.append(cell['id'])\n",
        "    # print(cell['id'])\n",
        "    # print(daughters)\n",
        "    if len(daughters) > 0: #if the cell has divided\n",
        "      for daughter in daughters: \n",
        "        #take care with definition daughter: daughter is the index position in cell in daughter list, when daughter is not none\n",
        "        # this is then converted to a frame number which can be used to compare and calculate distances to other cells in the same frame\n",
        "        idx= daughter-1\n",
        "        frame_no = cell['frames'][idx]\n",
        "        npole1 = cell['new_pole'][idx]\n",
        "        opole1 = cell['old_pole'][idx]\n",
        "        # get centre of cell 1 for distance function \n",
        "        cell1_centre = get_centre(npole1, opole1) \n",
        "        cell1_length = cell['length'][0] # l0 of cell, needed in the crowdedness calculation\n",
        "        cell_div_length = cell['length'][idx]\n",
        "        division_lengths.append(cell_div_length)\n",
        "        for cnb2 in colony:\n",
        "          cell2 = lin.cells[cnb2]\n",
        "          if cell['id'] != cell2['id'] and frame_no in cell2['frames']:\n",
        "            idx2 = cell2['frames'].index(frame_no)\n",
        "            npole2 = cell2['new_pole'][idx2]\n",
        "            opole2 = cell2['old_pole'][idx2]\n",
        "            cell2_centre = get_centre(npole2, opole2)\n",
        "            # get distance between the two centre points \n",
        "            cell_dist = get_cell_dist(cell1_centre, cell2_centre)\n",
        "            crowd_pair = get_crowd_2(cell_dist, cell1_length)\n",
        "            crowdedness = crowdedness + crowd_pair \n",
        "            # conditions for calculating cell cycle are different, depending if there is only one div or more\n",
        "            daughter_index = daughters.index(daughter)\n",
        "            if len(daughters) > 1 and daughter_index > 0:\n",
        "              prev_daughter = daughters[daughter_index-1]\n",
        "              # print(daughter, prev_daughter)\n",
        "              div_cycle = frame_no - cell['frames'][prev_daughter]\n",
        "            else:\n",
        "              div_cycle = frame_no - cell['frames'][0]\n",
        "            div_cycle_lengths.append(div_cycle)\n",
        "            total_crowdedness.append(crowdedness)\n",
        "\n",
        "    plot = plt.scatter(total_crowdedness, div_cycle_lengths)\n",
        "    plt.xlabel('Crowdedness at division time')\n",
        "    plt.ylabel('Division cycle length ')\n",
        "  # return crowd_ids, division_lengths, total_crowdedness, div_cycle_lengths , plot\n",
        "  return plot\n",
        "\n",
        "crowdedness_col(colony_clean)\n"
      ]
    },
    {
      "cell_type": "code",
      "execution_count": null,
      "metadata": {
        "id": "WkExwZkX0JRv"
      },
      "outputs": [],
      "source": [
        "print(lin.cells[158])"
      ]
    },
    {
      "cell_type": "code",
      "execution_count": null,
      "metadata": {
        "id": "3mUQdA9F_uqr"
      },
      "outputs": [],
      "source": [
        "#  Colony clean - basically picking length curves corresponding to cells with specific maxima or minima. \n",
        "# fltering step? \n",
        "\n",
        "colony_clean =[]\n",
        "\n",
        "for cnb in colony: \n",
        "  cell = lin.cells[cnb]\n",
        "  if max(cell['length']) > 40 and min(cell['length']) < 23:\n",
        "    colony_clean.append(cell['id'])\n",
        "  \n",
        "print(colony_clean)"
      ]
    },
    {
      "cell_type": "code",
      "execution_count": null,
      "metadata": {
        "id": "ms1QE0gxoJ5A"
      },
      "outputs": [],
      "source": [
        "\n",
        "import matplotlib.pyplot as plt\n",
        "\n",
        "\n",
        "for cl in colony_clean: \n",
        "  cell = lin.cells[cl]\n",
        "  plt.plot(cell['frames'],cell['length'])\n",
        "\n",
        "plt.xlabel('frame #')\n",
        "plt.ylabel('length (pixels)')\n",
        "plt.show()\n"
      ]
    },
    {
      "cell_type": "code",
      "execution_count": null,
      "metadata": {
        "id": "etNsZwc4rirA"
      },
      "outputs": [],
      "source": [
        "# code to calculate crowdedness during a division event \n",
        "import math\n",
        "\n",
        "def get_centre(npole, opole):\n",
        "  cell_centre = ((npole[0] + opole[0])/2 ,  (npole[1] + opole[1])/2)\n",
        "  return cell_centre\n",
        "\n",
        "def get_cell_dist(centre1, centre2):\n",
        "  # dist = ((centre1[0] + centre2[0])/2 ,  (centre1[1] + centre2[1])/2)\n",
        "  dist = math.sqrt(((centre1[0] - centre2[0])**2 + (centre1[1] - centre2[1])**2))\n",
        "  return dist\n",
        "\n",
        "def get_crowd_2(cell_dist, cell_length):\n",
        "  crowd = math.e**((-cell_dist/cell_length))\n",
        "  return crowd\n",
        "\n",
        "  \n"
      ]
    },
    {
      "cell_type": "code",
      "execution_count": null,
      "metadata": {
        "id": "GMOUOoY24FdG"
      },
      "outputs": [],
      "source": [
        "for cnb in colony: \n",
        "  cell = lin.cells[cnb]\n",
        "  print(cell['id'])\n",
        "  cell1_centre = get_centre(cell)\n",
        "  print(cell1_centre)"
      ]
    },
    {
      "cell_type": "code",
      "execution_count": null,
      "metadata": {
        "id": "BgLMiTF4gE9-"
      },
      "outputs": [],
      "source": [
        "for cnb in colony: \n",
        "  cell = lin.cells[cnb]\n",
        "  daughters = [cell['daughters'].index(daughter) for daughter in cell['daughters'] if daughter is not None]\n",
        "  \n",
        "\n",
        "  print(daughters)"
      ]
    },
    {
      "cell_type": "code",
      "execution_count": null,
      "metadata": {
        "id": "9Z7_vv16nwMA"
      },
      "outputs": [],
      "source": [
        "\n",
        "def crowdedness_col(colony):\n",
        "  # record keeping for plotting later\n",
        "  # cell id \n",
        "  crowd_ids = [] \n",
        "  # total crowdedness at a given timepoint, given by frame number \n",
        "  total_crowdedness = []\n",
        "  # length of div cycle between two given daughters\n",
        "  div_cycle_lengths= []\n",
        "  division_lengths =[]\n",
        "  for cnb in colony: \n",
        "    cell = lin.cells[cnb]\n",
        "    # Line below: for every cell identify the occurrence of every daugther \n",
        "    daughters = [cell['daughters'].index(daughter) for daughter in cell['daughters'] if daughter is not None]\n",
        "    crowdedness = 0 #assign crowdedness to zero initially \n",
        "    crowd_ids.append(cell['id'])\n",
        "    # print(cell['id'])\n",
        "    # print(daughters)\n",
        "    if len(daughters) > 0: #if the cell has divided\n",
        "      for daughter in daughters: \n",
        "        #take care with definition daughter: daughter is the index position in cell in daughter list, when daughter is not none\n",
        "        # this is then converted to a frame number which can be used to compare and calculate distances to other cells in the same frame\n",
        "        idx= daughter-1\n",
        "        frame_no = cell['frames'][idx]\n",
        "        print('frame', frame_no)\n",
        "        npole1 = cell['new_pole'][idx]\n",
        "        opole1 = cell['old_pole'][idx]\n",
        "        # get centre of cell 1 for distance function \n",
        "        cell1_centre = get_centre(npole1, opole1) \n",
        "        cell1_length = cell['length'][0] # l0 of cell, needed in the crowdedness calculation\n",
        "        cell_div_length = cell['length'][idx]\n",
        "        division_lengths.append(cell_div_length)\n",
        "        for cnb2 in colony:\n",
        "          cell2 = lin.cells[cnb2]\n",
        "          if cell['id'] != cell2['id'] and frame_no in cell2['frames']:\n",
        "            idx2 = cell2['frames'].index(frame_no)\n",
        "            npole2 = cell2['new_pole'][idx2]\n",
        "            opole2 = cell2['old_pole'][idx2]\n",
        "            cell2_centre = get_centre(npole2, opole2)\n",
        "            # get distance between the two centre points \n",
        "            cell_dist = get_cell_dist(cell1_centre, cell2_centre)\n",
        "            crowd_pair = get_crowd_2(cell_dist, cell1_length)\n",
        "            crowdedness = crowdedness + crowd_pair \n",
        "            # conditions for calculating cell cycle are different, depending if there is only one div or more\n",
        "            daughter_index = daughters.index(daughter)\n",
        "            if len(daughters) > 1 and daughter_index > 0:\n",
        "              prev_daughter = daughters[daughter_index-1]\n",
        "              print(daughter, prev_daughter)\n",
        "              div_cycle = frame_no - cell['frames'][prev_daughter]\n",
        "            else:\n",
        "              div_cycle = frame_no - cell['frames'][0]\n",
        "            div_cycle_lengths.append(div_cycle)\n",
        "            total_crowdedness.append(crowdedness)\n",
        "\n",
        "    plot = plt.scatter(total_crowdedness, div_cycle_lengths)\n",
        "    plt.xlabel('Crowdedness at division time')\n",
        "    plt.ylabel('Division cycle length ')\n",
        "  # return crowd_ids, division_lengths, total_crowdedness, div_cycle_lengths , plot\n",
        "  return plot, total_crowdedness, crowd_ids \n",
        "\n",
        "crowdedness_col(colony)\n"
      ]
    },
    {
      "cell_type": "code",
      "execution_count": null,
      "metadata": {
        "id": "Z5bu-AIaljly"
      },
      "outputs": [],
      "source": [
        "# get length distribution of divisions for entire population \n",
        "import seaborn as sns\n",
        "import statistics\n",
        "\n",
        "def div_length_distr(cells): \n",
        "  cell_id =[]\n",
        "  pop_div_lengths =[]\n",
        "  for cell in cells:\n",
        "    for daughter in cell['daughters']:\n",
        "        if daughter is not None:\n",
        "          divdot = cell['daughters'].index(daughter)\n",
        "          div_l = divdot - 1 \n",
        "          div_length = cell['length'][div_l]\n",
        "          pop_div_lengths.append(div_length)\n",
        "  ax1 = sns.histplot(pop_div_lengths, bins=30, stat='density', alpha= 1, kde=True,\n",
        "                      edgecolor='white', linewidth=0.5,\n",
        "                      line_kws=dict(color='black', alpha=0.5, linewidth=1.5, label='KDE'))\n",
        "  ax1.get_lines()[0].set_color('black')\n",
        "  mn = statistics.mean(pop_div_lengths)\n",
        "  sd = statistics.stdev(pop_div_lengths)\n",
        "\n",
        "  return ax1 , mn, sd\n",
        "\n",
        "div_length_distr(lin.cells)\n",
        "\n"
      ]
    },
    {
      "cell_type": "code",
      "execution_count": null,
      "metadata": {
        "id": "DOor2EjNpm-r"
      },
      "outputs": [],
      "source": [
        "def div_time_distr(cells): \n",
        "  cell_id =[]\n",
        "  pop_div_times =[]\n",
        "  for cell in cells:\n",
        "    daughters = [cell['daughters'].index(daughter) for daughter in cell['daughters'] if daughter is not None]\n",
        "    for daughter in daughters: \n",
        "      daughter_index = daughters.index(daughter)\n",
        "      if len(daughters) > 1 and daughter_index > 0:\n",
        "        prev_daughter = daughters[daughter_index-1]\n",
        "        div_cycle = cell['frames'][daughter] - cell['frames'][prev_daughter]\n",
        "      else:\n",
        "        div_cycle =  cell['frames'][daughter] - cell['frames'][0]\n",
        "      cell_id.append(cell['id'])\n",
        "      pop_div_times.append(div_cycle)\n",
        "    \n",
        "    ax1 = sns.histplot(pop_div_times, bins=100, stat='density', alpha= 1, kde=True,\n",
        "                      edgecolor='white', linewidth=0.5,\n",
        "                      line_kws=dict(color='black', alpha=0.5, linewidth=1.5, label='KDE'))\n",
        "  ax1.get_lines()[0].set_color('black')\n",
        "  mn = statistics.mean(pop_div_times)\n",
        "  sd = statistics.stdev(pop_div_times)\n",
        "\n",
        "  return ax1 , mn, sd \n",
        "\n",
        "div_time_distr(lin.cells)\n",
        "\n"
      ]
    },
    {
      "cell_type": "code",
      "execution_count": null,
      "metadata": {
        "id": "f-hTc_TjuFYO"
      },
      "outputs": [],
      "source": [
        "def div_time_distr_colony(colony): \n",
        "  cell_id =[]\n",
        "  pop_div_times =[]\n",
        "  for cnb in colony: \n",
        "    cell = lin.cells[cnb]\n",
        "    daughters = [cell['daughters'].index(daughter) for daughter in cell['daughters'] if daughter is not None]\n",
        "    for daughter in daughters: \n",
        "      daughter_index = daughters.index(daughter)\n",
        "      if len(daughters) > 1 and daughter_index > 0:\n",
        "        prev_daughter = daughters[daughter_index-1]\n",
        "        div_cycle = cell['frames'][daughter] - cell['frames'][prev_daughter]\n",
        "      else:\n",
        "        div_cycle =  cell['frames'][daughter] - cell['frames'][0]\n",
        "      cell_id.append(cell['id'])\n",
        "      pop_div_times.append(div_cycle)\n",
        "    \n",
        "    ax1 = sns.histplot(pop_div_times, bins=100, stat='density', alpha= 1, kde=True,\n",
        "                      edgecolor='white', linewidth=0.5,\n",
        "                      line_kws=dict(color='black', alpha=0.5, linewidth=1.5, label='KDE'))\n",
        "  ax1.get_lines()[0].set_color('black')\n",
        "  mn = statistics.mean(pop_div_times)\n",
        "  sd = statistics.stdev(pop_div_times)\n",
        "\n",
        "  return ax1 , mn, sd \n",
        "\n",
        "div_time_distr_colony(colony)"
      ]
    },
    {
      "cell_type": "code",
      "execution_count": null,
      "metadata": {
        "id": "rWIFZw9p1-pj"
      },
      "outputs": [],
      "source": [
        "def div_time_scatter(cells): \n",
        "  cell_id =[]\n",
        "  pop_div_times =[]\n",
        "  for cell in cells:\n",
        "    daughters = [cell['daughters'].index(daughter) for daughter in cell['daughters'] if daughter is not None]\n",
        "    for daughter in daughters: \n",
        "      daughter_index = daughters.index(daughter)\n",
        "      if len(daughters) > 1 and daughter_index > 0:\n",
        "        prev_daughter = daughters[daughter_index-1]\n",
        "        div_cycle = cell['frames'][daughter] - cell['frames'][prev_daughter]\n",
        "      else:\n",
        "        div_cycle =  cell['frames'][daughter] - cell['frames'][0]\n",
        "      cell_id.append(cell['id'])\n",
        "      pop_div_times.append(div_cycle)\n",
        "    \n",
        "    plot = plt.scatter(cell_id, pop_div_times)\n",
        "  return plot\n",
        "\n",
        "div_time_scatter(lin.cells)"
      ]
    },
    {
      "cell_type": "markdown",
      "metadata": {
        "id": "BuM3EsOpxArx"
      },
      "source": [
        "## Identifying and plotting slow and fast dividers on real colony data "
      ]
    },
    {
      "cell_type": "code",
      "execution_count": null,
      "metadata": {
        "id": "U0rCB4aRy5_f"
      },
      "outputs": [],
      "source": [
        "\n",
        "def how_crowded(total_crowdedness, crowd_ids):\n",
        "  for i in total_crowdedness: \n",
        "    if i > 4: \n",
        "      crowd_ids[i]\n",
        "      \n"
      ]
    },
    {
      "cell_type": "code",
      "execution_count": null,
      "metadata": {
        "id": "Abi_jb0BEPK_"
      },
      "outputs": [],
      "source": [
        "\n",
        "def how_crowded(total_crowdedness, crowd_ids):\n",
        "  for i in total_crowdedness: \n",
        "    if i > 4: \n",
        "      \n",
        "\n",
        "\n",
        "def which_first(lineage, cell_nb, first_cells):\n",
        "\n",
        "    # Get cell dict:\n",
        "    cell = lineage.cells[cell_nb]\n",
        "\n",
        "    # If orphan or reached one of the first two cells:\n",
        "    if cell['mother'] is None or cell['mother'] in first_cells:\n",
        "        return cell['mother']\n",
        "\n",
        "    # Otherwise go up the lineage tree:\n",
        "    else:\n",
        "        return which_first(lineage, cell['mother'], first_cells)\n",
        "\n",
        "import numpy as np\n",
        "\n",
        "# Last labels frame:\n",
        "labels = processor.positions[0].rois[0].label_stack[-1]\n",
        "\n",
        "# Initialize color image (all light gray)\n",
        "color_image = np.full(\n",
        "    shape=labels.shape+(3,),\n",
        "    fill_value=175,\n",
        "    dtype=np.uint8\n",
        "    )\n",
        "\n",
        "# Go over cells in last frame:\n",
        "for cnb in lin.cellnumbers[-1]:\n",
        "\n",
        "    # Which initial cell is ancestor?\n",
        "    ancestor = which_first(lin, cnb, first_cells)\n",
        "\n",
        "    # Pick color based on ancestor:\n",
        "    if ancestor is None:\n",
        "        if cnb==0:\n",
        "            color=[255,0,0]\n",
        "        elif cnb==1:\n",
        "            color=[0,0,255]\n",
        "        else:\n",
        "            color=[0,0,0]\n",
        "    elif ancestor==0:\n",
        "        color=[200,60,60]\n",
        "    elif ancestor==1:\n",
        "        color=[60,60,200]\n",
        "\n",
        "    # Color in the cell:\n",
        "    for c, val in enumerate(color):\n",
        "        color_image[:,:,c][labels==cnb+1]=val\n",
        "\n",
        "plt.imshow(color_image)\n",
        "plt.show()"
      ]
    },
    {
      "cell_type": "code",
      "execution_count": null,
      "metadata": {
        "id": "TqhexMCS1ehJ"
      },
      "outputs": [],
      "source": [
        "\n",
        " "
      ]
    },
    {
      "cell_type": "code",
      "execution_count": null,
      "metadata": {
        "id": "C8BzZ7ZkKZct"
      },
      "outputs": [],
      "source": []
    },
    {
      "cell_type": "code",
      "execution_count": null,
      "metadata": {
        "id": "w5eMfErtNct4"
      },
      "outputs": [],
      "source": []
    },
    {
      "cell_type": "code",
      "execution_count": null,
      "metadata": {
        "id": "KQgyxuR3JkCe"
      },
      "outputs": [],
      "source": []
    },
    {
      "cell_type": "markdown",
      "metadata": {
        "id": "aaYtD-WM2o7b"
      },
      "source": [
        "Cells with good plots for further analysis: \n",
        "\n",
        "Cell number 1, \n",
        "\n"
      ]
    },
    {
      "cell_type": "code",
      "execution_count": null,
      "metadata": {
        "id": "bZubpYvJfQWG"
      },
      "outputs": [],
      "source": [
        "\n",
        "    \n",
        "\n",
        " \n"
      ]
    },
    {
      "cell_type": "code",
      "execution_count": null,
      "metadata": {
        "id": "ys_qMw9u3Ttg"
      },
      "outputs": [],
      "source": [
        "\n",
        "\n",
        "  "
      ]
    },
    {
      "cell_type": "code",
      "execution_count": null,
      "metadata": {
        "id": "4x5Kjdtv42Xy"
      },
      "outputs": [],
      "source": [
        "pop_div_lengths = []\n",
        "\n",
        "for cell in lin.cells:\n",
        "  if cell['id'] in do7: \n",
        "    for daughter in cell['daughters']:\n",
        "      if daughter is not None:\n",
        "        divdot = cell['daughters'].index(daughter)\n",
        "        div_l = divdot - 1 \n",
        "        div_length = cell['length'][div_l]\n",
        "        pop_div_lengths.append(div_length)\n",
        "    plt.scatter(cell['id'], div_length)\n",
        "    plt.xlabel('cell_id')\n",
        "    plt.ylabel('div_length')\n",
        "\n",
        "\n"
      ]
    },
    {
      "cell_type": "code",
      "execution_count": null,
      "metadata": {
        "id": "Ij_Pn1FO5KEs"
      },
      "outputs": [],
      "source": [
        "pop_div_cycle = []\n",
        "\n",
        "for cell in lin.cells:\n",
        "  for daughter in cell['daughters']:\n",
        "    if daughter is not None:\n",
        "      divdot = cell['daughters'].index(daughter)\n",
        "      div_time = divdot - 1 \n",
        "      div_cycle = len(cell['daughters'][0:div_time])\n",
        "      pop_div_cycle.append(div_cycle)\n",
        "  plt.scatter(cell['id'], div_cycle)\n",
        "  plt.xlabel('cell_id')\n",
        "  plt.ylabel('div_cycle_length(# frames)')\n"
      ]
    },
    {
      "cell_type": "code",
      "execution_count": null,
      "metadata": {
        "id": "cfL0_SEP-H_J"
      },
      "outputs": [],
      "source": [
        "import pandas as pd\n",
        "import matplotlib.pyplot as plt\n",
        "import numpy as np\n",
        "import seaborn as sns\n",
        "from scipy import stats"
      ]
    },
    {
      "cell_type": "code",
      "execution_count": null,
      "metadata": {
        "id": "QGRI1m5O-deA"
      },
      "outputs": [],
      "source": [
        "# DIVISION TIME\n",
        "\n",
        "ax1 = sns.histplot(pop_div_cycle, bins=30, stat='density', alpha= 1, kde=True,\n",
        "                  edgecolor='white', linewidth=0.5,\n",
        "                  line_kws=dict(color='black', alpha=0.5, linewidth=1.5, label='KDE'))\n",
        "ax1.get_lines()[0].set_color('black')\n"
      ]
    },
    {
      "cell_type": "code",
      "execution_count": null,
      "metadata": {
        "id": "UuuCvb8o-wJh"
      },
      "outputs": [],
      "source": [
        "# DIVISION LENGTH (in pixels)\n",
        "\n",
        "ax1 = sns.histplot(pop_div_lengths, bins=30, stat='density', alpha= 1, kde=True,\n",
        "                  edgecolor='white', linewidth=0.5,\n",
        "                  line_kws=dict(color='black', alpha=0.5, linewidth=1.5, label='KDE'))\n",
        "ax1.get_lines()[0].set_color('black')\n",
        "\n"
      ]
    },
    {
      "cell_type": "code",
      "execution_count": null,
      "metadata": {
        "id": "4iKT2fwOCCu8"
      },
      "outputs": [],
      "source": [
        "(sum(pop_div_lengths))/(len(pop))"
      ]
    },
    {
      "cell_type": "code",
      "execution_count": null,
      "metadata": {
        "id": "gZzpmqxxklzp"
      },
      "outputs": [],
      "source": [
        "import numpy as np\n",
        "\n",
        "# Last labels frame:\n",
        "labels = processor.positions[0].rois[0].label_stack[-1]\n",
        "\n",
        "do7 = []\n",
        "for cell in lin.cells:\n",
        "  if cell['mother'] == 1:\n",
        "    do7.append(cell['id'])\n",
        "  if cell['mother'] in do7:\n",
        "    do7.append(cell['id'])\n",
        "  \n",
        "       \n",
        "print(len(do7))\n",
        "\n",
        "# Last labels frame:\n",
        "labels = processor.positions[0].rois[0].label_stack[-1]\n",
        "\n",
        "# Initialize color image (all light gray)\n",
        "color_image = np.full(\n",
        "    shape=labels.shape+(3,),\n",
        "    fill_value=175,\n",
        "    dtype=np.uint8\n",
        "    )\n",
        "\n",
        "\n",
        "for cnb in lin.cellnumbers[-1]:\n",
        "  if cnb in do7:\n",
        "    color=[60,60,200]\n",
        "  else: \n",
        "    color =[255,0,0]\n",
        "\n",
        "for c, val in enumerate(color):\n",
        "      color_image[:,:,c][labels==cnb+1]=val\n",
        "\n",
        "plt.imshow(color_image)\n",
        "plt.show()\n",
        "\n",
        "\n",
        "\n",
        "\n"
      ]
    },
    {
      "cell_type": "code",
      "execution_count": null,
      "metadata": {
        "id": "NQr-qU1M3Gpz"
      },
      "outputs": [],
      "source": [
        "def which_first(lineage, cell_nb, first_cells):\n",
        "\n",
        "    # Get cell dict:\n",
        "    cell = lineage.cells[cell_nb]\n",
        "\n",
        "    # If orphan or reached one of the first two cells:\n",
        "    if cell['mother'] is None or cell['mother'] in first_cells:\n",
        "        return cell['mother']\n",
        "\n",
        "    # Otherwise go up the lineage tree:\n",
        "    else:\n",
        "        return which_first(lineage, cell['mother'], first_cells)\n",
        "\n",
        "\n",
        "import numpy as np\n",
        "\n",
        "# Last labels frame:\n",
        "labels = processor.positions[0].rois[0].label_stack[-1]\n",
        "\n",
        "# Initialize color image (all light gray)\n",
        "color_image = np.full(\n",
        "    shape=labels.shape+(3,),\n",
        "    fill_value=175,\n",
        "    dtype=np.uint8\n",
        "    )\n",
        "\n",
        "# Go over cells in last frame:\n",
        "for cnb in lin.cellnumbers[-1]:\n",
        "\n",
        "    # Which initial cell is ancestor?\n",
        "\n",
        "    # Pick color based on ancestor:\n",
        "    if ancestor is None:\n",
        "        if cnb==0:\n",
        "            color=[255,0,0]\n",
        "        \n",
        "        color=[60,60,200]\n",
        "\n",
        "    # Color in the cell:\n",
        "    for c, val in enumerate(color):\n",
        "        color_image[:,:,c][labels==cnb+1]=val\n",
        "\n",
        "plt.imshow(color_image)\n",
        "plt.show()"
      ]
    },
    {
      "cell_type": "code",
      "execution_count": null,
      "metadata": {
        "id": "Mww73HDwqYwr"
      },
      "outputs": [],
      "source": [
        "\n",
        "def which_first(lineage, cell_nb, first_cells):\n",
        "\n",
        "    # Get cell dict:\n",
        "    cell = lineage.cells[cell_nb]\n",
        "\n",
        "    # If orphan or reached one of the first two cells:\n",
        "    if cell['mother'] is None or cell['mother'] in first_cells:\n",
        "        return cell['mother']\n",
        "\n",
        "    # Otherwise go up the lineage tree:\n",
        "    else:\n",
        "        return which_first(lineage, cell['mother'], first_cells)"
      ]
    },
    {
      "cell_type": "code",
      "execution_count": null,
      "metadata": {
        "id": "N2M_xA5u2Y0W"
      },
      "outputs": [],
      "source": [
        "cell = lineage.cells[cell_nb]"
      ]
    },
    {
      "cell_type": "code",
      "execution_count": null,
      "metadata": {
        "id": "tsliLk1ylrM1"
      },
      "outputs": [],
      "source": [
        "pos = delta.pipeline.Position(None,None,None)\n",
        "pos.load('/content/gdrive/MyDrive/A_Gm_Rep1_Ph_run/eval_movie_A_Gm_Rep1/Position000000.pkl')\n",
        "\n",
        "# pos = delta.pipeline.load_position('/content/gdrive/MyDrive/A_Gm_Rep1_Ph_run/eval_movie_A_Gm_Rep1/Position000000.pkl')"
      ]
    },
    {
      "cell_type": "code",
      "execution_count": null,
      "metadata": {
        "id": "5UCm5CZYrfHw"
      },
      "outputs": [],
      "source": [
        "lin = processor.positions[0].rois[0].lineage"
      ]
    },
    {
      "cell_type": "code",
      "execution_count": null,
      "metadata": {
        "id": "zVPKKBwYo5EF"
      },
      "outputs": [],
      "source": [
        "reader = delta.utilities.xpreader(delta.config.eval_movie)\n",
        "processor = delta.pipeline.Pipeline(reader, reload=True)"
      ]
    },
    {
      "cell_type": "code",
      "execution_count": null,
      "metadata": {
        "id": "AV1EwxUYn2Vs"
      },
      "outputs": [],
      "source": [
        "file = 'gdrive/MyDrive/A_Gm_Rep1_Ph_run/eval_movie_A_Gm_rep1/Position000000.mat'\n",
        "file"
      ]
    },
    {
      "cell_type": "markdown",
      "metadata": {
        "id": "XMS3nYBSWzzU"
      },
      "source": [
        "\n",
        "## **Running a pipeline : see cell below**\n"
      ]
    },
    {
      "cell_type": "code",
      "execution_count": null,
      "metadata": {
        "id": "qIEtl1tZknU0"
      },
      "outputs": [],
      "source": [
        "# this is to run a pipeline \n",
        "\n",
        "import shutil\n",
        "import glob\n",
        "import os\n",
        "\n",
        "#Possible way to automate\n",
        "#files = os.listdir(directory name here)\n",
        "#stem = directory name here\n",
        "#for f in files:\n",
        "  #f = stem + f\n",
        "  # do something\n",
        "\n",
        "\n",
        "\n",
        "# Load the appropriate config:\n",
        "delta.config.load_config(presets='2D')\n",
        "\n",
        "#these two lines might fix tracking issues:\n",
        "delta.config.drift_correction = True\n",
        "delta.config.whole_frame_drift = True\n",
        "\n",
        "# Path to your file and results folder in your google drive:\n",
        "filename = '/content/gdrive/MyDrive/A_Gm_Rep1_Ph_run/A_Gm_Rep1.zip'\n",
        "results_folder = '/content/gdrive/MyDrive/A_Gm_Rep1_Ph_run/A_Gm_Rep1_eval_movie2/' \n",
        "\n",
        "\n",
        "# Extract zip\"\n",
        "extract_folder = '/A_Gm_Rep1_Ph_run/unzipped2'\n",
        "shutil.unpack_archive(filename, extract_folder, \"zip\")\n",
        "\n",
        "# Init:\n",
        "reader = delta.utilities.xpreader(extract_folder)\n",
        "sequence_ppln = delta.pipeline.Pipeline(reader, resfolder='./local_results/')\n",
        "\n",
        "# Run:\n",
        "sequence_ppln.process()\n",
        "\n",
        "# copy output files to drive:\n",
        "for res_file in glob.glob(str(sequence_ppln.resfolder)+ '/*'):\n",
        "    shutil.copy(res_file, results_folder)\n"
      ]
    },
    {
      "cell_type": "markdown",
      "metadata": {
        "id": "MoRkA38cYyoC"
      },
      "source": [
        "Extra imports and misc function definitions:"
      ]
    },
    {
      "cell_type": "code",
      "execution_count": null,
      "metadata": {
        "id": "P9fmi-T7YwyD"
      },
      "outputs": [],
      "source": [
        "# To download files to your local drive:\n",
        "from google.colab.files import download as colab_download\n",
        "from google.colab.files import upload as colab_upload\n",
        "\n",
        "# To display resuults movies:\n",
        "from IPython.display import HTML\n",
        "from base64 import b64encode\n",
        "\n",
        "def display_movie(filename):\n",
        "  mp4 = open(filename,'rb').read()\n",
        "  data_url = \"data:video/mp4;base64,\" + b64encode(mp4).decode()\n",
        "  return HTML(\"\"\"\n",
        "  <video width=600 controls>\n",
        "        <source src=\"%s\" type=\"video/mp4\">\n",
        "  </video>\n",
        "  \"\"\" % data_url\n",
        "  )"
      ]
    },
    {
      "cell_type": "markdown",
      "metadata": {
        "id": "PhfqaWiPNQrl"
      },
      "source": [
        "# Process sequence folder:\n",
        "\n",
        "Here we will use the private function _download_and_unzip() to retrieve a zipped\n",
        "image sequence folder, read it with an xpreader object, and process it with the main DeLTA Pipeline:\n",
        "\n",
        "> *The following example will take about 20 minutes to run. For a shorter demonstration comment ppln.process() and uncomment the last line*"
      ]
    },
    {
      "cell_type": "code",
      "execution_count": null,
      "metadata": {
        "id": "WZTj0OWuVSmJ"
      },
      "outputs": [],
      "source": [
        "# First load 2D config:\n",
        "delta.config.load_config(presets='2D')\n",
        "\n",
        "# Download movie sequence (you can replace this with your own zip's ID)\n",
        "google_drive_ID = '1PpAGwKF5nQnVmwYg2ww5fXPLMLZecah_' # This can be extracted from the URL of any publically available gdrive file\n",
        "temporary_zip = '/content/tmp.zip'\n",
        "extract_folder = '/content/eval_movie_folder/'\n",
        "delta.assets._download_and_unzip(\n",
        "    google_drive_ID,\n",
        "    temporary_zip,\n",
        "    extract_folder\n",
        ")\n",
        "\n",
        "# Init xpreader:\n",
        "# (make sure you update prototype parameters if you use your own movie)\n",
        "reader = delta.utilities.xpreader(\n",
        "    extract_folder,\n",
        "    prototype='movie_tifs/pos%01dcha%01dfra%06d.tif',\n",
        "    fileorder='pct',\n",
        "    filenamesindexing=1\n",
        ")\n",
        "\n",
        "# Print experiment parameters to make sure it initialized properly:\n",
        "print(\"\"\"Initialized experiment reader:\n",
        "    - %d positions\n",
        "    - %d imaging channels\n",
        "    - %d timepoints\"\"\"%(reader.positions, reader.channels, reader.timepoints)\n",
        ")\n",
        "\n",
        "# Init Pipeline:\n",
        "ppln = delta.pipeline.Pipeline(reader)\n",
        "\n",
        "# Run it (~20 min):\n",
        "ppln.process()\n",
        "\n",
        "# Or you can run a subset of frames (5min):\n",
        "#ppln.process(frames=list(range(15)))"
      ]
    },
    {
      "cell_type": "code",
      "execution_count": null,
      "metadata": {
        "id": "RPDdeQh3X9AZ"
      },
      "outputs": [],
      "source": [
        "# Display output movie:\n",
        "display_movie(ppln.resfolder / \"Position000000.mp4\")"
      ]
    },
    {
      "cell_type": "code",
      "execution_count": null,
      "metadata": {
        "id": "meYwLw0HYVSX"
      },
      "outputs": [],
      "source": [
        "# Download result files to your own computer:\n",
        "colab_download(ppln.resfolder / 'Position000000.mat')"
      ]
    },
    {
      "cell_type": "markdown",
      "metadata": {
        "id": "6YExa5cuaKOH"
      },
      "source": [
        "# Process Bio-Formats file:\n",
        "\n",
        "Here we will process a subset of positions on an nd2 file of a mother machine movie."
      ]
    },
    {
      "cell_type": "code",
      "execution_count": null,
      "metadata": {
        "id": "4XKBGwIjaJoK"
      },
      "outputs": [],
      "source": [
        "# First load mothermachine config:\n",
        "delta.config.load_config(presets='mothermachine')\n",
        "\n",
        "# Download movie sequence (you can replace this with your own file's ID)\n",
        "google_drive_ID = '1YEvhkNB2lWOGFAuG1bmV7ZcwFE1FiDaR' # This can be extracted from the URL of any publically available gdrive file\n",
        "filename = '/content/eval_movie_moma.nd2'\n",
        "delta.assets._download_file_from_google_drive(\n",
        "    google_drive_ID,\n",
        "    filename\n",
        ")\n",
        "\n",
        "# Init xpreader:\n",
        "reader = delta.utilities.xpreader(\n",
        "    filename,\n",
        "    use_bioformats=True\n",
        ")\n",
        "\n",
        "# Print experiment parameters to make sure it initialized properly:\n",
        "print(\"\"\"Initialized experiment reader:\n",
        "    - %d positions\n",
        "    - %d imaging channels\n",
        "    - %d timepoints\"\"\"%(reader.positions, reader.channels, reader.timepoints)\n",
        ")\n",
        "\n",
        "# Init Pipeline:\n",
        "ppln = delta.pipeline.Pipeline(reader)\n",
        "\n",
        "# Run it (~20 min):\n",
        "ppln.process(positions=[2,3,5])"
      ]
    },
    {
      "cell_type": "code",
      "execution_count": null,
      "metadata": {
        "id": "7S3y-2d-ceVy"
      },
      "outputs": [],
      "source": []
    },
    {
      "cell_type": "code",
      "execution_count": null,
      "metadata": {
        "id": "X8QolDdZelzv"
      },
      "outputs": [],
      "source": [
        "# Display output movie:\n",
        "display_movie(ppln.resfolder / 'Position000003.mp4')"
      ]
    },
    {
      "cell_type": "code",
      "execution_count": null,
      "metadata": {
        "id": "vRW0aBeie51H"
      },
      "outputs": [],
      "source": [
        "# Zip all results and download:\n",
        "from zipfile import ZipFile\n",
        "import glob\n",
        "\n",
        "with ZipFile('results_files.zip', 'w') as myzip:\n",
        "    for res_file in glob.glob(str(ppln.resfolder) + '/*'):\n",
        "        print('zipping %s'%res_file)\n",
        "        myzip.write(res_file)\n",
        "\n",
        "colab_download('results_files.zip')"
      ]
    },
    {
      "cell_type": "markdown",
      "metadata": {
        "id": "hK4qqaZmfpnT"
      },
      "source": [
        "# Process file from your google drive directly\n",
        "\n",
        "Here is an example of how you can mount your own google drive, process a file in there (or potentially several), and directly get your results back in your google drive when they are ready. Before executing \n",
        "this cell, please mount your google drive through the files tab on the left"
      ]
    },
    {
      "cell_type": "code",
      "execution_count": null,
      "metadata": {
        "id": "EPemg7t2ev1T"
      },
      "outputs": [],
      "source": [
        "import shutil\n",
        "import glob\n",
        "\n",
        "# Load the appropriate config:\n",
        "delta.config.load_config(presets='2D')\n",
        "\n",
        "# Mount path:\n",
        "drive_path = '/content/drive/MyDrive'\n",
        "\n",
        "# Path to your file and results folder in your google drive:\n",
        "filename = '/path/to/file/in/my/drive.nd2'\n",
        "results_folder = '/path/to/results/folder/in/drive/' # This folder must exist\n",
        "\n",
        "# copy file to local disk to avoid i/o problems:\n",
        "local_file = \"/content/local_file_copy.nd2\"\n",
        "shutil.copy(drive_path+filename, local_file)\n",
        "\n",
        "\n",
        "\n",
        "# Init:\n",
        "reader = delta.utilities.xpreader(local_file, use_bioformats=True)\n",
        "sequence_ppln = delta.pipeline.Pipeline(reader, resfolder='./local_results/')\n",
        "\n",
        "# Run:\n",
        "sequence_ppln.process(positions=[0,1], frames=list(range(30)))\n",
        "\n",
        "# copy output files to drive:\n",
        "for res_file in glob.glob(str(sequence_ppln.resfolder) + '/*'):\n",
        "    shutil.copy(res_file, drive_path+results_folder)"
      ]
    },
    {
      "cell_type": "markdown",
      "metadata": {
        "id": "GBYeG_Jwa7tm"
      },
      "source": [
        "# Training new models\n",
        "\n",
        "You can download training sets and run our modified training\n",
        "scripts as well. However bear in mind that you might run into google Colab's resource limits"
      ]
    },
    {
      "cell_type": "markdown",
      "metadata": {
        "id": "zUzNNGWBbv6m"
      },
      "source": [
        "Here, we are going to show an example to retrain the segmentation model for the 2D case\n",
        "\n",
        "First, download our segmentation training set (or your own training set if you made one):"
      ]
    },
    {
      "cell_type": "code",
      "execution_count": null,
      "metadata": {
        "id": "QukqoUtbbutk"
      },
      "outputs": [],
      "source": [
        "# Download movie sequence (you can replace this with your own zip's ID)\n",
        "google_drive_ID = '1sWWkIDjIf77KwddHZgX64f8_LxV7hQx_' # This can be extracted from the URL of any publically available gdrive file\n",
        "temporary_zip = '/content/tmp.zip'\n",
        "extract_folder = '/content/trainging_set/'\n",
        "delta.assets._download_and_unzip(\n",
        "    google_drive_ID,\n",
        "    temporary_zip,\n",
        "    extract_folder\n",
        ")"
      ]
    },
    {
      "cell_type": "markdown",
      "metadata": {
        "id": "tHnlmrlHgRLh"
      },
      "source": [
        "We then copy the example segmentation training script from the\n",
        "gitlab and simply change the training set path:"
      ]
    },
    {
      "cell_type": "code",
      "execution_count": null,
      "metadata": {
        "id": "ypgkPAhFQXUg"
      },
      "outputs": [],
      "source": [
        "import os\n",
        "\n",
        "from tensorflow.keras.callbacks import ModelCheckpoint, EarlyStopping\n",
        "\n",
        "from delta.utilities import cfg\n",
        "from delta.model import unet_seg\n",
        "from delta.data import trainGenerator_seg\n",
        "\n",
        "# Load config:\n",
        "cfg.load_config(presets='2D')\n",
        "\n",
        "# Files:\n",
        "# Point to extracted folder:\n",
        "training_set = extract_folder+'/training/segmentation_set'\n",
        "# Overwrite seg model:\n",
        "savefile = cfg.model_file_seg\n",
        "\n",
        "# Training parameters:\n",
        "batch_size = 4\n",
        "epochs = 600\n",
        "steps_per_epoch = 300\n",
        "patience = 50\n",
        "\n",
        "#Data generator parameters:\n",
        "data_gen_args = dict(\n",
        "    rotation = 2,\n",
        "    rotations_90d = True,\n",
        "    zoom=.15,\n",
        "    horizontal_flip=True,\n",
        "    vertical_flip=True,\n",
        "    histogram_voodoo=True,\n",
        "    illumination_voodoo=True,\n",
        "    gaussian_noise = 0.03,\n",
        "    gaussian_blur = 1\n",
        "    )\n",
        "\n",
        "# Generator init:\n",
        "myGene = trainGenerator_seg(\n",
        "    batch_size,\n",
        "    os.path.join(training_set,'img'),\n",
        "    os.path.join(training_set,'seg'),\n",
        "    os.path.join(training_set,'wei'),\n",
        "    augment_params = data_gen_args,\n",
        "    target_size = cfg.target_size_seg,\n",
        "    crop_windows = cfg.crop_windows\n",
        "    )\n",
        "\n",
        "# Define model:\n",
        "model = unet_seg(input_size = cfg.target_size_seg+(1,))\n",
        "model.summary()\n",
        "\n",
        "# Callbacks:\n",
        "model_checkpoint = ModelCheckpoint(\n",
        "    savefile, monitor='loss', verbose=2, save_best_only=True\n",
        "    )\n",
        "early_stopping = EarlyStopping(\n",
        "    monitor='loss', mode='min', verbose=2, patience=patience\n",
        "    )\n",
        "\n",
        "# Train:\n",
        "history = model.fit(\n",
        "    myGene,\n",
        "    steps_per_epoch=steps_per_epoch,\n",
        "    epochs=epochs,\n",
        "    callbacks=[model_checkpoint, early_stopping]\n",
        "    )\n"
      ]
    },
    {
      "cell_type": "markdown",
      "metadata": {
        "id": "OQnSJkICgpGZ"
      },
      "source": [
        "You can now evaluate performance by using one of the methods described above, or run a simple segmentation prediction on our test data:\n"
      ]
    },
    {
      "cell_type": "code",
      "execution_count": null,
      "metadata": {
        "id": "WKmC_Utrg5Tl"
      },
      "outputs": [],
      "source": [
        "import glob\n",
        "import matplotlib.pyplot as plt\n",
        "import numpy as np\n",
        "import cv2\n",
        "from IPython import display\n",
        "\n",
        "files_folder = '/content/delta/tests/data/movie_tif/'\n",
        "images = glob.glob(files_folder+'/*.tif')\n",
        "images.sort()\n",
        "\n",
        "# Load weights from file:\n",
        "model.load_weights(savefile)\n",
        "\n",
        "for filename in images:\n",
        "    \n",
        "    # Read image:\n",
        "    I = cv2.imread(filename, cv2.IMREAD_ANYDEPTH)\n",
        "    # Rescale to 0-1:\n",
        "    I = (I.astype(np.float32)-np.min(I))/np.ptp(I)\n",
        "    # Run prediction:\n",
        "    y = model.predict(I[np.newaxis,:,:,np.newaxis])\n",
        "    # Display output:\n",
        "    plt.imshow(y[0,:,:,0])\n",
        "    display.display(plt.gcf())\n",
        "    display.clear_output(wait=True)"
      ]
    }
  ],
  "metadata": {
    "accelerator": "GPU",
    "colab": {
      "collapsed_sections": [
        "SEGZSjKnIbRa",
        "ERfp5ZfXws5K",
        "2JaJYqnrX5rQ",
        "PhfqaWiPNQrl"
      ],
      "name": "A_Iesenfeld_Delta.ipynb",
      "provenance": [],
      "include_colab_link": true
    },
    "kernelspec": {
      "display_name": "Python 3",
      "name": "python3"
    },
    "language_info": {
      "name": "python"
    },
    "gpuClass": "standard"
  },
  "nbformat": 4,
  "nbformat_minor": 0
}